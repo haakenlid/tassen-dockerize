{
 "cells": [
  {
   "cell_type": "code",
   "execution_count": 1,
   "metadata": {
    "collapsed": false,
    "deletable": true,
    "editable": true
   },
   "outputs": [],
   "source": [
    "from io import BytesIO\n",
    "\n",
    "from IPython.core import display\n",
    "from PIL import Image\n",
    "\n",
    "# Installed apps\n",
    "from PyPDF2 import PdfFileReader\n",
    "from sorl.thumbnail import ImageField\n",
    "from wand.image import Image as WandImage\n",
    "from wand.color import Color\n",
    "import os.path\n",
    "# Project apps\n",
    "\n",
    "def display_pil_image(im):\n",
    "   \"\"\"Displayhook function for PIL Images, rendered as PNG.\"\"\"\n",
    "\n",
    "   b = BytesIO()\n",
    "   im.save(b, format='png')\n",
    "   data = b.getvalue()\n",
    "   ip_img = display.Image(data=data, format='png', embed=True)\n",
    "   return ip_img._repr_png_()\n",
    "\n",
    "\n",
    "# register display func with PNG formatter:\n",
    "png_formatter = get_ipython().display_formatter.formatters['image/png']\n",
    "dpi = png_formatter.for_type(Image.Image, display_pil_image)"
   ]
  },
  {
   "cell_type": "code",
   "execution_count": 2,
   "metadata": {
    "collapsed": false,
    "deletable": true,
    "editable": true
   },
   "outputs": [],
   "source": [
    "import os\n",
    "from glob import glob\n",
    "from datetime import datetime\n",
    "from django.conf import settings\n",
    "from django.core.files.base import ContentFile\n",
    "from apps.issues.models import PrintIssue, current_issue\n",
    "\n",
    "PDF_STAGING = os.path.join(settings.STAGING_ROOT, 'STAGING', 'PDF')\n",
    "PDF_FOLDER = os.path.join(settings.STAGING_ROOT, 'pdf')\n",
    "FILENAME_PATTERN = 'universitas_{issue.date.year}-{issue.number}{suffix}.pdf'\n",
    "\n",
    "def get_staging_pdf_files(magazine='1'):\n",
    "    globpattern = '{folder}/UNI1{version}VER*.pdf'.format(\n",
    "        folder=PDF_STAGING,\n",
    "        version=magazine,\n",
    "    )\n",
    "    all_files = glob(globpattern)\n",
    "    new_files = []\n",
    "    for pdf_file in all_files:\n",
    "        age = datetime.now() - \\\n",
    "            datetime.fromtimestamp(os.path.getctime(pdf_file))\n",
    "        if age.days > 4:\n",
    "            os.remove(pdf_file)\n",
    "        else:\n",
    "            new_files.append(pdf_file)\n",
    "    return sorted(new_files)\n",
    "\n",
    "pdf_files = get_staging_pdf_files()"
   ]
  },
  {
   "cell_type": "code",
   "execution_count": 3,
   "metadata": {
    "collapsed": false,
    "deletable": true,
    "editable": true
   },
   "outputs": [
    {
     "name": "stdout",
     "output_type": "stream",
     "text": [
      "[]\n"
     ]
    }
   ],
   "source": [
    "import subprocess\n",
    "import os\n",
    "import hashlib\n",
    "import tempfile\n",
    "\n",
    "def hash_file(filepath, blocksize=65536):\n",
    "    \"\"\"Hexadecimal sha256 hash of a file stored on local disk\"\"\"\n",
    "    hasher = hashlib.sha256()\n",
    "    with open(filepath, 'rb') as source:\n",
    "        buf = source.read(blocksize)\n",
    "        while len(buf) > 0:\n",
    "            hasher.update(buf)\n",
    "            buf = source.read(blocksize)\n",
    "    return hasher.hexdigest()\n",
    "\n",
    "\n",
    "def tmp_file(filepath):\n",
    "    tmp_dir = tempfile.gettempdir()\n",
    "    filename = os.path.join(\n",
    "        tmp_dir, \n",
    "        hash_file(filepath) + '.' +\n",
    "        os.path.basename(filepath),\n",
    "    )\n",
    "    return filename\n",
    "\n",
    "def optimize_page(input_file):\n",
    "    \"\"\"Compress images and convert to rgb\"\"\"\n",
    "    output_file = tmp_file(input_file)\n",
    "    binary = '/usr/bin/gs'\n",
    "    args = [\n",
    "        binary,\n",
    "        '-dColorConversionStrategy=/sRGB',\n",
    "        '-dColorConversionStrategyForImages=/sRGB',\n",
    "        '-dBATCH',\n",
    "        '-dNOPAUSE',\n",
    "        '-sDEVICE=pdfwrite',\n",
    "        '-dConvertCMYKImagesToRGB=true',\n",
    "        '-dDownsampleColorImages=true',\n",
    "        '-dDownsampleGrayImages=true',\n",
    "        '-dDownsampleMonoImages=true',\n",
    "        '-dColorImageResolution=120',\n",
    "        '-dGrayImageResolution=120',\n",
    "        '-dMonoImageResolution=120',\n",
    "        '-o', output_file,\n",
    "        input_file,\n",
    "    ]\n",
    "    if not os.path.exists(output_file):\n",
    "        subprocess.run(args)\n",
    "    return output_file\n",
    "\n",
    "pages = [optimize_page(pdf) for pdf in pdf_files]\n",
    "print(pages) "
   ]
  },
  {
   "cell_type": "code",
   "execution_count": 4,
   "metadata": {
    "collapsed": false,
    "deletable": true,
    "editable": true
   },
   "outputs": [],
   "source": [
    "# from IPython.display import Image\n",
    "# from wand.exceptions import BlobError\n",
    "# from wand.drawing import Drawing\n",
    "from PyPDF2 import PdfFileWriter, PdfFileReader\n",
    "from io import BytesIO\n",
    "from wand.image import Image as WandImage\n",
    "# from wand.color import Color\n",
    "from PyPDF2 import PdfFileWriter, PdfFileReader\n",
    "\n",
    "def pdf_to_wandimage(pdf):\n",
    "    reader = PdfFileReader(pdf)\n",
    "    writer = PdfFileWriter()\n",
    "    writer.addPage(reader.getPage(0))\n",
    "    outputStream = BytesIO()\n",
    "    writer.write(outputStream)\n",
    "    outputStream.seek(0)\n",
    "    img = WandImage(blob=outputStream, format='pdf', resolution=50)\n",
    "    return img\n",
    "\n",
    "def pdf_to_png(pdf_page):\n",
    "    folder = './img'\n",
    "    os.makedirs(folder, exist_ok=True)\n",
    "    filename = os.path.join(\n",
    "        folder, os.path.basename(pdf_page) + '.png')\n",
    "    print(filename)\n",
    "    if not os.path.exists(filename):\n",
    "        img = pdf_to_wandimage(pdf_page)\n",
    "        img.save(filename=filename)\n",
    "    return filename\n",
    "    \n",
    "images = [pdf_to_png(pdf) for pdf in pages]"
   ]
  },
  {
   "cell_type": "code",
   "execution_count": 5,
   "metadata": {
    "collapsed": false,
    "deletable": true,
    "editable": true,
    "scrolled": false
   },
   "outputs": [
    {
     "data": {
      "text/html": [],
      "text/plain": [
       "<IPython.core.display.HTML object>"
      ]
     },
     "execution_count": 5,
     "metadata": {},
     "output_type": "execute_result"
    }
   ],
   "source": [
    "from IPython.display import HTML\n",
    "html = '\\n'.join('<img src={} style=\"display: inline-block; width: 20%;\" />'.format(fn) for fn in images)\n",
    "HTML(html)\n"
   ]
  },
  {
   "cell_type": "code",
   "execution_count": 6,
   "metadata": {
    "collapsed": false,
    "deletable": true,
    "editable": true
   },
   "outputs": [
    {
     "ename": "FileNotFoundError",
     "evalue": "[Errno 2] No such file or directory: '/usr/bin/gs'",
     "output_type": "error",
     "traceback": [
      "\u001b[0;31m---------------------------------------------------------------------------\u001b[0m",
      "\u001b[0;31mFileNotFoundError\u001b[0m                         Traceback (most recent call last)",
      "\u001b[0;32m<ipython-input-6-14c5f6d87f63>\u001b[0m in \u001b[0;36m<module>\u001b[0;34m()\u001b[0m\n\u001b[1;32m     29\u001b[0m \u001b[0;34m\u001b[0m\u001b[0m\n\u001b[1;32m     30\u001b[0m \u001b[0mfilename\u001b[0m \u001b[0;34m=\u001b[0m \u001b[0mmerge_pages\u001b[0m\u001b[0;34m(\u001b[0m\u001b[0mpages\u001b[0m\u001b[0;34m)\u001b[0m\u001b[0;34m\u001b[0m\u001b[0m\n\u001b[0;32m---> 31\u001b[0;31m \u001b[0moptimize_pdf\u001b[0m\u001b[0;34m(\u001b[0m\u001b[0mfilename\u001b[0m\u001b[0;34m)\u001b[0m\u001b[0;34m\u001b[0m\u001b[0m\n\u001b[0m",
      "\u001b[0;32m<ipython-input-6-14c5f6d87f63>\u001b[0m in \u001b[0;36moptimize_pdf\u001b[0;34m(pdf)\u001b[0m\n\u001b[1;32m     25\u001b[0m         \u001b[0mpdf\u001b[0m\u001b[0;34m,\u001b[0m\u001b[0;34m\u001b[0m\u001b[0m\n\u001b[1;32m     26\u001b[0m     ]\n\u001b[0;32m---> 27\u001b[0;31m     \u001b[0mresult\u001b[0m \u001b[0;34m=\u001b[0m \u001b[0msubprocess\u001b[0m\u001b[0;34m.\u001b[0m\u001b[0mrun\u001b[0m\u001b[0;34m(\u001b[0m\u001b[0margs\u001b[0m\u001b[0;34m)\u001b[0m\u001b[0;34m\u001b[0m\u001b[0m\n\u001b[0m\u001b[1;32m     28\u001b[0m     \u001b[0mprint\u001b[0m\u001b[0;34m(\u001b[0m\u001b[0mresult\u001b[0m\u001b[0;34m)\u001b[0m\u001b[0;34m\u001b[0m\u001b[0m\n\u001b[1;32m     29\u001b[0m \u001b[0;34m\u001b[0m\u001b[0m\n",
      "\u001b[0;32m/usr/local/lib/python3.5/subprocess.py\u001b[0m in \u001b[0;36mrun\u001b[0;34m(input, timeout, check, *popenargs, **kwargs)\u001b[0m\n\u001b[1;32m    381\u001b[0m         \u001b[0mkwargs\u001b[0m\u001b[0;34m[\u001b[0m\u001b[0;34m'stdin'\u001b[0m\u001b[0;34m]\u001b[0m \u001b[0;34m=\u001b[0m \u001b[0mPIPE\u001b[0m\u001b[0;34m\u001b[0m\u001b[0m\n\u001b[1;32m    382\u001b[0m \u001b[0;34m\u001b[0m\u001b[0m\n\u001b[0;32m--> 383\u001b[0;31m     \u001b[0;32mwith\u001b[0m \u001b[0mPopen\u001b[0m\u001b[0;34m(\u001b[0m\u001b[0;34m*\u001b[0m\u001b[0mpopenargs\u001b[0m\u001b[0;34m,\u001b[0m \u001b[0;34m**\u001b[0m\u001b[0mkwargs\u001b[0m\u001b[0;34m)\u001b[0m \u001b[0;32mas\u001b[0m \u001b[0mprocess\u001b[0m\u001b[0;34m:\u001b[0m\u001b[0;34m\u001b[0m\u001b[0m\n\u001b[0m\u001b[1;32m    384\u001b[0m         \u001b[0;32mtry\u001b[0m\u001b[0;34m:\u001b[0m\u001b[0;34m\u001b[0m\u001b[0m\n\u001b[1;32m    385\u001b[0m             \u001b[0mstdout\u001b[0m\u001b[0;34m,\u001b[0m \u001b[0mstderr\u001b[0m \u001b[0;34m=\u001b[0m \u001b[0mprocess\u001b[0m\u001b[0;34m.\u001b[0m\u001b[0mcommunicate\u001b[0m\u001b[0;34m(\u001b[0m\u001b[0minput\u001b[0m\u001b[0;34m,\u001b[0m \u001b[0mtimeout\u001b[0m\u001b[0;34m=\u001b[0m\u001b[0mtimeout\u001b[0m\u001b[0;34m)\u001b[0m\u001b[0;34m\u001b[0m\u001b[0m\n",
      "\u001b[0;32m/usr/local/lib/python3.5/subprocess.py\u001b[0m in \u001b[0;36m__init__\u001b[0;34m(self, args, bufsize, executable, stdin, stdout, stderr, preexec_fn, close_fds, shell, cwd, env, universal_newlines, startupinfo, creationflags, restore_signals, start_new_session, pass_fds)\u001b[0m\n\u001b[1;32m    674\u001b[0m                                 \u001b[0mc2pread\u001b[0m\u001b[0;34m,\u001b[0m \u001b[0mc2pwrite\u001b[0m\u001b[0;34m,\u001b[0m\u001b[0;34m\u001b[0m\u001b[0m\n\u001b[1;32m    675\u001b[0m                                 \u001b[0merrread\u001b[0m\u001b[0;34m,\u001b[0m \u001b[0merrwrite\u001b[0m\u001b[0;34m,\u001b[0m\u001b[0;34m\u001b[0m\u001b[0m\n\u001b[0;32m--> 676\u001b[0;31m                                 restore_signals, start_new_session)\n\u001b[0m\u001b[1;32m    677\u001b[0m         \u001b[0;32mexcept\u001b[0m\u001b[0;34m:\u001b[0m\u001b[0;34m\u001b[0m\u001b[0m\n\u001b[1;32m    678\u001b[0m             \u001b[0;31m# Cleanup if the child failed starting.\u001b[0m\u001b[0;34m\u001b[0m\u001b[0;34m\u001b[0m\u001b[0m\n",
      "\u001b[0;32m/usr/local/lib/python3.5/subprocess.py\u001b[0m in \u001b[0;36m_execute_child\u001b[0;34m(self, args, executable, preexec_fn, close_fds, pass_fds, cwd, env, startupinfo, creationflags, shell, p2cread, p2cwrite, c2pread, c2pwrite, errread, errwrite, restore_signals, start_new_session)\u001b[0m\n\u001b[1;32m   1280\u001b[0m                             \u001b[0;32melse\u001b[0m\u001b[0;34m:\u001b[0m\u001b[0;34m\u001b[0m\u001b[0m\n\u001b[1;32m   1281\u001b[0m                                 \u001b[0merr_msg\u001b[0m \u001b[0;34m+=\u001b[0m \u001b[0;34m': '\u001b[0m \u001b[0;34m+\u001b[0m \u001b[0mrepr\u001b[0m\u001b[0;34m(\u001b[0m\u001b[0morig_executable\u001b[0m\u001b[0;34m)\u001b[0m\u001b[0;34m\u001b[0m\u001b[0m\n\u001b[0;32m-> 1282\u001b[0;31m                     \u001b[0;32mraise\u001b[0m \u001b[0mchild_exception_type\u001b[0m\u001b[0;34m(\u001b[0m\u001b[0merrno_num\u001b[0m\u001b[0;34m,\u001b[0m \u001b[0merr_msg\u001b[0m\u001b[0;34m)\u001b[0m\u001b[0;34m\u001b[0m\u001b[0m\n\u001b[0m\u001b[1;32m   1283\u001b[0m                 \u001b[0;32mraise\u001b[0m \u001b[0mchild_exception_type\u001b[0m\u001b[0;34m(\u001b[0m\u001b[0merr_msg\u001b[0m\u001b[0;34m)\u001b[0m\u001b[0;34m\u001b[0m\u001b[0m\n\u001b[1;32m   1284\u001b[0m \u001b[0;34m\u001b[0m\u001b[0m\n",
      "\u001b[0;31mFileNotFoundError\u001b[0m: [Errno 2] No such file or directory: '/usr/bin/gs'"
     ]
    }
   ],
   "source": [
    "from PyPDF2 import PdfFileMerger\n",
    "def merge_pages(pages, bundle_file='bundle.pdf'):\n",
    "    merger = PdfFileMerger()\n",
    "    merger.setPageLayout('/TwoPageRight')\n",
    "    for page in pages:\n",
    "        merger.append(page)\n",
    "    merger.write(bundle_file)\n",
    "    return bundle_file\n",
    "\n",
    "    \n",
    "def optimize_pdf(pdf):\n",
    "    \"\"\"Optimize file size for pdf\"\"\"\n",
    "    ghostscript = '/usr/bin/gs'\n",
    "    outfile = 'bundle2.pdf'\n",
    "    args = [\n",
    "        ghostscript,\n",
    "        '-dNOPAUSE',\n",
    "        '-dBATCH',\n",
    "        '-dCompressFonts=true',\n",
    "        '-dSubsetFonts=true',\n",
    "        '-dCompatibilityLevel=1.6',\n",
    "        '-dDetectDuplicateImages=true',\n",
    "        '-sDEVICE=pdfwrite',\n",
    "        '-o', outfile,\n",
    "        pdf,\n",
    "    ]\n",
    "    result = subprocess.run(args)\n",
    "    print(result)\n",
    "\n",
    "filename = merge_pages(pages)\n",
    "optimize_pdf(filename)"
   ]
  },
  {
   "cell_type": "code",
   "execution_count": 23,
   "metadata": {
    "collapsed": true,
    "deletable": true,
    "editable": true
   },
   "outputs": [],
   "source": [
    "import PyPDF2\n"
   ]
  },
  {
   "cell_type": "code",
   "execution_count": 7,
   "metadata": {
    "collapsed": true,
    "deletable": true,
    "editable": true
   },
   "outputs": [],
   "source": [
    "!which ghostscript"
   ]
  },
  {
   "cell_type": "code",
   "execution_count": 8,
   "metadata": {
    "collapsed": true
   },
   "outputs": [],
   "source": [
    "!which gs"
   ]
  },
  {
   "cell_type": "code",
   "execution_count": 9,
   "metadata": {
    "collapsed": false
   },
   "outputs": [
    {
     "name": "stdout",
     "output_type": "stream",
     "text": [
      "gs: not found\r\n"
     ]
    }
   ],
   "source": [
    "!type gs"
   ]
  },
  {
   "cell_type": "code",
   "execution_count": 10,
   "metadata": {
    "collapsed": false
   },
   "outputs": [
    {
     "name": "stdout",
     "output_type": "stream",
     "text": [
      "ghostscript: not found\r\n"
     ]
    }
   ],
   "source": [
    "!type ghostscript"
   ]
  },
  {
   "cell_type": "code",
   "execution_count": 11,
   "metadata": {
    "collapsed": false
   },
   "outputs": [
    {
     "name": "stdout",
     "output_type": "stream",
     "text": [
      "convert is /usr/bin/convert\r\n"
     ]
    }
   ],
   "source": [
    "!type convert"
   ]
  },
  {
   "cell_type": "code",
   "execution_count": 12,
   "metadata": {
    "collapsed": false
   },
   "outputs": [
    {
     "name": "stdout",
     "output_type": "stream",
     "text": [
      "install: missing destination file operand after ‘ghostscript’\r\n",
      "Try 'install --help' for more information.\r\n"
     ]
    }
   ],
   "source": [
    "!install ghostscript"
   ]
  },
  {
   "cell_type": "code",
   "execution_count": null,
   "metadata": {
    "collapsed": true
   },
   "outputs": [],
   "source": []
  }
 ],
 "metadata": {
  "kernelspec": {
   "display_name": "Django Shell-Plus",
   "language": "python",
   "name": "django_extensions"
  },
  "language_info": {
   "codemirror_mode": {
    "name": "ipython",
    "version": 3
   },
   "file_extension": ".py",
   "mimetype": "text/x-python",
   "name": "python",
   "nbconvert_exporter": "python",
   "pygments_lexer": "ipython3",
   "version": "3.5.3"
  }
 },
 "nbformat": 4,
 "nbformat_minor": 0
}
