{
 "cells": [
  {
   "cell_type": "code",
   "execution_count": null,
   "metadata": {
    "collapsed": true
   },
   "outputs": [],
   "source": [
    "import os\n",
    "import boto\n",
    "import hashlib\n",
    "from boto.s3.connection import S3Connection\n",
    "    \n",
    "aws_key_id = settings.AWS_ACCESS_KEY_ID\n",
    "aws_secret_key = settings.AWS_SECRET_ACCESS_KEY\n",
    "aws_host = settings.AWS_S3_HOST\n",
    "\n",
    "conn = S3Connection(\n",
    "    aws_access_key_id=settings.AWS_ACCESS_KEY_ID,\n",
    "    aws_secret_access_key=settings.AWS_SECRET_ACCESS_KEY,\n",
    "    is_secure=settings.\n",
    "    port=None, \n",
    "    proxy=None, \n",
    "    proxy_port=None, \n",
    "    proxy_user=None, \n",
    "    proxy_pass=None, \n",
    "    host=settings.AWS_S3_HOST,\n",
    "    debug=0, \n",
    "    https_connection_factory=None, \n",
    "    calling_format='boto.s3.connection.SubdomainCallingFormat', \n",
    "    path='/', \n",
    "    provider='aws', \n",
    "    #bucket_class=<class 'boto.s3.bucket.Bucket'>, \n",
    "    security_token=None, \n",
    "    suppress_consec_slashes=True, \n",
    "    anon=False, \n",
    "    validate_certs=None, \n",
    "    profile_name=None\n",
    "    )\n",
    "static = conn.get_bucket(settings.AWS_STORAGE_BUCKET_NAME)"
   ]
  },
  {
   "cell_type": "code",
   "execution_count": null,
   "metadata": {
    "collapsed": false
   },
   "outputs": [],
   "source": [
    "def localfile_md5(fname, algorithm=hashlib.md5, blocksize=65536):\n",
    "    \"\"\"Hexadecimal hash of a file\"\"\"\n",
    "    hasher = algorithm()\n",
    "    with open(fname, 'rb') as source:\n",
    "        buffer = source.read(blocksize)\n",
    "        while len(buffer) > 0:\n",
    "            hasher.update(buffer)\n",
    "            buffer = source.read(blocksize)\n",
    "    return hasher.hexdigest()\n",
    "\n",
    "def awsfile_hash(fname, bucket=None):\n",
    "    "
   ]
  },
  {
   "cell_type": "code",
   "execution_count": null,
   "metadata": {
    "collapsed": false
   },
   "outputs": [],
   "source": [
    "for key in static.get_all_keys(max_keys=3):\n",
    "    print(key.BufferSize, key.size, key.name, key.etag)\n",
    "\n",
    "key = static.get_key('media/pdf/universitas_2015-28.pdf')\n",
    "fname = os.path.join('/tmp/', os.path.split(key.name)[1])\n",
    "key.get_contents_to_filename(fname)"
   ]
  },
  {
   "cell_type": "code",
   "execution_count": null,
   "metadata": {
    "collapsed": false
   },
   "outputs": [],
   "source": [
    "print(key.etag.strip('\"'), hashfile(fname), sep='\\n')\n",
    "print(key.size, os.stat(fname).st_size) \n",
    "print((int(boto.utils.parse_ts(key.last_modified).strftime('%s')) - int(os.stat(fname).st_mtime)) % 60 * 60) "
   ]
  },
  {
   "cell_type": "markdown",
   "metadata": {},
   "source": [
    "# Check local staging folder"
   ]
  },
  {
   "cell_type": "code",
   "execution_count": null,
   "metadata": {
    "collapsed": false
   },
   "outputs": [],
   "source": [
    "img = ImageFile.objects.first()\n",
    "img.source_file.file"
   ]
  },
  {
   "cell_type": "code",
   "execution_count": null,
   "metadata": {
    "collapsed": false
   },
   "outputs": [],
   "source": [
    "img.source_file.path"
   ]
  },
  {
   "cell_type": "code",
   "execution_count": null,
   "metadata": {
    "collapsed": false
   },
   "outputs": [],
   "source": [
    "img.save()"
   ]
  },
  {
   "cell_type": "code",
   "execution_count": null,
   "metadata": {
    "collapsed": false
   },
   "outputs": [],
   "source": [
    "%debug img.size"
   ]
  },
  {
   "cell_type": "code",
   "execution_count": 1,
   "metadata": {
    "collapsed": false
   },
   "outputs": [
    {
     "name": "stdout",
     "output_type": "stream",
     "text": [
      "28-kronikk-natur-BO.jpg\n",
      "24baksiden1ED.jpg\n",
      "28-stor-anm-AJ.jpg\n",
      "20-kult-humak-Web-BO.jpg\n",
      "09-jobbsoker-AJ-3.jpg\n",
      "bartefest.jpg\n",
      "29kronikk.jpg\n",
      "29-pensjonspoeng-02-RRJ.jpg\n",
      "201502-EP-universitas-0203.jpg\n",
      "06-anm-ynde.jpg\n",
      "31-Arne-Naess03-2f4sp-KRN.jpg\n",
      "28-Rem-Tore-5-AH.jpg\n",
      "06-PLA-anmhonningba-08-AAH.jpg\n",
      "12-kult-skuepillere5-Web-BO.jpg\n",
      "21-kvikkslv-ABE.jpg\n",
      "07-synkoke03-KB.jpg\n",
      "09Psykologi2ED.jpg\n",
      "32-AdNotam-Hernes-og-universet.jpg\n",
      "19-kollen-sbv-03.jpg\n",
      "Nyhetskommentar-tryggere-usikkerhet.jpg\n"
     ]
    }
   ],
   "source": [
    "for img in ImageFile.objects.order_by('?')[:20]:\n",
    "    print(img)\n",
    "     "
   ]
  },
  {
   "cell_type": "code",
   "execution_count": 2,
   "metadata": {
    "collapsed": false
   },
   "outputs": [],
   "source": [
    "img.save()"
   ]
  },
  {
   "cell_type": "code",
   "execution_count": 4,
   "metadata": {
    "collapsed": false
   },
   "outputs": [
    {
     "data": {
      "text/plain": [
       "'9e24ac55ea7113b58bac1a7301230641'"
      ]
     },
     "execution_count": 4,
     "metadata": {},
     "output_type": "execute_result"
    }
   ],
   "source": [
    "img.source_md5"
   ]
  },
  {
   "cell_type": "code",
   "execution_count": 5,
   "metadata": {
    "collapsed": false
   },
   "outputs": [
    {
     "data": {
      "text/plain": [
       "'9e24ac55ea7113b58bac1a7301230641'"
      ]
     },
     "execution_count": 5,
     "metadata": {},
     "output_type": "execute_result"
    }
   ],
   "source": [
    "img.md5"
   ]
  },
  {
   "cell_type": "code",
   "execution_count": 6,
   "metadata": {
    "collapsed": false
   },
   "outputs": [
    {
     "data": {
      "text/plain": [
       "210208441402325797502909727162140657217"
      ]
     },
     "execution_count": 6,
     "metadata": {},
     "output_type": "execute_result"
    }
   ],
   "source": [
    "int(img.md5, 16)"
   ]
  },
  {
   "cell_type": "code",
   "execution_count": 7,
   "metadata": {
    "collapsed": true
   },
   "outputs": [],
   "source": [
    "def _make_aware(time_input):\n",
    "    \"\"\" Convert naive date object into timezone aware datetime. \"\"\"\n",
    "    return datetime.combine(time_input, tzinfo=TIMEZONE)"
   ]
  },
  {
   "cell_type": "code",
   "execution_count": 8,
   "metadata": {
    "collapsed": true
   },
   "outputs": [],
   "source": [
    "from datetime import date, datetime, time\n",
    "from django.utils import timezone"
   ]
  },
  {
   "cell_type": "code",
   "execution_count": 9,
   "metadata": {
    "collapsed": false
   },
   "outputs": [
    {
     "data": {
      "text/plain": [
       "<DstTzInfo 'Europe/Oslo' LMT+0:43:00 STD>"
      ]
     },
     "execution_count": 9,
     "metadata": {},
     "output_type": "execute_result"
    }
   ],
   "source": [
    "timezone.get_current_timezone()"
   ]
  },
  {
   "cell_type": "code",
   "execution_count": 11,
   "metadata": {
    "collapsed": false
   },
   "outputs": [
    {
     "data": {
      "text/plain": [
       "datetime.datetime(2015, 10, 25, 23, 18, 39, 520225, tzinfo=<DstTzInfo 'Europe/Oslo' CET+1:00:00 STD>)"
      ]
     },
     "execution_count": 11,
     "metadata": {},
     "output_type": "execute_result"
    }
   ],
   "source": [
    "timezone.make_aware(datetime.now())"
   ]
  },
  {
   "cell_type": "code",
   "execution_count": 12,
   "metadata": {
    "collapsed": false
   },
   "outputs": [
    {
     "data": {
      "text/plain": [
       "datetime.datetime(2015, 10, 25, 23, 18, 51, 759067)"
      ]
     },
     "execution_count": 12,
     "metadata": {},
     "output_type": "execute_result"
    }
   ],
   "source": [
    "datetime.now()"
   ]
  },
  {
   "cell_type": "code",
   "execution_count": 13,
   "metadata": {
    "collapsed": false
   },
   "outputs": [
    {
     "data": {
      "text/plain": [
       "datetime.datetime(2015, 10, 25, 0, 0)"
      ]
     },
     "execution_count": 13,
     "metadata": {},
     "output_type": "execute_result"
    }
   ],
   "source": [
    "datetime.combine(date.today(), time())"
   ]
  },
  {
   "cell_type": "code",
   "execution_count": 14,
   "metadata": {
    "collapsed": false
   },
   "outputs": [
    {
     "ename": "AttributeError",
     "evalue": "'datetime.date' object has no attribute 'hour'",
     "output_type": "error",
     "traceback": [
      "\u001b[1;31m---------------------------------------------------------------------------\u001b[0m",
      "\u001b[1;31mAttributeError\u001b[0m                            Traceback (most recent call last)",
      "\u001b[1;32m<ipython-input-14-3a17adeaadff>\u001b[0m in \u001b[0;36m<module>\u001b[1;34m()\u001b[0m\n\u001b[1;32m----> 1\u001b[1;33m \u001b[0mdate\u001b[0m\u001b[1;33m.\u001b[0m\u001b[0mtoday\u001b[0m\u001b[1;33m(\u001b[0m\u001b[1;33m)\u001b[0m\u001b[1;33m.\u001b[0m\u001b[0mhour\u001b[0m\u001b[1;33m\u001b[0m\u001b[0m\n\u001b[0m",
      "\u001b[1;31mAttributeError\u001b[0m: 'datetime.date' object has no attribute 'hour'"
     ]
    }
   ],
   "source": [
    "date.today().hour"
   ]
  },
  {
   "cell_type": "code",
   "execution_count": 15,
   "metadata": {
    "collapsed": false
   },
   "outputs": [
    {
     "data": {
      "text/plain": [
       "23"
      ]
     },
     "execution_count": 15,
     "metadata": {},
     "output_type": "execute_result"
    }
   ],
   "source": [
    "datetime.now().hour"
   ]
  },
  {
   "cell_type": "code",
   "execution_count": 17,
   "metadata": {
    "collapsed": false
   },
   "outputs": [
    {
     "ename": "TypeError",
     "evalue": "combine() argument 1 must be datetime.date, not datetime.time",
     "output_type": "error",
     "traceback": [
      "\u001b[1;31m---------------------------------------------------------------------------\u001b[0m",
      "\u001b[1;31mTypeError\u001b[0m                                 Traceback (most recent call last)",
      "\u001b[1;32m<ipython-input-17-911c608b5cfe>\u001b[0m in \u001b[0;36m<module>\u001b[1;34m()\u001b[0m\n\u001b[1;32m----> 1\u001b[1;33m \u001b[0mdatetime\u001b[0m\u001b[1;33m.\u001b[0m\u001b[0mcombine\u001b[0m\u001b[1;33m(\u001b[0m\u001b[0mtime\u001b[0m\u001b[1;33m(\u001b[0m\u001b[1;33m)\u001b[0m\u001b[1;33m,\u001b[0m \u001b[0mdatetime\u001b[0m\u001b[1;33m.\u001b[0m\u001b[0mnow\u001b[0m\u001b[1;33m(\u001b[0m\u001b[1;33m)\u001b[0m\u001b[1;33m)\u001b[0m\u001b[1;33m\u001b[0m\u001b[0m\n\u001b[0m",
      "\u001b[1;31mTypeError\u001b[0m: combine() argument 1 must be datetime.date, not datetime.time"
     ]
    }
   ],
   "source": [
    "datetime.combine(time(), datetime.now())"
   ]
  },
  {
   "cell_type": "code",
   "execution_count": 18,
   "metadata": {
    "collapsed": false
   },
   "outputs": [
    {
     "ename": "TypeError",
     "evalue": "an integer is required (got type builtin_function_or_method)",
     "output_type": "error",
     "traceback": [
      "\u001b[1;31m---------------------------------------------------------------------------\u001b[0m",
      "\u001b[1;31mTypeError\u001b[0m                                 Traceback (most recent call last)",
      "\u001b[1;32m<ipython-input-18-f83c96af0597>\u001b[0m in \u001b[0;36m<module>\u001b[1;34m()\u001b[0m\n\u001b[1;32m----> 1\u001b[1;33m \u001b[0mdatetime\u001b[0m\u001b[1;33m(\u001b[0m\u001b[0mdate\u001b[0m\u001b[1;33m.\u001b[0m\u001b[0mtoday\u001b[0m\u001b[1;33m)\u001b[0m\u001b[1;33m\u001b[0m\u001b[0m\n\u001b[0m",
      "\u001b[1;31mTypeError\u001b[0m: an integer is required (got type builtin_function_or_method)"
     ]
    }
   ],
   "source": [
    "datetime(date.today)"
   ]
  },
  {
   "cell_type": "code",
   "execution_count": 22,
   "metadata": {
    "collapsed": false
   },
   "outputs": [
    {
     "data": {
      "text/plain": [
       "'Sun Oct 25 23:23:14 2015'"
      ]
     },
     "execution_count": 22,
     "metadata": {},
     "output_type": "execute_result"
    }
   ],
   "source": [
    "datetime.ctime(datetime.now())"
   ]
  },
  {
   "cell_type": "code",
   "execution_count": null,
   "metadata": {
    "collapsed": true
   },
   "outputs": [],
   "source": []
  }
 ],
 "metadata": {
  "kernelspec": {
   "display_name": "Django Shell-Plus",
   "language": "python",
   "name": "django_extensions"
  },
  "language_info": {
   "codemirror_mode": {
    "name": "ipython",
    "version": 3
   },
   "file_extension": ".py",
   "mimetype": "text/x-python",
   "name": "python",
   "nbconvert_exporter": "python",
   "pygments_lexer": "ipython3",
   "version": "3.4.3+"
  }
 },
 "nbformat": 4,
 "nbformat_minor": 0
}
