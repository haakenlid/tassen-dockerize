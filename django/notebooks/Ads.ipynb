{
 "cells": [
  {
   "cell_type": "code",
   "execution_count": 19,
   "metadata": {
    "collapsed": true
   },
   "outputs": [],
   "source": [
    "from PIL import Image, ImageEnhance, ImageDraw, ImageFont\n",
    "from colorsys import hls_to_rgb\n",
    "from IPython.core import display\n",
    "from matplotlib import pyplot as plt\n",
    "import io\n",
    "from django.core.files.uploadedfile import InMemoryUploadedFile\n",
    "#from apps.adverts.models import AdChannel, AdFormat, Advert, Customer\n",
    "#import django\n",
    "\n",
    "%matplotlib inline\n",
    "#django.setup()"
   ]
  },
  {
   "cell_type": "code",
   "execution_count": 23,
   "metadata": {
    "collapsed": false
   },
   "outputs": [],
   "source": [
    "def random_color():\n",
    "    \"\"\" generate random rgb color as tuple of tree integers between 0-255 \"\"\"\n",
    "    hue = random.randint(0,256)/256\n",
    "    lightness = random.randint(100, 150)/256\n",
    "    saturation = random.randint(50, 220)/256\n",
    "    rgb = tuple(int(value*256) for value in hls_to_rgb(hue, lightness, saturation))\n",
    "    return rgb\n",
    "\n",
    "def create_watermark(text='xxx', angle=0,  thumb_size = (50,50)):\n",
    "    font = ImageFont.truetype(\"/usr/share/fonts/truetype/msttcorefonts/arial.ttf\", 50)\n",
    "    base = Image.new('RGBA', font.getsize(text), (0,0,0,0))\n",
    "    drawing = ImageDraw.Draw(base)\n",
    "    drawing.text((0,0), text, font=font, fill='white')\n",
    "    base = base.rotate(angle=angle, expand=1, resample=Image.BICUBIC)\n",
    "    base.thumbnail(thumb_size)\n",
    "    return base\n",
    "\n",
    "def reduce_opacity(im, opacity):\n",
    "    \"\"\"Returns an image with reduced opacity.\"\"\"\n",
    "    assert opacity >= 0 and opacity <= 1\n",
    "    if im.mode != 'RGBA':\n",
    "        im = im.convert('RGBA')\n",
    "    else:\n",
    "        im = im.copy()\n",
    "    alpha = im.split()[3]\n",
    "    alpha = ImageEnhance.Brightness(alpha).enhance(opacity)\n",
    "    im.putalpha(alpha)\n",
    "    return im\n",
    "\n",
    "def watermark(im, mark, position, opacity=1):\n",
    "    \"\"\"Adds a watermark to an image.\"\"\"\n",
    "    if opacity < 1:\n",
    "        mark = reduce_opacity(mark, opacity)\n",
    "    if im.mode != 'RGBA':\n",
    "        im = im.convert('RGBA')\n",
    "    # create a transparent layer the size of the image and draw the\n",
    "    # watermark in that layer.\n",
    "    layer = Image.new('RGBA', im.size, (0,0,0,0))\n",
    "    if position == 'tile':\n",
    "        for y in range(0, im.size[1], mark.size[1]):\n",
    "            for x in range(0, im.size[0], mark.size[0]):\n",
    "                layer.paste(mark, (x, y))\n",
    "    elif position == 'scale':\n",
    "        # scale, but preserve the aspect ratio\n",
    "        ratio = min(\n",
    "            float(im.size[0]) / mark.size[0], float(im.size[1]) / mark.size[1])\n",
    "        w = int(mark.size[0] * ratio)\n",
    "        h = int(mark.size[1] * ratio)\n",
    "        mark = mark.resize((w, h))\n",
    "        layer.paste(mark, ((im.size[0] - w) // 2, (im.size[1] - h) // 2))\n",
    "    else:\n",
    "        layer.paste(mark, position)\n",
    "    # composite the watermark with the layer\n",
    "    return Image.composite(layer, im, layer)\n",
    "\n",
    "def dummy_image_advert(width, height, watermarktext, labeltext):\n",
    "    img = Image.new('RGB', (width, height), color=random_color())\n",
    "    mark = create_watermark(watermarktext, angle=10, thumb_size = (100,100))\n",
    "    label = create_watermark(labeltext, thumb_size = (width, height))\n",
    "    img = watermark(img, mark, 'tile', 0.4)\n",
    "    img = watermark(img, label, (0,0), 1)\n",
    "    \n",
    "    img_io = io.BytesIO()\n",
    "    img.save(img_io, format='JPEG')\n",
    "    filename = '{name:_<18}{w}x{h}.jpg'.format(name=labeltext, w=width, h=height).replace(' ', '-').lower()\n",
    "    #print(filename)\n",
    "    \n",
    "    django_file = InMemoryUploadedFile(\n",
    "        file=img_io, \n",
    "        field_name=None, \n",
    "        name=filename,\n",
    "        content_type='image/jpeg',\n",
    "        size= len(img_io.getvalue()) , \n",
    "        charset=None\n",
    "    )\n",
    "    return django_file"
   ]
  },
  {
   "cell_type": "code",
   "execution_count": 25,
   "metadata": {
    "collapsed": false
   },
   "outputs": [
    {
     "name": "stderr",
     "output_type": "stream",
     "text": [
      "universitas DEBUG                 models.py:179  (upload_folder) - adverts/universitas/board-300_________980x300.jpg\n",
      "universitas DEBUG                 models.py:179  (upload_folder) - adverts/universitas/board-150_________980x150.jpg\n",
      "universitas DEBUG                 models.py:179  (upload_folder) - adverts/universitas/superboard-500____980x500.jpg\n",
      "universitas DEBUG                 models.py:179  (upload_folder) - adverts/universitas/netboard__________580x500.jpg\n",
      "universitas DEBUG                 models.py:179  (upload_folder) - adverts/universitas/articleboard______380x500.jpg\n",
      "universitas DEBUG                 models.py:179  (upload_folder) - adverts/universitas/skyscraper-xl_____360x1000.jpg\n",
      "universitas DEBUG                 models.py:179  (upload_folder) - adverts/universitas/skyscraper-bred___360x500.jpg\n",
      "universitas DEBUG                 models.py:179  (upload_folder) - adverts/universitas/skyscraper________180x500.jpg\n",
      "universitas DEBUG                 models.py:179  (upload_folder) - adverts/universitas/knapp_____________180x150.jpg\n"
     ]
    }
   ],
   "source": [
    "customer, new = Customer.objects.get_or_create(name='universitas')\n",
    "delete_us = Advert.objects.filter(description__startswith='dummy')\n",
    "\n",
    "for d in delete_us:\n",
    "    d.imagefile.delete()\n",
    "    d.delete()\n",
    "\n",
    "for adformat in AdFormat.objects.all():\n",
    "    new_image = dummy_image_advert(\n",
    "        adformat.width, adformat.height, \n",
    "        watermarktext='reklame', \n",
    "        labeltext=adformat.name,\n",
    "        )\n",
    "    \n",
    "    new_ad = Advert(\n",
    "        customer = customer,\n",
    "        description = 'dummy jpg {}'.format(adformat),\n",
    "        alt_text = 'dummy',\n",
    "        link = 'http://dummy.com',\n",
    "        imagefile = new_image,\n",
    "    )\n",
    "    new_ad.save()\n",
    "    new_ad.ad_type = new_ad.determine_ad_type()\n",
    "    new_ad.save()"
   ]
  },
  {
   "cell_type": "code",
   "execution_count": null,
   "metadata": {
    "collapsed": true
   },
   "outputs": [],
   "source": []
  }
 ],
 "metadata": {
  "kernelspec": {
   "display_name": "Django Shell-Plus",
   "language": "python",
   "name": "django_extensions"
  },
  "language_info": {
   "codemirror_mode": {
    "name": "ipython",
    "version": 3
   },
   "file_extension": ".py",
   "mimetype": "text/x-python",
   "name": "python",
   "nbconvert_exporter": "python",
   "pygments_lexer": "ipython3",
   "version": "3.4.2"
  }
 },
 "nbformat": 4,
 "nbformat_minor": 0
}
