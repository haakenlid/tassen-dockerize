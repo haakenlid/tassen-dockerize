{
 "metadata": {
  "name": "",
  "signature": "sha256:b2a15113002c8111bb3333853eba7105ff54b82ed145a5307c2cfa0b5d5645f9"
 },
 "nbformat": 3,
 "nbformat_minor": 0,
 "worksheets": [
  {
   "cells": [
    {
     "cell_type": "code",
     "collapsed": false,
     "input": [
      "from apps.stories.models import Story, StoryImage\n",
      "from apps.photo.models import ImageFile\n",
      "from PIL import Image\n",
      "from IPython.core import display\n",
      "from matplotlib import pyplot as plt\n",
      "import django\n",
      "import os\n",
      "from slugify import Slugify\n",
      "import re\n",
      "import numpy\n",
      "import cv2\n",
      "import os\n",
      "import random\n",
      "\n",
      "%matplotlib inline\n",
      "django.setup()"
     ],
     "language": "python",
     "metadata": {},
     "outputs": [],
     "prompt_number": 1
    },
    {
     "cell_type": "code",
     "collapsed": true,
     "input": [
      "for img in StoryImage.objects.order_by('-pk')[:10]:\n",
      "    img.aspect_ratio = random.choice(img.ASPECT_RATIO_CHOICES)[0]\n",
      "    print(200, img.get_height(200,100), img.get_aspect_ratio_display())"
     ],
     "language": "python",
     "metadata": {},
     "outputs": [
      {
       "output_type": "stream",
       "stream": "stdout",
       "text": [
        "200 200 square\n",
        "200 301 original\n",
        "200 100 1:2 landscape\n",
        "200 267 original\n",
        "200 150 3:4 landscape\n",
        "200 150 3:4 landscape\n",
        "200 100 1:2 landscape\n",
        "200 100 1:2 landscape\n",
        "200 150 3:4 landscape\n",
        "200 150 3:4 landscape\n"
       ]
      }
     ],
     "prompt_number": 9
    },
    {
     "cell_type": "code",
     "collapsed": false,
     "input": [
      "import random\n",
      "random.choice(img.ASPECT_RATIO_CHOICES)[0]"
     ],
     "language": "python",
     "metadata": {},
     "outputs": [
      {
       "metadata": {},
       "output_type": "pyout",
       "prompt_number": 5,
       "text": [
        "1.3333333333333333"
       ]
      }
     ],
     "prompt_number": 5
    },
    {
     "cell_type": "code",
     "collapsed": false,
     "input": [
      "img.source_file.storage.location"
     ],
     "language": "python",
     "metadata": {},
     "outputs": [
      {
       "metadata": {},
       "output_type": "pyout",
       "prompt_number": 55,
       "text": [
        "'/srv/fotoarkiv_universitas'"
       ]
      }
     ],
     "prompt_number": 55
    },
    {
     "cell_type": "code",
     "collapsed": false,
     "input": [
      "new_path"
     ],
     "language": "python",
     "metadata": {},
     "outputs": [
      {
       "metadata": {},
       "output_type": "pyout",
       "prompt_number": 24,
       "text": [
        "'/srv/fotoarkiv_universitas/2014/02/02-NYH-stipendsak-SiljeSandmael-DNB-jpg'"
       ]
      }
     ],
     "prompt_number": 24
    },
    {
     "cell_type": "code",
     "collapsed": false,
     "input": [
      "import os"
     ],
     "language": "python",
     "metadata": {},
     "outputs": [],
     "prompt_number": 25
    },
    {
     "cell_type": "code",
     "collapsed": false,
     "input": [
      "os."
     ],
     "language": "python",
     "metadata": {},
     "outputs": []
    }
   ],
   "metadata": {}
  }
 ]
}