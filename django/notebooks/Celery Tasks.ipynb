{
 "cells": [
  {
   "cell_type": "code",
   "execution_count": 6,
   "metadata": {
    "collapsed": false
   },
   "outputs": [],
   "source": [
    "from datetime import timedelta, datetime\n",
    "from django.conf import settings\n",
    "import os\n",
    "import glob\n",
    "from time import mktime\n",
    "import logging\n",
    "from apps.photo.models import upload_image_to\n",
    "logger = logging.getLogger(__name__)\n",
    "\n",
    "def timestamp(delta, fallback):\n",
    "    \"\"\"Calculates seconds since epoch of current time minus delta.\n",
    "    If delta is out of range, calculates timestamp of fallback datetime instead.\n",
    "    \"\"\"\n",
    "    try:\n",
    "        dt = datetime.now() - delta\n",
    "    except (OverflowError):\n",
    "        # logger.exception('locals:%s' % locals())\n",
    "        dt = fallback\n",
    "    return int(mktime(dt.timetuple()))\n",
    "\n",
    "def new_staging_files(staging_subdirectory, fileglob='*.*', min_age=timedelta.min, max_age=timedelta.max):\n",
    "    \"\"\"Check for new or updated files in staging area.\"\"\"\n",
    "    directory = os.path.join(settings.STAGING_ROOT, staging_subdirectory)\n",
    "    os.chdir(directory)\n",
    "    all_files = glob.glob(fileglob)\n",
    "    min_mtime = timestamp(min_age, fallback=datetime.max)\n",
    "    max_mtime = timestamp(max_age, fallback=datetime.min)\n",
    "    files = [file for file in all_files \n",
    "             if min_mtime > os.path.getmtime(file) > max_mtime]\n",
    "    return directory, sorted(files)\n",
    "\n",
    "def new_staging_images(**kwargs):\n",
    "    \"\"\"Check for new or updated images in staging area\"\"\"\n",
    "    arguments = dict(\n",
    "        staging_subdirectory='IMAGES',\n",
    "        fileglob='*.jpg',\n",
    "    )\n",
    "    arguments.update(kwargs)\n",
    "    return new_staging_files(**arguments)\n",
    "\n",
    "def new_staging_byline_images(**kwargs):\n",
    "    \"\"\"Check for new or updated byline images in staging area\"\"\"\n",
    "    arguments = dict(\n",
    "        staging_subdirectory='BYLINE',\n",
    "        fileglob='*.jpg',\n",
    "        max_age=timedelta(days=1),\n",
    "    )\n",
    "    arguments.update(kwargs)\n",
    "    return new_staging_files(**arguments)\n",
    "\n",
    "def new_staging_pdf_files(**kwargs):\n",
    "    \"\"\"Check for new or updated pdf files in staging area\"\"\"\n",
    "    arguments = dict(\n",
    "        staging_subdirectory='PDF',\n",
    "        fileglob='UNI1*VER*000.pdf',\n",
    "        max_age=timedelta(days=100),from apps.photo.models import upload_image_to\n",
    "    )\n",
    "    arguments.update(kwargs)\n",
    "    return new_staging_files(**arguments)\n"
   ]
  },
  {
   "cell_type": "code",
   "execution_count": 28,
   "metadata": {
    "collapsed": false
   },
   "outputs": [
    {
     "name": "stdout",
     "output_type": "stream",
     "text": [
      "/srv/fotoarkiv_universitas/STAGING/IMAGES/22-NYH-trangtpajuss-01-SBV.jpg\n",
      "2015/30/22-NYH-trangtpajuss-01-SBV.jpg\n",
      "/srv/fotoarkiv_universitas/STAGING/IMAGES/25-NYH-nyhsiobolige-01-HJK.jpg\n",
      "2015/30/25-NYH-nyhsiobolige-01-HJK.jpg\n",
      "/srv/fotoarkiv_universitas/STAGING/IMAGES/25-NYH-nyhsiobolige-03-HJK.jpg\n",
      "2015/30/25-NYH-nyhsiobolige-03-HJK.jpg\n",
      "/srv/fotoarkiv_universitas/STAGING/IMAGES/25-NYH-nyhsiobolige-04-HJK.jpg\n",
      "2015/30/25-NYH-nyhsiobolige-04-HJK.jpg\n",
      "/srv/fotoarkiv_universitas/STAGING/IMAGES/2527792696-db31f5aaf4-b.jpg\n",
      "2015/30/2527792696-db31f5aaf4-b.jpg\n",
      "/srv/fotoarkiv_universitas/STAGING/IMAGES/28-KUL-minstudietid-01-OJ.jpg\n",
      "2015/30/28-KUL-minstudietid-01-OJ.jpg\n",
      "/srv/fotoarkiv_universitas/STAGING/IMAGES/28-KUL-minstudietid-02-OJ.jpg\n",
      "2015/30/28-KUL-minstudietid-02-OJ.jpg\n",
      "/srv/fotoarkiv_universitas/STAGING/IMAGES/28-KUL-minstudietid-03-OJ.jpg\n",
      "2015/30/28-KUL-minstudietid-03-OJ.jpg\n",
      "/srv/fotoarkiv_universitas/STAGING/IMAGES/28-NYH-karakterkaos-10-KEK.jpg\n",
      "2015/30/28-NYH-karakterkaos-10-KEK.jpg\n",
      "/srv/fotoarkiv_universitas/STAGING/IMAGES/29-KUL-kulenfinkaff-01-HB.jpg\n",
      "2015/30/29-KUL-kulenfinkaff-01-HB.jpg\n",
      "/srv/fotoarkiv_universitas/STAGING/IMAGES/29-KUL-kulenfinkaff-02-HB.jpg\n",
      "2015/30/29-KUL-kulenfinkaff-02-HB.jpg\n",
      "/srv/fotoarkiv_universitas/STAGING/IMAGES/29-KUL-kulenfinkaff-03-HB.jpg\n",
      "2015/30/29-KUL-kulenfinkaff-03-HB.jpg\n",
      "/srv/fotoarkiv_universitas/STAGING/IMAGES/29-KUL-kulenfinkaff-04-HB.jpg\n",
      "2015/30/29-KUL-kulenfinkaff-04-HB.jpg\n",
      "/srv/fotoarkiv_universitas/STAGING/IMAGES/29-KUL-kulenfinkaff-05-HB.jpg\n",
      "2015/30/29-KUL-kulenfinkaff-05-HB.jpg\n",
      "/srv/fotoarkiv_universitas/STAGING/IMAGES/29-KUL-kulenfinkaff-06-HB.jpg\n",
      "2015/30/29-KUL-kulenfinkaff-06-HB.jpg\n",
      "/srv/fotoarkiv_universitas/STAGING/IMAGES/29-KUL-kulenfinkaff-07-HB.jpg\n",
      "2015/30/29-KUL-kulenfinkaff-07-HB.jpg\n",
      "/srv/fotoarkiv_universitas/STAGING/IMAGES/29-KUL-kulenfinkaff-08-HB.jpg\n",
      "2015/30/29-KUL-kulenfinkaff-08-HB.jpg\n",
      "/srv/fotoarkiv_universitas/STAGING/IMAGES/29-KUL-kulenfinkaff-09-HB.jpg\n",
      "2015/30/29-KUL-kulenfinkaff-09-HB.jpg\n",
      "/srv/fotoarkiv_universitas/STAGING/IMAGES/29-KUL-kulenfinkaff-10-HB.jpg\n",
      "2015/30/29-KUL-kulenfinkaff-10-HB.jpg\n",
      "/srv/fotoarkiv_universitas/STAGING/IMAGES/29-KUL-kulenfinkaff-11-HB.jpg\n",
      "2015/30/29-KUL-kulenfinkaff-11-HB.jpg\n",
      "/srv/fotoarkiv_universitas/STAGING/IMAGES/29-KUL-kulenfinkaff-12-HB.jpg\n",
      "2015/30/29-KUL-kulenfinkaff-12-HB.jpg\n",
      "/srv/fotoarkiv_universitas/STAGING/IMAGES/29-KUL-kulenfinkaff-13-HB.jpg\n",
      "2015/30/29-KUL-kulenfinkaff-13-HB.jpg\n",
      "/srv/fotoarkiv_universitas/STAGING/IMAGES/29-KUL-kulenfinkaff-14-HB.jpg\n",
      "2015/30/29-KUL-kulenfinkaff-14-HB.jpg\n",
      "/srv/fotoarkiv_universitas/STAGING/IMAGES/29-KUL-kulenfinkaff-15-HB.jpg\n",
      "2015/30/29-KUL-kulenfinkaff-15-HB.jpg\n",
      "/srv/fotoarkiv_universitas/STAGING/IMAGES/29-KUL-kulfilmfraso-01-HB.jpg\n",
      "2015/30/29-KUL-kulfilmfraso-01-HB.jpg\n",
      "/srv/fotoarkiv_universitas/STAGING/IMAGES/29-KUL-kulfilmfraso-04-HB.jpg\n",
      "2015/30/29-KUL-kulfilmfraso-04-HB.jpg\n",
      "/srv/fotoarkiv_universitas/STAGING/IMAGES/29-KUL-kulfilmfraso-05-HB.jpg\n",
      "2015/30/29-KUL-kulfilmfraso-05-HB.jpg\n",
      "/srv/fotoarkiv_universitas/STAGING/IMAGES/29-KUL-kulfilmfraso-06-HB.jpg\n",
      "2015/30/29-KUL-kulfilmfraso-06-HB.jpg\n",
      "/srv/fotoarkiv_universitas/STAGING/IMAGES/29-KUL-kulfilmfraso-07-HB.jpg\n",
      "2015/30/29-KUL-kulfilmfraso-07-HB.jpg\n",
      "/srv/fotoarkiv_universitas/STAGING/IMAGES/29-KUL-kulfilmfraso-08-HB.jpg\n",
      "2015/30/29-KUL-kulfilmfraso-08-HB.jpg\n",
      "/srv/fotoarkiv_universitas/STAGING/IMAGES/29-KUL-kulfilmfraso-10-HB.jpg\n",
      "2015/30/29-KUL-kulfilmfraso-10-HB.jpg\n",
      "/srv/fotoarkiv_universitas/STAGING/IMAGES/29-KUL-kulfilmfraso-11-HB.jpg\n",
      "2015/30/29-KUL-kulfilmfraso-11-HB.jpg\n",
      "/srv/fotoarkiv_universitas/STAGING/IMAGES/29-KUL-kulfilmfraso-12-HB.jpg\n",
      "2015/30/29-KUL-kulfilmfraso-12-HB.jpg\n",
      "/srv/fotoarkiv_universitas/STAGING/IMAGES/29-KUL-kulminstudie-01-OD.jpg\n",
      "2015/30/29-KUL-kulminstudie-01-OD.jpg\n",
      "/srv/fotoarkiv_universitas/STAGING/IMAGES/29-KUL-kulminstudie-02-OD.jpg\n",
      "2015/30/29-KUL-kulminstudie-02-OD.jpg\n",
      "/srv/fotoarkiv_universitas/STAGING/IMAGES/29-KUL-minstudietid-01-OJ.jpg\n",
      "2015/30/29-KUL-minstudietid-01-OJ.jpg\n",
      "/srv/fotoarkiv_universitas/STAGING/IMAGES/29-NYH-nettsorgelig-01-HB.jpg\n",
      "2015/30/29-NYH-nettsorgelig-01-HB.jpg\n",
      "/srv/fotoarkiv_universitas/STAGING/IMAGES/29-NYH-nettsorgelig-02-HB.jpg\n",
      "2015/30/29-NYH-nettsorgelig-02-HB.jpg\n",
      "/srv/fotoarkiv_universitas/STAGING/IMAGES/29-NYH-nettsorgelig-05-HB.jpg\n",
      "2015/30/29-NYH-nettsorgelig-05-HB.jpg\n",
      "/srv/fotoarkiv_universitas/STAGING/IMAGES/29-NYH-nettsorgelig-06-HB.jpg\n",
      "2015/30/29-NYH-nettsorgelig-06-HB.jpg\n",
      "/srv/fotoarkiv_universitas/STAGING/IMAGES/29-NYH-nettsorgelig-07-HB.jpg\n",
      "2015/30/29-NYH-nettsorgelig-07-HB.jpg\n",
      "/srv/fotoarkiv_universitas/STAGING/IMAGES/29-NYH-nettsorgelig-08-HB.jpg\n",
      "2015/30/29-NYH-nettsorgelig-08-HB.jpg\n",
      "/srv/fotoarkiv_universitas/STAGING/IMAGES/29-NYH-nyhkaraktere-01-OD.jpg\n",
      "2015/30/29-NYH-nyhkaraktere-01-OD.jpg\n",
      "/srv/fotoarkiv_universitas/STAGING/IMAGES/29-NYH-nyhkaraktere-02-OD.jpg\n",
      "2015/30/29-NYH-nyhkaraktere-02-OD.jpg\n",
      "/srv/fotoarkiv_universitas/STAGING/IMAGES/29-NYH-nyhkaraktere-03-OD.jpg\n",
      "2015/30/29-NYH-nyhkaraktere-03-OD.jpg\n",
      "/srv/fotoarkiv_universitas/STAGING/IMAGES/29-NYH-nyhkaraktere-04-OD.jpg\n",
      "2015/30/29-NYH-nyhkaraktere-04-OD.jpg\n",
      "/srv/fotoarkiv_universitas/STAGING/IMAGES/29-NYH-nyhkaraktere-05-OD.jpg\n",
      "2015/30/29-NYH-nyhkaraktere-05-OD.jpg\n",
      "/srv/fotoarkiv_universitas/STAGING/IMAGES/29-NYH-nyhoppsigels-01-OJ.jpg\n",
      "2015/30/29-NYH-nyhoppsigels-01-OJ.jpg\n",
      "/srv/fotoarkiv_universitas/STAGING/IMAGES/29-NYH-nyhoppsigels-02-OJ.jpg\n",
      "2015/30/29-NYH-nyhoppsigels-02-OJ.jpg\n",
      "/srv/fotoarkiv_universitas/STAGING/IMAGES/29-NYH-nyhoppsigels-03-OJ.jpg\n",
      "2015/30/29-NYH-nyhoppsigels-03-OJ.jpg\n",
      "/srv/fotoarkiv_universitas/STAGING/IMAGES/29-NYH-nyhoppsigels-04-OJ.jpg\n",
      "2015/30/29-NYH-nyhoppsigels-04-OJ.jpg\n",
      "/srv/fotoarkiv_universitas/STAGING/IMAGES/29-NYH-nyhoyeblikke-01-AOB.jpg\n",
      "2015/30/29-NYH-nyhoyeblikke-01-AOB.jpg\n",
      "/srv/fotoarkiv_universitas/STAGING/IMAGES/29-NYH-nyhoyeblikke-02-AOB.jpg\n",
      "2015/30/29-NYH-nyhoyeblikke-02-AOB.jpg\n",
      "/srv/fotoarkiv_universitas/STAGING/IMAGES/29-NYH-nyhoyeblikke-03-AOB.jpg\n",
      "2015/30/29-NYH-nyhoyeblikke-03-AOB.jpg\n",
      "/srv/fotoarkiv_universitas/STAGING/IMAGES/29-NYH-nyhoyeblikke-04-AOB.jpg\n",
      "2015/30/29-NYH-nyhoyeblikke-04-AOB.jpg\n",
      "/srv/fotoarkiv_universitas/STAGING/IMAGES/29-NYH-nyhsensorord-01-OJ.jpg\n",
      "2015/30/29-NYH-nyhsensorord-01-OJ.jpg\n",
      "/srv/fotoarkiv_universitas/STAGING/IMAGES/29-NYH-nyhsensorord-02-OJ.jpg\n",
      "2015/30/29-NYH-nyhsensorord-02-OJ.jpg\n",
      "/srv/fotoarkiv_universitas/STAGING/IMAGES/29-NYH-nyhsensorord-03-OJ.jpg\n",
      "2015/30/29-NYH-nyhsensorord-03-OJ.jpg\n",
      "/srv/fotoarkiv_universitas/STAGING/IMAGES/29-NYH-nyhsensorord-04-OJ.jpg\n",
      "2015/30/29-NYH-nyhsensorord-04-OJ.jpg\n",
      "/srv/fotoarkiv_universitas/STAGING/IMAGES/29-NYH-nyhtvingesti-01-OJ.jpg\n",
      "2015/30/29-NYH-nyhtvingesti-01-OJ.jpg\n",
      "/srv/fotoarkiv_universitas/STAGING/IMAGES/29-NYH-nyhtvingesti-02-OJ.jpg\n",
      "2015/30/29-NYH-nyhtvingesti-02-OJ.jpg\n",
      "/srv/fotoarkiv_universitas/STAGING/IMAGES/29-NYH-nyhtvingesti-03-OJ.jpg\n",
      "2015/30/29-NYH-nyhtvingesti-03-OJ.jpg\n",
      "/srv/fotoarkiv_universitas/STAGING/IMAGES/29-NYH-nyhtvingesti-04-OJ.jpg\n",
      "2015/30/29-NYH-nyhtvingesti-04-OJ.jpg\n",
      "/srv/fotoarkiv_universitas/STAGING/IMAGES/29-NYH-nyhtvingesti-05-OJ.jpg\n",
      "2015/30/29-NYH-nyhtvingesti-05-OJ.jpg\n",
      "/srv/fotoarkiv_universitas/STAGING/IMAGES/29-NYH-nyhtvingesti-06-OJ.jpg\n",
      "2015/30/29-NYH-nyhtvingesti-06-OJ.jpg\n",
      "/srv/fotoarkiv_universitas/STAGING/IMAGES/29-NYH-omvstudenter-01-XX.jpg\n",
      "2015/30/29-NYH-omvstudenter-01-XX.jpg\n",
      "/srv/fotoarkiv_universitas/STAGING/IMAGES/29-NYH-omvstudenter-02-XX.jpg\n",
      "2015/30/29-NYH-omvstudenter-02-XX.jpg\n",
      "/srv/fotoarkiv_universitas/STAGING/IMAGES/29-NYH-omvstudenter-03-XX.jpg\n",
      "2015/30/29-NYH-omvstudenter-03-XX.jpg\n",
      "/srv/fotoarkiv_universitas/STAGING/IMAGES/29-PLA-anmfarao-01-OJ.jpg\n",
      "2015/30/29-PLA-anmfarao-01-OJ.jpg\n",
      "/srv/fotoarkiv_universitas/STAGING/IMAGES/29-PLA-anmfarao-02-OJ.jpg\n",
      "2015/30/29-PLA-anmfarao-02-OJ.jpg\n",
      "/srv/fotoarkiv_universitas/STAGING/IMAGES/29-PLA-anmfarao-03-OJ.jpg\n",
      "2015/30/29-PLA-anmfarao-03-OJ.jpg\n",
      "/srv/fotoarkiv_universitas/STAGING/IMAGES/29-PLA-anmfarao-04-OJ.jpg\n",
      "2015/30/29-PLA-anmfarao-04-OJ.jpg\n",
      "/srv/fotoarkiv_universitas/STAGING/IMAGES/30-KUL-kulminstudie-01-OD.jpg\n",
      "2015/30/30-KUL-kulminstudie-01-OD.jpg\n",
      "/srv/fotoarkiv_universitas/STAGING/IMAGES/30-KUL-kulminstudie-02-OD.jpg\n",
      "2015/30/30-KUL-kulminstudie-02-OD.jpg\n",
      "/srv/fotoarkiv_universitas/STAGING/IMAGES/31-NYH-nyhroeisakse-01-PSS.jpg\n",
      "2015/30/31-NYH-nyhroeisakse-01-PSS.jpg\n",
      "/srv/fotoarkiv_universitas/STAGING/IMAGES/31-nyh-niqab-01-HDH.jpg\n",
      "2015/30/31-nyh-niqab-01-HDH.jpg\n",
      "/srv/fotoarkiv_universitas/STAGING/IMAGES/3484343765-82c5fb05cd-b.jpg\n",
      "2015/30/3484343765-82c5fb05cd-b.jpg\n",
      "/srv/fotoarkiv_universitas/STAGING/IMAGES/6425808881-cb0ebe7c9f-z.jpg\n",
      "2015/30/6425808881-cb0ebe7c9f-z.jpg\n",
      "/srv/fotoarkiv_universitas/STAGING/IMAGES/6802436989-b8e632fb85-o.jpg\n",
      "2015/30/6802436989-b8e632fb85-o.jpg\n",
      "/srv/fotoarkiv_universitas/STAGING/IMAGES/89250071-8d7ab2e167-z.jpg\n",
      "2015/30/89250071-8d7ab2e167-z.jpg\n",
      "/srv/fotoarkiv_universitas/STAGING/IMAGES/9952757765-14ee1ff518-z.jpg\n",
      "2015/30/9952757765-14ee1ff518-z.jpg\n",
      "/srv/fotoarkiv_universitas/STAGING/IMAGES/AdrienVigier.jpg\n",
      "2015/30/AdrienVigier.jpg\n",
      "/srv/fotoarkiv_universitas/STAGING/IMAGES/Are-Skeie-1.jpg\n",
      "2015/30/Are-Skeie-1.jpg\n",
      "/srv/fotoarkiv_universitas/STAGING/IMAGES/Are-Skeie-2.jpg\n",
      "2015/30/Are-Skeie-2.jpg\n",
      "/srv/fotoarkiv_universitas/STAGING/IMAGES/Capture.jpg\n",
      "2015/30/Capture.jpg\n",
      "/srv/fotoarkiv_universitas/STAGING/IMAGES/Capture2.jpg\n",
      "2015/30/Capture2.jpg\n",
      "/srv/fotoarkiv_universitas/STAGING/IMAGES/Capture3.jpg\n",
      "2015/30/Capture3.jpg\n",
      "/srv/fotoarkiv_universitas/STAGING/IMAGES/Capture4.jpg\n",
      "2015/30/Capture4.jpg\n",
      "/srv/fotoarkiv_universitas/STAGING/IMAGES/Dell-Studio-1555-IMG-6023-1500px.jpg\n",
      "2015/30/Dell-Studio-1555-IMG-6023-1500px.jpg\n",
      "/srv/fotoarkiv_universitas/STAGING/IMAGES/HC3-1.jpg\n",
      "2015/30/HC3-1.jpg\n",
      "/srv/fotoarkiv_universitas/STAGING/IMAGES/IMG-8576.jpg\n",
      "2015/30/IMG-8576.jpg\n",
      "/srv/fotoarkiv_universitas/STAGING/IMAGES/Ninas-20barn.jpg\n",
      "2015/30/Ninas-20barn.jpg\n",
      "/srv/fotoarkiv_universitas/STAGING/IMAGES/Ninas-20barn2.jpg\n",
      "2015/30/Ninas-20barn2.jpg\n",
      "/srv/fotoarkiv_universitas/STAGING/IMAGES/Nummer-15-1989.jpg\n",
      "2015/30/Nummer-15-1989.jpg\n",
      "/srv/fotoarkiv_universitas/STAGING/IMAGES/Sweden.Doll-02.jpg\n",
      "2015/30/Sweden.Doll-02.jpg\n",
      "/srv/fotoarkiv_universitas/STAGING/IMAGES/Tirades.jpg\n",
      "2015/30/Tirades.jpg\n",
      "/srv/fotoarkiv_universitas/STAGING/IMAGES/TiradesCover.jpg\n",
      "2015/30/TiradesCover.jpg\n",
      "/srv/fotoarkiv_universitas/STAGING/IMAGES/Untitled-1.jpg\n",
      "2015/30/Untitled-1.jpg\n",
      "/srv/fotoarkiv_universitas/STAGING/IMAGES/Vederkast.Fotocred-Carl-Christian-Lein-Stormer.jpg\n",
      "2015/30/Vederkast.Fotocred-Carl-Christian-Lein-Stormer.jpg\n",
      "/srv/fotoarkiv_universitas/STAGING/IMAGES/Vederkast.Fotocred-Daniel-Lilleeng.jpg\n",
      "2015/30/Vederkast.Fotocred-Daniel-Lilleeng.jpg\n",
      "/srv/fotoarkiv_universitas/STAGING/IMAGES/bok.jpg\n",
      "2015/30/bok.jpg\n",
      "/srv/fotoarkiv_universitas/STAGING/IMAGES/earth.jpg\n",
      "2015/30/earth.jpg\n",
      "/srv/fotoarkiv_universitas/STAGING/IMAGES/foto-Baleelflickr.jpg\n",
      "2015/30/foto-Baleelflickr.jpg\n",
      "/srv/fotoarkiv_universitas/STAGING/IMAGES/jo.jpg\n",
      "2015/30/jo.jpg\n",
      "/srv/fotoarkiv_universitas/STAGING/IMAGES/last-ned.jpg\n",
      "2015/30/last-ned.jpg\n",
      "/srv/fotoarkiv_universitas/STAGING/IMAGES/m3gfMG66-400x400.jpg\n",
      "2015/30/m3gfMG66-400x400.jpg\n",
      "/srv/fotoarkiv_universitas/STAGING/IMAGES/praktikant.jpg\n",
      "2015/30/praktikant.jpg\n",
      "/srv/fotoarkiv_universitas/STAGING/IMAGES/rastlos-front.jpg\n",
      "2015/30/rastlos-front.jpg\n",
      "/srv/fotoarkiv_universitas/STAGING/IMAGES/tt.jpg\n",
      "2015/30/tt.jpg\n"
     ]
    }
   ],
   "source": [
    "def import_staging_images():\n",
    "    directory, files = new_staging_images(max_age=timedelta(days=7))\n",
    "    for file in files:\n",
    "        full_path = os.path.join(directory, file)\n",
    "        print(full_path)\n",
    "        dest = upload_image_to(ImageFile, file)\n",
    "        try:\n",
    "            try:\n",
    "                img = ImageFile.objects.get(\n",
    "                    source_file__endswith='/' + os.path.basename(dest))\n",
    "            except ImageFile.MultipleObjectsReturned:\n",
    "                img = ImageFile.objects.get(source_file=dest)\n",
    "        except ImageFile.DoesNotExist:\n",
    "            img = ImageFile()\n",
    "        img.save_local_image_as_source(full_path)\n",
    "        print(img.source_file)\n",
    "\n"
   ]
  },
  {
   "cell_type": "code",
   "execution_count": 20,
   "metadata": {
    "collapsed": false
   },
   "outputs": [
    {
     "name": "stdout",
     "output_type": "stream",
     "text": [
      "> \u001b[1;32m/srv/local.universitas.no/pyvenv/local.universitas.no/lib/python3.4/site-packages/django/db/models/query.py\u001b[0m(338)\u001b[0;36mget\u001b[1;34m()\u001b[0m\n",
      "\u001b[1;32m    337 \u001b[1;33m            \u001b[1;34m\"get() returned more than one %s -- it returned %s!\"\u001b[0m \u001b[1;33m%\u001b[0m\u001b[1;33m\u001b[0m\u001b[0m\n",
      "\u001b[0m\u001b[1;32m--> 338 \u001b[1;33m            \u001b[1;33m(\u001b[0m\u001b[0mself\u001b[0m\u001b[1;33m.\u001b[0m\u001b[0mmodel\u001b[0m\u001b[1;33m.\u001b[0m\u001b[0m_meta\u001b[0m\u001b[1;33m.\u001b[0m\u001b[0mobject_name\u001b[0m\u001b[1;33m,\u001b[0m \u001b[0mnum\u001b[0m\u001b[1;33m)\u001b[0m\u001b[1;33m\u001b[0m\u001b[0m\n",
      "\u001b[0m\u001b[1;32m    339 \u001b[1;33m        )\n",
      "\u001b[0m\n",
      "ipdb> u\n",
      "> \u001b[1;32m<ipython-input-19-c34034d7328e>\u001b[0m(14)\u001b[0;36m<module>\u001b[1;34m()\u001b[0m\n",
      "\u001b[1;32m     13 \u001b[1;33m    \u001b[1;32melse\u001b[0m\u001b[1;33m:\u001b[0m\u001b[1;33m\u001b[0m\u001b[0m\n",
      "\u001b[0m\u001b[1;32m---> 14 \u001b[1;33m        \u001b[0mimg\u001b[0m \u001b[1;33m=\u001b[0m \u001b[0msaved\u001b[0m\u001b[1;33m.\u001b[0m\u001b[0mget\u001b[0m\u001b[1;33m(\u001b[0m\u001b[1;33m)\u001b[0m\u001b[1;33m\u001b[0m\u001b[0m\n",
      "\u001b[0m\u001b[1;32m     15 \u001b[1;33m        \u001b[0mimg\u001b[0m\u001b[1;33m.\u001b[0m\u001b[0msave_local_image_as_source\u001b[0m\u001b[1;33m(\u001b[0m\u001b[0mfull_path\u001b[0m\u001b[1;33m)\u001b[0m\u001b[1;33m\u001b[0m\u001b[0m\n",
      "\u001b[0m\n",
      "ipdb> saved\n",
      "[<ImageFile: 1.jpg>, <ImageFile: 1.jpg>]\n",
      "ipdb> saved[0].md5\n",
      "'51bc5b1ea8ffd527abc83d3a58836513'\n",
      "ipdb> saved[1].md5\n",
      "'062e359817396b533d0e7e4d12fde3b6'\n",
      "ipdb> q\n"
     ]
    }
   ],
   "source": [
    "%debug"
   ]
  },
  {
   "cell_type": "code",
   "execution_count": null,
   "metadata": {
    "collapsed": true
   },
   "outputs": [],
   "source": []
  },
  {
   "cell_type": "code",
   "execution_count": null,
   "metadata": {
    "collapsed": true
   },
   "outputs": [],
   "source": []
  },
  {
   "cell_type": "code",
   "execution_count": 47,
   "metadata": {
    "collapsed": false
   },
   "outputs": [
    {
     "name": "stdout",
     "output_type": "stream",
     "text": [
      "filename: 21-DEB-debbrei-12-PSS.jpg\n",
      "mtime:    2015-08-21 15:27:05\n",
      "ctime:    2015-10-16 23:24:37.027950\n",
      "md5:      98e89e5dc7d328dfcbb2d69633195d05\n"
     ]
    }
   ],
   "source": [
    "def size(fname):\n",
    "    return int(os.stat(fname).st_size)\n",
    "\n",
    "def mtime(fname):\n",
    "    return datetime.fromtimestamp(os.stat(fname).st_mtime)\n",
    "\n",
    "def ctime(fname):\n",
    "    return datetime.fromtimestamp(os.stat(fname).st_ctime)\n",
    "\n",
    "def hashfile(fname, algorithm=hashlib.md5, blocksize=65536):\n",
    "    \"\"\"Hexadecimal hash of a file\"\"\"\n",
    "    hasher = algorithm()\n",
    "    with open(fname, 'rb') as source:\n",
    "        buffer = source.read(blocksize)\n",
    "        while len(buffer) > 0:\n",
    "            hasher.update(buffer)\n",
    "            buffer = source.read(blocksize)\n",
    "    return hasher.hexdigest()\n",
    "\n",
    "def stats(file):\n",
    "    print('filename: {file}\\nmtime:    {mtime}\\nctime:    {ctime}\\nmd5:      {md5}'.format(\n",
    "        file=file, mtime=mtime(file), ctime=ctime(file), size=size(file), md5=hashfile(file)))\n",
    "\n",
    "stats(file)"
   ]
  },
  {
   "cell_type": "code",
   "execution_count": 5,
   "metadata": {
    "collapsed": false
   },
   "outputs": [
    {
     "data": {
      "text/plain": [
       "{datetime.datetime(2015, 10, 22, 20, 47, 9, 422159): 'now'}"
      ]
     },
     "execution_count": 5,
     "metadata": {},
     "output_type": "execute_result"
    }
   ],
   "source": [
    "{datetime.now():'now'}"
   ]
  },
  {
   "cell_type": "code",
   "execution_count": 6,
   "metadata": {
    "collapsed": false
   },
   "outputs": [
    {
     "data": {
      "text/plain": [
       "'-62135599380'"
      ]
     },
     "execution_count": 6,
     "metadata": {},
     "output_type": "execute_result"
    }
   ],
   "source": [
    "datetime.min.strftime('%s')"
   ]
  },
  {
   "cell_type": "code",
   "execution_count": 9,
   "metadata": {
    "collapsed": false
   },
   "outputs": [
    {
     "name": "stdout",
     "output_type": "stream",
     "text": [
      "/srv/fotoarkiv_universitas/STAGING/IMAGES\n"
     ]
    }
   ],
   "source": [
    "import os\n",
    "from datetime import datetime\n",
    "\n",
    "now = datetime.now()\n",
    "IMAGE_STAGING = os.path.join(settings.STAGING_ROOT, 'IMAGES')\n",
    "os.chdir(IMAGE_STAGING)\n",
    "print(os.path.abspath(os.curdir))"
   ]
  },
  {
   "cell_type": "code",
   "execution_count": 11,
   "metadata": {
    "collapsed": false,
    "scrolled": false
   },
   "outputs": [
    {
     "name": "stdout",
     "output_type": "stream",
     "text": [
      "Nummer-14-onsdag-18-oktober1989.jpg       2015-10-14 11:32:00\n",
      "28-SID-oyeblikk-03-AOB.jpg                2015-10-14 11:31:58\n",
      "statsbudsjett.jpg                         2015-10-14 11:31:58\n",
      "28-SID-oyeblikk-02-AOB.jpg                2015-10-14 11:31:57\n",
      "28-SID-oyeblikk-01-AOB.jpg                2015-10-14 11:31:56\n",
      "28-NYH-nyhrektorkje-03-XX.jpg             2015-10-14 11:31:54\n",
      "rektor plektor fra _SLEKTOR_.JPEG         2015-10-14 11:31:54\n",
      "Arkivfoto-uio-rektor-KjetilBlom.jpg       2015-10-14 11:31:54\n",
      "28-NYH-nyhrektorkje-01-XX.jpg             2015-10-14 11:31:52\n",
      "26-NYH-nyharbeidsmo-03-HB.jpg             2015-10-14 11:31:52\n"
     ]
    }
   ],
   "source": [
    "for file_path in sorted(os.listdir(), key=lambda f: os.path.getmtime(f), reverse=True)[:10]: \n",
    "    mtime = os.path.getmtime(file_path)\n",
    "    modified = datetime.fromtimestamp(mtime)\n",
    "    print('{0:<40.40}  {1}'.format(file_path, modified))\n",
    "    "
   ]
  },
  {
   "cell_type": "code",
   "execution_count": 12,
   "metadata": {
    "collapsed": false
   },
   "outputs": [
    {
     "data": {
      "text/plain": [
       "[]"
      ]
     },
     "execution_count": 12,
     "metadata": {},
     "output_type": "execute_result"
    }
   ],
   "source": [
    "ImageFile.objects.filter(source_file__icontains=file_path)"
   ]
  },
  {
   "cell_type": "code",
   "execution_count": 13,
   "metadata": {
    "collapsed": false
   },
   "outputs": [
    {
     "data": {
      "text/plain": [
       "'26-NYH-nyharbeidsmo-03-HB.jpg'"
      ]
     },
     "execution_count": 13,
     "metadata": {},
     "output_type": "execute_result"
    }
   ],
   "source": [
    "file_path"
   ]
  },
  {
   "cell_type": "code",
   "execution_count": 17,
   "metadata": {
    "collapsed": false
   },
   "outputs": [
    {
     "data": {
      "text/plain": [
       "[]"
      ]
     },
     "execution_count": 17,
     "metadata": {},
     "output_type": "execute_result"
    }
   ],
   "source": [
    "ImageFile.objects.filter(source_file__icontains='26-NYH-nyha')"
   ]
  },
  {
   "cell_type": "code",
   "execution_count": 53,
   "metadata": {
    "collapsed": false
   },
   "outputs": [
    {
     "ename": "FieldError",
     "evalue": "Unsupported lookup 'size' for ImageField or join on the field not permitted.",
     "output_type": "error",
     "traceback": [
      "\u001b[1;31m---------------------------------------------------------------------------\u001b[0m",
      "\u001b[1;31mFieldError\u001b[0m                                Traceback (most recent call last)",
      "\u001b[1;32m<ipython-input-53-7b0343c28f51>\u001b[0m in \u001b[0;36m<module>\u001b[1;34m()\u001b[0m\n\u001b[1;32m----> 1\u001b[1;33m \u001b[0mImageFile\u001b[0m\u001b[1;33m.\u001b[0m\u001b[0mobjects\u001b[0m\u001b[1;33m.\u001b[0m\u001b[0mfilter\u001b[0m\u001b[1;33m(\u001b[0m\u001b[0msource_file__size__gt\u001b[0m\u001b[1;33m=\u001b[0m\u001b[1;36m10\u001b[0m\u001b[1;33m**\u001b[0m\u001b[1;36m6\u001b[0m\u001b[1;33m)\u001b[0m\u001b[1;33m\u001b[0m\u001b[0m\n\u001b[0m",
      "\u001b[1;32m/srv/local.universitas.no/pyvenv/local.universitas.no/lib/python3.4/site-packages/django/db/models/manager.py\u001b[0m in \u001b[0;36mmanager_method\u001b[1;34m(self, *args, **kwargs)\u001b[0m\n\u001b[0;32m    125\u001b[0m         \u001b[1;32mdef\u001b[0m \u001b[0mcreate_method\u001b[0m\u001b[1;33m(\u001b[0m\u001b[0mname\u001b[0m\u001b[1;33m,\u001b[0m \u001b[0mmethod\u001b[0m\u001b[1;33m)\u001b[0m\u001b[1;33m:\u001b[0m\u001b[1;33m\u001b[0m\u001b[0m\n\u001b[0;32m    126\u001b[0m             \u001b[1;32mdef\u001b[0m \u001b[0mmanager_method\u001b[0m\u001b[1;33m(\u001b[0m\u001b[0mself\u001b[0m\u001b[1;33m,\u001b[0m \u001b[1;33m*\u001b[0m\u001b[0margs\u001b[0m\u001b[1;33m,\u001b[0m \u001b[1;33m**\u001b[0m\u001b[0mkwargs\u001b[0m\u001b[1;33m)\u001b[0m\u001b[1;33m:\u001b[0m\u001b[1;33m\u001b[0m\u001b[0m\n\u001b[1;32m--> 127\u001b[1;33m                 \u001b[1;32mreturn\u001b[0m \u001b[0mgetattr\u001b[0m\u001b[1;33m(\u001b[0m\u001b[0mself\u001b[0m\u001b[1;33m.\u001b[0m\u001b[0mget_queryset\u001b[0m\u001b[1;33m(\u001b[0m\u001b[1;33m)\u001b[0m\u001b[1;33m,\u001b[0m \u001b[0mname\u001b[0m\u001b[1;33m)\u001b[0m\u001b[1;33m(\u001b[0m\u001b[1;33m*\u001b[0m\u001b[0margs\u001b[0m\u001b[1;33m,\u001b[0m \u001b[1;33m**\u001b[0m\u001b[0mkwargs\u001b[0m\u001b[1;33m)\u001b[0m\u001b[1;33m\u001b[0m\u001b[0m\n\u001b[0m\u001b[0;32m    128\u001b[0m             \u001b[0mmanager_method\u001b[0m\u001b[1;33m.\u001b[0m\u001b[0m__name__\u001b[0m \u001b[1;33m=\u001b[0m \u001b[0mmethod\u001b[0m\u001b[1;33m.\u001b[0m\u001b[0m__name__\u001b[0m\u001b[1;33m\u001b[0m\u001b[0m\n\u001b[0;32m    129\u001b[0m             \u001b[0mmanager_method\u001b[0m\u001b[1;33m.\u001b[0m\u001b[0m__doc__\u001b[0m \u001b[1;33m=\u001b[0m \u001b[0mmethod\u001b[0m\u001b[1;33m.\u001b[0m\u001b[0m__doc__\u001b[0m\u001b[1;33m\u001b[0m\u001b[0m\n",
      "\u001b[1;32m/srv/local.universitas.no/pyvenv/local.universitas.no/lib/python3.4/site-packages/django/db/models/query.py\u001b[0m in \u001b[0;36mfilter\u001b[1;34m(self, *args, **kwargs)\u001b[0m\n\u001b[0;32m    677\u001b[0m         \u001b[0mset\u001b[0m\u001b[1;33m.\u001b[0m\u001b[1;33m\u001b[0m\u001b[0m\n\u001b[0;32m    678\u001b[0m         \"\"\"\n\u001b[1;32m--> 679\u001b[1;33m         \u001b[1;32mreturn\u001b[0m \u001b[0mself\u001b[0m\u001b[1;33m.\u001b[0m\u001b[0m_filter_or_exclude\u001b[0m\u001b[1;33m(\u001b[0m\u001b[1;32mFalse\u001b[0m\u001b[1;33m,\u001b[0m \u001b[1;33m*\u001b[0m\u001b[0margs\u001b[0m\u001b[1;33m,\u001b[0m \u001b[1;33m**\u001b[0m\u001b[0mkwargs\u001b[0m\u001b[1;33m)\u001b[0m\u001b[1;33m\u001b[0m\u001b[0m\n\u001b[0m\u001b[0;32m    680\u001b[0m \u001b[1;33m\u001b[0m\u001b[0m\n\u001b[0;32m    681\u001b[0m     \u001b[1;32mdef\u001b[0m \u001b[0mexclude\u001b[0m\u001b[1;33m(\u001b[0m\u001b[0mself\u001b[0m\u001b[1;33m,\u001b[0m \u001b[1;33m*\u001b[0m\u001b[0margs\u001b[0m\u001b[1;33m,\u001b[0m \u001b[1;33m**\u001b[0m\u001b[0mkwargs\u001b[0m\u001b[1;33m)\u001b[0m\u001b[1;33m:\u001b[0m\u001b[1;33m\u001b[0m\u001b[0m\n",
      "\u001b[1;32m/srv/local.universitas.no/pyvenv/local.universitas.no/lib/python3.4/site-packages/django/db/models/query.py\u001b[0m in \u001b[0;36m_filter_or_exclude\u001b[1;34m(self, negate, *args, **kwargs)\u001b[0m\n\u001b[0;32m    695\u001b[0m             \u001b[0mclone\u001b[0m\u001b[1;33m.\u001b[0m\u001b[0mquery\u001b[0m\u001b[1;33m.\u001b[0m\u001b[0madd_q\u001b[0m\u001b[1;33m(\u001b[0m\u001b[1;33m~\u001b[0m\u001b[0mQ\u001b[0m\u001b[1;33m(\u001b[0m\u001b[1;33m*\u001b[0m\u001b[0margs\u001b[0m\u001b[1;33m,\u001b[0m \u001b[1;33m**\u001b[0m\u001b[0mkwargs\u001b[0m\u001b[1;33m)\u001b[0m\u001b[1;33m)\u001b[0m\u001b[1;33m\u001b[0m\u001b[0m\n\u001b[0;32m    696\u001b[0m         \u001b[1;32melse\u001b[0m\u001b[1;33m:\u001b[0m\u001b[1;33m\u001b[0m\u001b[0m\n\u001b[1;32m--> 697\u001b[1;33m             \u001b[0mclone\u001b[0m\u001b[1;33m.\u001b[0m\u001b[0mquery\u001b[0m\u001b[1;33m.\u001b[0m\u001b[0madd_q\u001b[0m\u001b[1;33m(\u001b[0m\u001b[0mQ\u001b[0m\u001b[1;33m(\u001b[0m\u001b[1;33m*\u001b[0m\u001b[0margs\u001b[0m\u001b[1;33m,\u001b[0m \u001b[1;33m**\u001b[0m\u001b[0mkwargs\u001b[0m\u001b[1;33m)\u001b[0m\u001b[1;33m)\u001b[0m\u001b[1;33m\u001b[0m\u001b[0m\n\u001b[0m\u001b[0;32m    698\u001b[0m         \u001b[1;32mreturn\u001b[0m \u001b[0mclone\u001b[0m\u001b[1;33m\u001b[0m\u001b[0m\n\u001b[0;32m    699\u001b[0m \u001b[1;33m\u001b[0m\u001b[0m\n",
      "\u001b[1;32m/srv/local.universitas.no/pyvenv/local.universitas.no/lib/python3.4/site-packages/django/db/models/sql/query.py\u001b[0m in \u001b[0;36madd_q\u001b[1;34m(self, q_object)\u001b[0m\n\u001b[0;32m   1307\u001b[0m         existing_inner = set(\n\u001b[0;32m   1308\u001b[0m             (a for a in self.alias_map if self.alias_map[a].join_type == INNER))\n\u001b[1;32m-> 1309\u001b[1;33m         \u001b[0mclause\u001b[0m\u001b[1;33m,\u001b[0m \u001b[0mrequire_inner\u001b[0m \u001b[1;33m=\u001b[0m \u001b[0mself\u001b[0m\u001b[1;33m.\u001b[0m\u001b[0m_add_q\u001b[0m\u001b[1;33m(\u001b[0m\u001b[0mwhere_part\u001b[0m\u001b[1;33m,\u001b[0m \u001b[0mself\u001b[0m\u001b[1;33m.\u001b[0m\u001b[0mused_aliases\u001b[0m\u001b[1;33m)\u001b[0m\u001b[1;33m\u001b[0m\u001b[0m\n\u001b[0m\u001b[0;32m   1310\u001b[0m         \u001b[0mself\u001b[0m\u001b[1;33m.\u001b[0m\u001b[0mwhere\u001b[0m\u001b[1;33m.\u001b[0m\u001b[0madd\u001b[0m\u001b[1;33m(\u001b[0m\u001b[0mclause\u001b[0m\u001b[1;33m,\u001b[0m \u001b[0mAND\u001b[0m\u001b[1;33m)\u001b[0m\u001b[1;33m\u001b[0m\u001b[0m\n\u001b[0;32m   1311\u001b[0m         \u001b[1;32mfor\u001b[0m \u001b[0mhp\u001b[0m \u001b[1;32min\u001b[0m \u001b[0mhaving_parts\u001b[0m\u001b[1;33m:\u001b[0m\u001b[1;33m\u001b[0m\u001b[0m\n",
      "\u001b[1;32m/srv/local.universitas.no/pyvenv/local.universitas.no/lib/python3.4/site-packages/django/db/models/sql/query.py\u001b[0m in \u001b[0;36m_add_q\u001b[1;34m(self, q_object, used_aliases, branch_negated, current_negated, allow_joins, split_subq)\u001b[0m\n\u001b[0;32m   1335\u001b[0m                     \u001b[0mchild\u001b[0m\u001b[1;33m,\u001b[0m \u001b[0mcan_reuse\u001b[0m\u001b[1;33m=\u001b[0m\u001b[0mused_aliases\u001b[0m\u001b[1;33m,\u001b[0m \u001b[0mbranch_negated\u001b[0m\u001b[1;33m=\u001b[0m\u001b[0mbranch_negated\u001b[0m\u001b[1;33m,\u001b[0m\u001b[1;33m\u001b[0m\u001b[0m\n\u001b[0;32m   1336\u001b[0m                     \u001b[0mcurrent_negated\u001b[0m\u001b[1;33m=\u001b[0m\u001b[0mcurrent_negated\u001b[0m\u001b[1;33m,\u001b[0m \u001b[0mconnector\u001b[0m\u001b[1;33m=\u001b[0m\u001b[0mconnector\u001b[0m\u001b[1;33m,\u001b[0m\u001b[1;33m\u001b[0m\u001b[0m\n\u001b[1;32m-> 1337\u001b[1;33m                     \u001b[0mallow_joins\u001b[0m\u001b[1;33m=\u001b[0m\u001b[0mallow_joins\u001b[0m\u001b[1;33m,\u001b[0m \u001b[0msplit_subq\u001b[0m\u001b[1;33m=\u001b[0m\u001b[0msplit_subq\u001b[0m\u001b[1;33m,\u001b[0m\u001b[1;33m\u001b[0m\u001b[0m\n\u001b[0m\u001b[0;32m   1338\u001b[0m                 )\n\u001b[0;32m   1339\u001b[0m                 \u001b[0mjoinpromoter\u001b[0m\u001b[1;33m.\u001b[0m\u001b[0madd_votes\u001b[0m\u001b[1;33m(\u001b[0m\u001b[0mneeded_inner\u001b[0m\u001b[1;33m)\u001b[0m\u001b[1;33m\u001b[0m\u001b[0m\n",
      "\u001b[1;32m/srv/local.universitas.no/pyvenv/local.universitas.no/lib/python3.4/site-packages/django/db/models/sql/query.py\u001b[0m in \u001b[0;36mbuild_filter\u001b[1;34m(self, filter_expr, branch_negated, current_negated, can_reuse, connector, allow_joins, split_subq)\u001b[0m\n\u001b[0;32m   1206\u001b[0m             \u001b[1;32melse\u001b[0m\u001b[1;33m:\u001b[0m\u001b[1;33m\u001b[0m\u001b[0m\n\u001b[0;32m   1207\u001b[0m                 \u001b[0mcol\u001b[0m \u001b[1;33m=\u001b[0m \u001b[0mtargets\u001b[0m\u001b[1;33m[\u001b[0m\u001b[1;36m0\u001b[0m\u001b[1;33m]\u001b[0m\u001b[1;33m.\u001b[0m\u001b[0mget_col\u001b[0m\u001b[1;33m(\u001b[0m\u001b[0malias\u001b[0m\u001b[1;33m,\u001b[0m \u001b[0mfield\u001b[0m\u001b[1;33m)\u001b[0m\u001b[1;33m\u001b[0m\u001b[0m\n\u001b[1;32m-> 1208\u001b[1;33m             \u001b[0mcondition\u001b[0m \u001b[1;33m=\u001b[0m \u001b[0mself\u001b[0m\u001b[1;33m.\u001b[0m\u001b[0mbuild_lookup\u001b[0m\u001b[1;33m(\u001b[0m\u001b[0mlookups\u001b[0m\u001b[1;33m,\u001b[0m \u001b[0mcol\u001b[0m\u001b[1;33m,\u001b[0m \u001b[0mvalue\u001b[0m\u001b[1;33m)\u001b[0m\u001b[1;33m\u001b[0m\u001b[0m\n\u001b[0m\u001b[0;32m   1209\u001b[0m             \u001b[1;32mif\u001b[0m \u001b[1;32mnot\u001b[0m \u001b[0mcondition\u001b[0m\u001b[1;33m:\u001b[0m\u001b[1;33m\u001b[0m\u001b[0m\n\u001b[0;32m   1210\u001b[0m                 \u001b[1;31m# Backwards compat for custom lookups\u001b[0m\u001b[1;33m\u001b[0m\u001b[1;33m\u001b[0m\u001b[0m\n",
      "\u001b[1;32m/srv/local.universitas.no/pyvenv/local.universitas.no/lib/python3.4/site-packages/django/db/models/sql/query.py\u001b[0m in \u001b[0;36mbuild_lookup\u001b[1;34m(self, lookups, lhs, rhs)\u001b[0m\n\u001b[0;32m   1100\u001b[0m                     \u001b[0mfinal_lookup\u001b[0m \u001b[1;33m=\u001b[0m \u001b[0mlhs\u001b[0m\u001b[1;33m.\u001b[0m\u001b[0mget_lookup\u001b[0m\u001b[1;33m(\u001b[0m\u001b[1;34m'exact'\u001b[0m\u001b[1;33m)\u001b[0m\u001b[1;33m\u001b[0m\u001b[0m\n\u001b[0;32m   1101\u001b[0m                 \u001b[1;32mreturn\u001b[0m \u001b[0mfinal_lookup\u001b[0m\u001b[1;33m(\u001b[0m\u001b[0mlhs\u001b[0m\u001b[1;33m,\u001b[0m \u001b[0mrhs\u001b[0m\u001b[1;33m)\u001b[0m\u001b[1;33m\u001b[0m\u001b[0m\n\u001b[1;32m-> 1102\u001b[1;33m             \u001b[0mlhs\u001b[0m \u001b[1;33m=\u001b[0m \u001b[0mself\u001b[0m\u001b[1;33m.\u001b[0m\u001b[0mtry_transform\u001b[0m\u001b[1;33m(\u001b[0m\u001b[0mlhs\u001b[0m\u001b[1;33m,\u001b[0m \u001b[0mname\u001b[0m\u001b[1;33m,\u001b[0m \u001b[0mlookups\u001b[0m\u001b[1;33m)\u001b[0m\u001b[1;33m\u001b[0m\u001b[0m\n\u001b[0m\u001b[0;32m   1103\u001b[0m             \u001b[0mlookups\u001b[0m \u001b[1;33m=\u001b[0m \u001b[0mlookups\u001b[0m\u001b[1;33m[\u001b[0m\u001b[1;36m1\u001b[0m\u001b[1;33m:\u001b[0m\u001b[1;33m]\u001b[0m\u001b[1;33m\u001b[0m\u001b[0m\n\u001b[0;32m   1104\u001b[0m \u001b[1;33m\u001b[0m\u001b[0m\n",
      "\u001b[1;32m/srv/local.universitas.no/pyvenv/local.universitas.no/lib/python3.4/site-packages/django/db/models/sql/query.py\u001b[0m in \u001b[0;36mtry_transform\u001b[1;34m(self, lhs, name, rest_of_lookups)\u001b[0m\n\u001b[0;32m   1115\u001b[0m                 \u001b[1;34m\"Unsupported lookup '%s' for %s or join on the field not \"\u001b[0m\u001b[1;33m\u001b[0m\u001b[0m\n\u001b[0;32m   1116\u001b[0m                 \u001b[1;34m\"permitted.\"\u001b[0m \u001b[1;33m%\u001b[0m\u001b[1;33m\u001b[0m\u001b[0m\n\u001b[1;32m-> 1117\u001b[1;33m                 (name, lhs.output_field.__class__.__name__))\n\u001b[0m\u001b[0;32m   1118\u001b[0m \u001b[1;33m\u001b[0m\u001b[0m\n\u001b[0;32m   1119\u001b[0m     def build_filter(self, filter_expr, branch_negated=False, current_negated=False,\n",
      "\u001b[1;31mFieldError\u001b[0m: Unsupported lookup 'size' for ImageField or join on the field not permitted."
     ]
    }
   ],
   "source": [
    "ImageFile.objects.filter(source_file__size__gt=10**6)"
   ]
  },
  {
   "cell_type": "code",
   "execution_count": null,
   "metadata": {
    "collapsed": true
   },
   "outputs": [],
   "source": []
  }
 ],
 "metadata": {
  "kernelspec": {
   "display_name": "Django Shell-Plus",
   "language": "python",
   "name": "django_extensions"
  },
  "language_info": {
   "codemirror_mode": {
    "name": "ipython",
    "version": 3
   },
   "file_extension": ".py",
   "mimetype": "text/x-python",
   "name": "python",
   "nbconvert_exporter": "python",
   "pygments_lexer": "ipython3",
   "version": "3.4.3+"
  }
 },
 "nbformat": 4,
 "nbformat_minor": 0
}
