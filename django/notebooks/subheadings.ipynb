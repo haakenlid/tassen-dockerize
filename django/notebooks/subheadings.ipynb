{
 "metadata": {
  "name": "",
  "signature": "sha256:392d82f7767cba9fd19b59fd839027e5f3adc20db698e346cad039ab1651e5f5"
 },
 "nbformat": 3,
 "nbformat_minor": 0,
 "worksheets": [
  {
   "cells": [
    {
     "cell_type": "code",
     "collapsed": false,
     "input": [
      "from myapps.stories.models import Story, StoryElement, StoryImage, Pullquote, Aside\n",
      "import django\n",
      "from IPython.display import display, clear_output\n",
      "from pprint import pprint\n",
      "import random\n",
      "django.setup()\n",
      "\n",
      "\n",
      "def randomize(story):\n",
      "    for element in story.images():\n",
      "        #print(element._subclass)\n",
      "        image = element.child\n",
      "        image.index = random.choice([None]*5+list(range(50)))\n",
      "        image.inline = False\n",
      "        image.save()\n",
      "  \n",
      "def reshuffle():\n",
      "    \n",
      "    count = Story.objects.count()\n",
      "    for n, story in enumerate(Story.objects.all()):\n",
      "        counter = ('>'*n + '-'*count)[:count] + story.title\n",
      "        #clear_output(wait=True)\n",
      "        print(counter)\n",
      "        story.storyelement_set.all().update(inline=False)\n",
      "        randomize(story)\n",
      "        story.bodytext_markup = story.insert_all_inline_elements()\n",
      "        story.save()\n",
      "        #print('\\n\\n\\n', story.title, '\\n', story.bodytext_markup[:200])\n",
      "\n",
      "def table():\n",
      "    table = []\n",
      "    tablerow = '{:<8} {:50.50}' +' |{:^12}'*4\n",
      "    piav = ' '.join(['{:>2}']*3)\n",
      "    head = piav.format('PQ','IM','AS')\n",
      "    \n",
      "    table.append(tablerow.format('', '', 'all', 'top', 'inline', 'unpublish' ))\n",
      "    table.append(tablerow.format('id', 'title', head, head, head, head ))\n",
      "\n",
      "    table.append('-'*len(table[0]))\n",
      "    \n",
      "    for s in Story.objects.order_by('pk'):\n",
      "        elements = s.storyelement_set\n",
      "        items = pq, img, ass = s.pullquotes, s.images, s.asides#, s.videos\n",
      "\n",
      "\n",
      "        allit = piav.format(*(len(item()) or '' for item in items))\n",
      "        topit = piav.format(*(len(item().top()) or '' for item in items))\n",
      "        inlin = piav.format(*(len(item().inline()) or '' for item in items))\n",
      "        unpub = piav.format(*(len(item().unpublished()) or '' for item in items))\n",
      "\n",
      "        table.append(tablerow.format(s.pk, str(s).replace('\\n', ' \\ '), allit, topit, inlin, unpub))\n",
      "\n",
      "    table.extend(table[2:1:-1])\n",
      "    return '\\n'.join(table)\n",
      "\n",
      "table1 = table()\n",
      "# %debug -b myapps/stories/models.py:178 reshuffle()\n",
      "#%debug -b myapps/stories/templatetags/inline_elements.py:12 reshuffle()\n",
      "reshuffle()\n",
      "table2 = table()\n",
      "print(table1)\n",
      "print(table2)"
     ],
     "language": "python",
     "metadata": {},
     "outputs": [
      {
       "output_type": "stream",
       "stream": "stdout",
       "text": [
        "------------------Kortsiktig justispolitikk\n",
        ">-----------------Fire p\u00e5 plassen"
       ]
      },
      {
       "output_type": "stream",
       "stream": "stderr",
       "text": [
        "universitasWARNING                 models.py:714  (reindex_inlines) - \n",
        "flags: [] indexes: [1] @image:1 -> \n"
       ]
      },
      {
       "output_type": "stream",
       "stream": "stderr",
       "text": [
        "universitasWARNING                 models.py:714  (reindex_inlines) - \n",
        "flags: [] indexes: [2] @image:2 -> \n"
       ]
      },
      {
       "output_type": "stream",
       "stream": "stderr",
       "text": [
        "universitasWARNING                 models.py:714  (reindex_inlines) - \n",
        "flags: [] indexes: [3, 4] @image:3 4 -> \n"
       ]
      },
      {
       "output_type": "stream",
       "stream": "stderr",
       "text": [
        "universitasWARNING                 models.py:714  (reindex_inlines) - \n",
        "flags: [] indexes: [3, 4] @image:3 4 -> \n"
       ]
      },
      {
       "output_type": "stream",
       "stream": "stderr",
       "text": [
        "universitasWARNING                 models.py:714  (reindex_inlines) - \n",
        "flags: [] indexes: [5] @image:5 -> \n"
       ]
      },
      {
       "output_type": "stream",
       "stream": "stderr",
       "text": [
        "universitasWARNING                 models.py:714  (reindex_inlines) - \n",
        "flags: [] indexes: [6] @image:6 -> \n"
       ]
      },
      {
       "output_type": "stream",
       "stream": "stderr",
       "text": [
        "universitasWARNING                 models.py:714  (reindex_inlines) - \n",
        "flags: [] indexes: [7] @image:7 -> \n"
       ]
      },
      {
       "output_type": "stream",
       "stream": "stderr",
       "text": [
        "universitasWARNING                 models.py:714  (reindex_inlines) - \n",
        "flags: [] indexes: [8] @image:8 -> \n"
       ]
      },
      {
       "output_type": "stream",
       "stream": "stderr",
       "text": [
        "universitasWARNING                 models.py:714  (reindex_inlines) - \n",
        "flags: [] indexes: [25] @image:  25 -> @image: 1\n"
       ]
      },
      {
       "output_type": "stream",
       "stream": "stderr",
       "text": [
        "universitasWARNING                 models.py:714  (reindex_inlines) - \n",
        "flags: [] indexes: [38] @image:  38 -> @image: 2\n"
       ]
      },
      {
       "output_type": "stream",
       "stream": "stderr",
       "text": [
        "universitasWARNING                 models.py:714  (reindex_inlines) - \n",
        "flags: [] indexes: [40] @image:  40 -> @image: 3\n"
       ]
      },
      {
       "output_type": "stream",
       "stream": "stderr",
       "text": [
        "universitasWARNING                 models.py:714  (reindex_inlines) - \n",
        "flags: [] indexes: [42] @image:  42 -> @image: 4\n"
       ]
      },
      {
       "output_type": "stream",
       "stream": "stderr",
       "text": [
        "universitasWARNING                 models.py:714  (reindex_inlines) - \n",
        "flags: [] indexes: [45] @image:  45 -> @image: 5\n"
       ]
      },
      {
       "output_type": "stream",
       "stream": "stderr",
       "text": [
        "universitasWARNING                 models.py:714  (reindex_inlines) - \n",
        "flags: [] indexes: [46] @image:  46 -> @image: 6\n"
       ]
      },
      {
       "output_type": "stream",
       "stream": "stderr",
       "text": [
        "universitasWARNING                 models.py:736  (reindex_inlines) - after change:\n",
        "@image: 1\n",
        "@image: 2\n",
        "@image: 3\n",
        "@image: 4\n",
        "@image: 5\n",
        "@image: 6\n"
       ]
      },
      {
       "output_type": "stream",
       "stream": "stderr",
       "text": [
        "universitasWARNING                 models.py:740  (reindex_inlines) - changing bodytext_markup\n"
       ]
      },
      {
       "output_type": "stream",
       "stream": "stderr",
       "text": [
        "universitasWARNING                 models.py:159  (make_html) - ['{% inline_storyimage \"1\" %}', '{% inline_storyimage \"2\" %}', '{% inline_storyimage \"3\" %}', '{% inline_storyimage \"4\" %}', '{% inline_storyimage \"5\" %}', '{% inline_storyimage \"6\" %}']\n"
       ]
      },
      {
       "output_type": "stream",
       "stream": "stdout",
       "text": [
        "\n",
        ">>----------------Grunt avtrykk"
       ]
      },
      {
       "output_type": "stream",
       "stream": "stderr",
       "text": [
        "universitasWARNING                 models.py:714  (reindex_inlines) - \n",
        "flags: [] indexes: [1] @image:1 -> \n"
       ]
      },
      {
       "output_type": "stream",
       "stream": "stderr",
       "text": [
        "universitasWARNING                 models.py:714  (reindex_inlines) - \n",
        "flags: [] indexes: [25] @image:  25 -> @image: 1\n"
       ]
      },
      {
       "output_type": "stream",
       "stream": "stderr",
       "text": [
        "universitasWARNING                 models.py:736  (reindex_inlines) - after change:\n",
        "@image: 1\n"
       ]
      },
      {
       "output_type": "stream",
       "stream": "stderr",
       "text": [
        "universitasWARNING                 models.py:740  (reindex_inlines) - changing bodytext_markup\n"
       ]
      },
      {
       "output_type": "stream",
       "stream": "stderr",
       "text": [
        "universitasWARNING                 models.py:159  (make_html) - ['{% inline_storyimage \"1\" %}']\n"
       ]
      },
      {
       "output_type": "stream",
       "stream": "stdout",
       "text": [
        "\n",
        ">>>---------------\u2013 God kvalitet"
       ]
      },
      {
       "output_type": "stream",
       "stream": "stderr",
       "text": [
        "universitasWARNING                 models.py:714  (reindex_inlines) - \n",
        "flags: [] indexes: [1] @image:1 -> \n"
       ]
      },
      {
       "output_type": "stream",
       "stream": "stderr",
       "text": [
        "universitasWARNING                 models.py:714  (reindex_inlines) - \n",
        "flags: [] indexes: [32] @image:  32 -> @image: 1\n"
       ]
      },
      {
       "output_type": "stream",
       "stream": "stderr",
       "text": [
        "universitasWARNING                 models.py:736  (reindex_inlines) - after change:\n",
        "@image: 1\n"
       ]
      },
      {
       "output_type": "stream",
       "stream": "stderr",
       "text": [
        "universitasWARNING                 models.py:740  (reindex_inlines) - changing bodytext_markup\n"
       ]
      },
      {
       "output_type": "stream",
       "stream": "stderr",
       "text": [
        "universitasWARNING                 models.py:159  (make_html) - ['{% inline_storyimage \"1\" %}']\n"
       ]
      },
      {
       "output_type": "stream",
       "stream": "stdout",
       "text": [
        "\n",
        ">>>>--------------Frihetsdansen"
       ]
      },
      {
       "output_type": "stream",
       "stream": "stderr",
       "text": [
        "universitasWARNING                 models.py:714  (reindex_inlines) - \n",
        "flags: ['>'] indexes: [1] @box: > 1 -> @box: > 1\n"
       ]
      },
      {
       "output_type": "stream",
       "stream": "stderr",
       "text": [
        "universitasWARNING                 models.py:714  (reindex_inlines) - \n",
        "flags: [] indexes: [1] @box:&gt; 1 -> @box: 1\n"
       ]
      },
      {
       "output_type": "stream",
       "stream": "stderr",
       "text": [
        "universitasWARNING                 models.py:736  (reindex_inlines) - after change:\n",
        "@box: > 1\n",
        "@box: 1\n",
        "@quote:1\n",
        "@quote:1\n",
        "@quote:1\n",
        "@quote:  1\n",
        "@image:1 2\n",
        "@image:3 4 5\n",
        "@image:6\n",
        "@image:3 4 5\n",
        "@image:7\n",
        "@image:8\n",
        "@image:3 4 5\n",
        "@image:1 2\n",
        "@image:7\n",
        "@image:9\n",
        "@image:10\n",
        "@image:11\n",
        "@image:12\n",
        "@image:13\n",
        "@image:14\n",
        "@image:15 16\n",
        "@image:15 16\n",
        "@image:17\n",
        "@image:  25\n",
        "@image:  25\n",
        "@image:  27\n",
        "@image:  29\n",
        "@image:  31\n",
        "@image:  31\n",
        "@image:  38\n",
        "@image:  42\n",
        "@image:  47\n",
        "@image:  49\n"
       ]
      },
      {
       "output_type": "stream",
       "stream": "stderr",
       "text": [
        "universitasWARNING                 models.py:714  (reindex_inlines) - \n",
        "flags: [] indexes: [1, 2] @image:1 2 -> @image: 1\n"
       ]
      },
      {
       "output_type": "stream",
       "stream": "stderr",
       "text": [
        "universitasWARNING                 models.py:714  (reindex_inlines) - \n",
        "flags: [] indexes: [3, 4, 5] @image:3 4 5 -> @image: 2 3 4\n"
       ]
      },
      {
       "output_type": "stream",
       "stream": "stderr",
       "text": [
        "universitasWARNING                 models.py:714  (reindex_inlines) - \n",
        "flags: [] indexes: [6] @image:6 -> \n"
       ]
      },
      {
       "output_type": "stream",
       "stream": "stderr",
       "text": [
        "universitasWARNING                 models.py:714  (reindex_inlines) - \n",
        "flags: [] indexes: [3, 4, 5] @image:3 4 5 -> @image: 2 3 4\n"
       ]
      },
      {
       "output_type": "stream",
       "stream": "stderr",
       "text": [
        "universitasWARNING                 models.py:714  (reindex_inlines) - \n",
        "flags: [] indexes: [7] @image:7 -> \n"
       ]
      },
      {
       "output_type": "stream",
       "stream": "stderr",
       "text": [
        "universitasWARNING                 models.py:714  (reindex_inlines) - \n",
        "flags: [] indexes: [8] @image:8 -> \n"
       ]
      },
      {
       "output_type": "stream",
       "stream": "stderr",
       "text": [
        "universitasWARNING                 models.py:714  (reindex_inlines) - \n",
        "flags: [] indexes: [3, 4, 5] @image:3 4 5 -> @image: 2 3 4\n"
       ]
      },
      {
       "output_type": "stream",
       "stream": "stderr",
       "text": [
        "universitasWARNING                 models.py:714  (reindex_inlines) - \n",
        "flags: [] indexes: [1, 2] @image:1 2 -> @image: 1\n"
       ]
      },
      {
       "output_type": "stream",
       "stream": "stderr",
       "text": [
        "universitasWARNING                 models.py:714  (reindex_inlines) - \n",
        "flags: [] indexes: [7] @image:7 -> \n"
       ]
      },
      {
       "output_type": "stream",
       "stream": "stderr",
       "text": [
        "universitasWARNING                 models.py:714  (reindex_inlines) - \n",
        "flags: [] indexes: [9] @image:9 -> @image: 5 6\n"
       ]
      },
      {
       "output_type": "stream",
       "stream": "stderr",
       "text": [
        "universitasWARNING                 models.py:714  (reindex_inlines) - \n",
        "flags: [] indexes: [10] @image:10 -> @image: 7\n"
       ]
      },
      {
       "output_type": "stream",
       "stream": "stderr",
       "text": [
        "universitasWARNING                 models.py:714  (reindex_inlines) - \n",
        "flags: [] indexes: [11] @image:11 -> \n"
       ]
      },
      {
       "output_type": "stream",
       "stream": "stderr",
       "text": [
        "universitasWARNING                 models.py:714  (reindex_inlines) - \n",
        "flags: [] indexes: [12] @image:12 -> \n"
       ]
      },
      {
       "output_type": "stream",
       "stream": "stderr",
       "text": [
        "universitasWARNING                 models.py:714  (reindex_inlines) - \n",
        "flags: [] indexes: [13] @image:13 -> \n"
       ]
      },
      {
       "output_type": "stream",
       "stream": "stderr",
       "text": [
        "universitasWARNING                 models.py:714  (reindex_inlines) - \n",
        "flags: [] indexes: [14] @image:14 -> \n"
       ]
      },
      {
       "output_type": "stream",
       "stream": "stderr",
       "text": [
        "universitasWARNING                 models.py:714  (reindex_inlines) - \n",
        "flags: [] indexes: [15, 16] @image:15 16 -> @image: 8\n"
       ]
      },
      {
       "output_type": "stream",
       "stream": "stderr",
       "text": [
        "universitasWARNING                 models.py:714  (reindex_inlines) - \n",
        "flags: [] indexes: [15, 16] @image:15 16 -> @image: 8\n"
       ]
      },
      {
       "output_type": "stream",
       "stream": "stderr",
       "text": [
        "universitasWARNING                 models.py:714  (reindex_inlines) - \n",
        "flags: [] indexes: [17] @image:17 -> \n"
       ]
      },
      {
       "output_type": "stream",
       "stream": "stderr",
       "text": [
        "universitasWARNING                 models.py:714  (reindex_inlines) - \n",
        "flags: [] indexes: [25] @image:  25 -> @image: 9 10\n"
       ]
      },
      {
       "output_type": "stream",
       "stream": "stderr",
       "text": [
        "universitasWARNING                 models.py:714  (reindex_inlines) - \n",
        "flags: [] indexes: [25] @image:  25 -> @image: 9 10\n"
       ]
      },
      {
       "output_type": "stream",
       "stream": "stderr",
       "text": [
        "universitasWARNING                 models.py:714  (reindex_inlines) - \n",
        "flags: [] indexes: [27] @image:  27 -> @image: 11\n"
       ]
      },
      {
       "output_type": "stream",
       "stream": "stderr",
       "text": [
        "universitasWARNING                 models.py:714  (reindex_inlines) - \n",
        "flags: [] indexes: [29] @image:  29 -> @image: 12\n"
       ]
      },
      {
       "output_type": "stream",
       "stream": "stderr",
       "text": [
        "universitasWARNING                 models.py:714  (reindex_inlines) - \n",
        "flags: [] indexes: [31] @image:  31 -> @image: 13 14\n"
       ]
      },
      {
       "output_type": "stream",
       "stream": "stderr",
       "text": [
        "universitasWARNING                 models.py:714  (reindex_inlines) - \n",
        "flags: [] indexes: [31] @image:  31 -> @image: 13 14\n"
       ]
      },
      {
       "output_type": "stream",
       "stream": "stderr",
       "text": [
        "universitasWARNING                 models.py:714  (reindex_inlines) - \n",
        "flags: [] indexes: [38] @image:  38 -> @image: 15\n"
       ]
      },
      {
       "output_type": "stream",
       "stream": "stderr",
       "text": [
        "universitasWARNING                 models.py:714  (reindex_inlines) - \n",
        "flags: [] indexes: [42] @image:  42 -> @image: 16\n"
       ]
      },
      {
       "output_type": "stream",
       "stream": "stderr",
       "text": [
        "universitasWARNING                 models.py:714  (reindex_inlines) - \n",
        "flags: [] indexes: [47] @image:  47 -> @image: 17\n"
       ]
      },
      {
       "output_type": "stream",
       "stream": "stderr",
       "text": [
        "universitasWARNING                 models.py:714  (reindex_inlines) - \n",
        "flags: [] indexes: [49] @image:  49 -> @image: 18\n"
       ]
      },
      {
       "output_type": "stream",
       "stream": "stderr",
       "text": [
        "universitasWARNING                 models.py:736  (reindex_inlines) - after change:\n",
        "@box: > 1\n",
        "@box: 1\n",
        "@quote:1\n",
        "@quote:1\n",
        "@quote:1\n",
        "@quote:  1\n",
        "@image: 1\n",
        "@image: 2 3 4\n",
        "@image: 2 3 4\n",
        "@image: 2 3 4\n",
        "@image: 1\n",
        "@image: 5 6\n",
        "@image: 7\n",
        "@image: 8\n",
        "@image: 8\n",
        "@image: 9 10\n",
        "@image: 9 10\n",
        "@image: 11\n",
        "@image: 12\n",
        "@image: 13 14\n",
        "@image: 13 14\n",
        "@image: 15\n",
        "@image: 16\n",
        "@image: 17\n",
        "@image: 18\n"
       ]
      },
      {
       "output_type": "stream",
       "stream": "stderr",
       "text": [
        "universitasWARNING                 models.py:714  (reindex_inlines) - \n",
        "flags: [] indexes: [1] @quote:1 -> @quote: 1\n"
       ]
      },
      {
       "output_type": "stream",
       "stream": "stderr",
       "text": [
        "universitasWARNING                 models.py:714  (reindex_inlines) - \n",
        "flags: [] indexes: [1] @quote:1 -> @quote: 1\n"
       ]
      },
      {
       "output_type": "stream",
       "stream": "stderr",
       "text": [
        "universitasWARNING                 models.py:714  (reindex_inlines) - \n",
        "flags: [] indexes: [1] @quote:1 -> @quote: 1\n"
       ]
      },
      {
       "output_type": "stream",
       "stream": "stderr",
       "text": [
        "universitasWARNING                 models.py:714  (reindex_inlines) - \n",
        "flags: [] indexes: [1] @quote:  1 -> @quote: 1\n"
       ]
      },
      {
       "output_type": "stream",
       "stream": "stderr",
       "text": [
        "universitasWARNING                 models.py:736  (reindex_inlines) - after change:\n",
        "@box: > 1\n",
        "@box: 1\n",
        "@quote: 1\n",
        "@quote: 1\n",
        "@quote: 1\n",
        "@quote: 1\n",
        "@image: 1\n",
        "@image: 2 3 4\n",
        "@image: 2 3 4\n",
        "@image: 2 3 4\n",
        "@image: 1\n",
        "@image: 5 6\n",
        "@image: 7\n",
        "@image: 8\n",
        "@image: 8\n",
        "@image: 9 10\n",
        "@image: 9 10\n",
        "@image: 11\n",
        "@image: 12\n",
        "@image: 13 14\n",
        "@image: 13 14\n",
        "@image: 15\n",
        "@image: 16\n",
        "@image: 17\n",
        "@image: 18\n"
       ]
      },
      {
       "output_type": "stream",
       "stream": "stderr",
       "text": [
        "universitasWARNING                 models.py:740  (reindex_inlines) - changing bodytext_markup\n"
       ]
      },
      {
       "output_type": "stream",
       "stream": "stderr",
       "text": [
        "universitasWARNING                 models.py:159  (make_html) - ['{% inline_aside \"> 1\" %}', '{% inline_aside \"1\" %}', '{% inline_pullquote \"1\" %}', '{% inline_pullquote \"1\" %}', '{% inline_pullquote \"1\" %}', '{% inline_pullquote \"1\" %}', '{% inline_storyimage \"1\" %}', '{% inline_storyimage \"2 3 4\" %}', '{% inline_storyimage \"2 3 4\" %}', '{% inline_storyimage \"2 3 4\" %}', '{% inline_storyimage \"1\" %}', '{% inline_storyimage \"5 6\" %}', '{% inline_storyimage \"7\" %}', '{% inline_storyimage \"8\" %}', '{% inline_storyimage \"8\" %}', '{% inline_storyimage \"9 10\" %}', '{% inline_storyimage \"9 10\" %}', '{% inline_storyimage \"11\" %}', '{% inline_storyimage \"12\" %}', '{% inline_storyimage \"13 14\" %}', '{% inline_storyimage \"13 14\" %}', '{% inline_storyimage \"15\" %}', '{% inline_storyimage \"16\" %}', '{% inline_storyimage \"17\" %}', '{% inline_storyimage \"18\" %}']\n"
       ]
      },
      {
       "output_type": "stream",
       "stream": "stdout",
       "text": [
        "\n",
        ">>>>>-------------Barbering er ikke mote, det er ideologi"
       ]
      },
      {
       "output_type": "stream",
       "stream": "stderr",
       "text": [
        "universitasWARNING                 models.py:714  (reindex_inlines) - \n",
        "flags: [] indexes: [1] @image:1 -> \n"
       ]
      },
      {
       "output_type": "stream",
       "stream": "stderr",
       "text": [
        "universitasWARNING                 models.py:714  (reindex_inlines) - \n",
        "flags: [] indexes: [48] @image:  48 -> @image: 1\n"
       ]
      },
      {
       "output_type": "stream",
       "stream": "stderr",
       "text": [
        "universitasWARNING                 models.py:736  (reindex_inlines) - after change:\n",
        "@quote:1\n",
        "@quote:1\n",
        "@quote:1\n",
        "@quote:  1\n",
        "@image: 1\n"
       ]
      },
      {
       "output_type": "stream",
       "stream": "stderr",
       "text": [
        "universitasWARNING                 models.py:714  (reindex_inlines) - \n",
        "flags: [] indexes: [1] @quote:1 -> @quote: 1\n"
       ]
      },
      {
       "output_type": "stream",
       "stream": "stderr",
       "text": [
        "universitasWARNING                 models.py:714  (reindex_inlines) - \n",
        "flags: [] indexes: [1] @quote:1 -> @quote: 1\n"
       ]
      },
      {
       "output_type": "stream",
       "stream": "stderr",
       "text": [
        "universitasWARNING                 models.py:714  (reindex_inlines) - \n",
        "flags: [] indexes: [1] @quote:1 -> @quote: 1\n"
       ]
      },
      {
       "output_type": "stream",
       "stream": "stderr",
       "text": [
        "universitasWARNING                 models.py:714  (reindex_inlines) - \n",
        "flags: [] indexes: [1] @quote:  1 -> @quote: 1\n"
       ]
      },
      {
       "output_type": "stream",
       "stream": "stderr",
       "text": [
        "universitasWARNING                 models.py:736  (reindex_inlines) - after change:\n",
        "@quote: 1\n",
        "@quote: 1\n",
        "@quote: 1\n",
        "@quote: 1\n",
        "@image: 1\n"
       ]
      },
      {
       "output_type": "stream",
       "stream": "stderr",
       "text": [
        "universitasWARNING                 models.py:740  (reindex_inlines) - changing bodytext_markup\n"
       ]
      },
      {
       "output_type": "stream",
       "stream": "stderr",
       "text": [
        "universitasWARNING                 models.py:159  (make_html) - ['{% inline_pullquote \"1\" %}', '{% inline_pullquote \"1\" %}', '{% inline_pullquote \"1\" %}', '{% inline_pullquote \"1\" %}', '{% inline_storyimage \"1\" %}']\n"
       ]
      },
      {
       "output_type": "stream",
       "stream": "stdout",
       "text": [
        "\n",
        ">>>>>>------------Transmilj\u00f8et s\u00f8ker synlighet"
       ]
      },
      {
       "output_type": "stream",
       "stream": "stderr",
       "text": [
        "universitasWARNING                 models.py:714  (reindex_inlines) - \n",
        "flags: ['>'] indexes: [1] @box: > 1 -> @box: > 1\n"
       ]
      },
      {
       "output_type": "stream",
       "stream": "stderr",
       "text": [
        "universitasWARNING                 models.py:714  (reindex_inlines) - \n",
        "flags: ['>'] indexes: [2] @box: > 2 -> @box: > 2\n"
       ]
      },
      {
       "output_type": "stream",
       "stream": "stderr",
       "text": [
        "universitasWARNING                 models.py:714  (reindex_inlines) - \n",
        "flags: ['>'] indexes: [3] @box: > 3 -> @box: > 3\n"
       ]
      },
      {
       "output_type": "stream",
       "stream": "stderr",
       "text": [
        "universitasWARNING                 models.py:714  (reindex_inlines) - \n",
        "flags: [] indexes: [1] @box:&gt; 1 -> @box: 1\n"
       ]
      },
      {
       "output_type": "stream",
       "stream": "stderr",
       "text": [
        "universitasWARNING                 models.py:714  (reindex_inlines) - \n",
        "flags: [] indexes: [2] @box:&gt; 2 -> @box: 2\n"
       ]
      },
      {
       "output_type": "stream",
       "stream": "stderr",
       "text": [
        "universitasWARNING                 models.py:714  (reindex_inlines) - \n",
        "flags: [] indexes: [3] @box:&gt; 3 -> @box: 3\n"
       ]
      },
      {
       "output_type": "stream",
       "stream": "stderr",
       "text": [
        "universitasWARNING                 models.py:736  (reindex_inlines) - after change:\n",
        "@box: > 1\n",
        "@box: > 2\n",
        "@box: > 3\n",
        "@box: 1\n",
        "@box: 2\n",
        "@box: 3\n",
        "@quote:1\n",
        "@quote:1\n",
        "@quote:1\n",
        "@quote:  1\n",
        "@image:1\n",
        "@image:2\n",
        "@image:  21\n"
       ]
      },
      {
       "output_type": "stream",
       "stream": "stderr",
       "text": [
        "universitasWARNING                 models.py:714  (reindex_inlines) - \n",
        "flags: [] indexes: [1] @image:1 -> \n"
       ]
      },
      {
       "output_type": "stream",
       "stream": "stderr",
       "text": [
        "universitasWARNING                 models.py:714  (reindex_inlines) - \n",
        "flags: [] indexes: [2] @image:2 -> \n"
       ]
      },
      {
       "output_type": "stream",
       "stream": "stderr",
       "text": [
        "universitasWARNING                 models.py:714  (reindex_inlines) - \n",
        "flags: [] indexes: [21] @image:  21 -> @image: 1\n"
       ]
      },
      {
       "output_type": "stream",
       "stream": "stderr",
       "text": [
        "universitasWARNING                 models.py:736  (reindex_inlines) - after change:\n",
        "@box: > 1\n",
        "@box: > 2\n",
        "@box: > 3\n",
        "@box: 1\n",
        "@box: 2\n",
        "@box: 3\n",
        "@quote:1\n",
        "@quote:1\n",
        "@quote:1\n",
        "@quote:  1\n",
        "@image: 1\n"
       ]
      },
      {
       "output_type": "stream",
       "stream": "stderr",
       "text": [
        "universitasWARNING                 models.py:714  (reindex_inlines) - \n",
        "flags: [] indexes: [1] @quote:1 -> @quote: 1\n"
       ]
      },
      {
       "output_type": "stream",
       "stream": "stderr",
       "text": [
        "universitasWARNING                 models.py:714  (reindex_inlines) - \n",
        "flags: [] indexes: [1] @quote:1 -> @quote: 1\n"
       ]
      },
      {
       "output_type": "stream",
       "stream": "stderr",
       "text": [
        "universitasWARNING                 models.py:714  (reindex_inlines) - \n",
        "flags: [] indexes: [1] @quote:1 -> @quote: 1\n"
       ]
      },
      {
       "output_type": "stream",
       "stream": "stderr",
       "text": [
        "universitasWARNING                 models.py:714  (reindex_inlines) - \n",
        "flags: [] indexes: [1] @quote:  1 -> @quote: 1\n"
       ]
      },
      {
       "output_type": "stream",
       "stream": "stderr",
       "text": [
        "universitasWARNING                 models.py:736  (reindex_inlines) - after change:\n",
        "@box: > 1\n",
        "@box: > 2\n",
        "@box: > 3\n",
        "@box: 1\n",
        "@box: 2\n",
        "@box: 3\n",
        "@quote: 1\n",
        "@quote: 1\n",
        "@quote: 1\n",
        "@quote: 1\n",
        "@image: 1\n"
       ]
      },
      {
       "output_type": "stream",
       "stream": "stderr",
       "text": [
        "universitasWARNING                 models.py:740  (reindex_inlines) - changing bodytext_markup\n"
       ]
      },
      {
       "output_type": "stream",
       "stream": "stderr",
       "text": [
        "universitasWARNING                 models.py:159  (make_html) - ['{% inline_aside \"> 1\" %}', '{% inline_aside \"> 2\" %}', '{% inline_aside \"> 3\" %}', '{% inline_aside \"1\" %}', '{% inline_aside \"2\" %}', '{% inline_aside \"3\" %}', '{% inline_pullquote \"1\" %}', '{% inline_pullquote \"1\" %}', '{% inline_pullquote \"1\" %}', '{% inline_pullquote \"1\" %}', '{% inline_storyimage \"1\" %}']\n"
       ]
      },
      {
       "output_type": "stream",
       "stream": "stdout",
       "text": [
        "\n",
        ">>>>>>>-----------\u00c9n av tre m\u00f8ter ikke opp"
       ]
      },
      {
       "output_type": "stream",
       "stream": "stderr",
       "text": [
        "universitasWARNING                 models.py:714  (reindex_inlines) - \n",
        "flags: [] indexes: [1] @image:1 -> \n"
       ]
      },
      {
       "output_type": "stream",
       "stream": "stderr",
       "text": [
        "universitasWARNING                 models.py:714  (reindex_inlines) - \n",
        "flags: [] indexes: [39] @image:  39 -> @image: 1\n"
       ]
      },
      {
       "output_type": "stream",
       "stream": "stderr",
       "text": [
        "universitasWARNING                 models.py:736  (reindex_inlines) - after change:\n",
        "@quote:1\n",
        "@quote:1\n",
        "@quote:1\n",
        "@quote:  1\n",
        "@image: 1\n"
       ]
      },
      {
       "output_type": "stream",
       "stream": "stderr",
       "text": [
        "universitasWARNING                 models.py:714  (reindex_inlines) - \n",
        "flags: [] indexes: [1] @quote:1 -> @quote: 1\n"
       ]
      },
      {
       "output_type": "stream",
       "stream": "stderr",
       "text": [
        "universitasWARNING                 models.py:714  (reindex_inlines) - \n",
        "flags: [] indexes: [1] @quote:1 -> @quote: 1\n"
       ]
      },
      {
       "output_type": "stream",
       "stream": "stderr",
       "text": [
        "universitasWARNING                 models.py:714  (reindex_inlines) - \n",
        "flags: [] indexes: [1] @quote:1 -> @quote: 1\n"
       ]
      },
      {
       "output_type": "stream",
       "stream": "stderr",
       "text": [
        "universitasWARNING                 models.py:714  (reindex_inlines) - \n",
        "flags: [] indexes: [1] @quote:  1 -> @quote: 1\n"
       ]
      },
      {
       "output_type": "stream",
       "stream": "stderr",
       "text": [
        "universitasWARNING                 models.py:736  (reindex_inlines) - after change:\n",
        "@quote: 1\n",
        "@quote: 1\n",
        "@quote: 1\n",
        "@quote: 1\n",
        "@image: 1\n"
       ]
      },
      {
       "output_type": "stream",
       "stream": "stderr",
       "text": [
        "universitasWARNING                 models.py:740  (reindex_inlines) - changing bodytext_markup\n"
       ]
      },
      {
       "output_type": "stream",
       "stream": "stderr",
       "text": [
        "universitasWARNING                 models.py:159  (make_html) - ['{% inline_pullquote \"1\" %}', '{% inline_pullquote \"1\" %}', '{% inline_pullquote \"1\" %}', '{% inline_pullquote \"1\" %}', '{% inline_storyimage \"1\" %}']\n"
       ]
      },
      {
       "output_type": "stream",
       "stream": "stdout",
       "text": [
        "\n",
        ">>>>>>>>----------Alle leker ikke med alle"
       ]
      },
      {
       "output_type": "stream",
       "stream": "stderr",
       "text": [
        "universitasWARNING                 models.py:714  (reindex_inlines) - \n",
        "flags: [] indexes: [1] @image:1 -> \n"
       ]
      },
      {
       "output_type": "stream",
       "stream": "stderr",
       "text": [
        "universitasWARNING                 models.py:714  (reindex_inlines) - \n",
        "flags: [] indexes: [39] @image:  39 -> @image: 1\n"
       ]
      },
      {
       "output_type": "stream",
       "stream": "stderr",
       "text": [
        "universitasWARNING                 models.py:736  (reindex_inlines) - after change:\n",
        "@quote:1\n",
        "@quote:1\n",
        "@quote:1\n",
        "@quote:  1\n",
        "@image: 1\n"
       ]
      },
      {
       "output_type": "stream",
       "stream": "stderr",
       "text": [
        "universitasWARNING                 models.py:714  (reindex_inlines) - \n",
        "flags: [] indexes: [1] @quote:1 -> @quote: 1\n"
       ]
      },
      {
       "output_type": "stream",
       "stream": "stderr",
       "text": [
        "universitasWARNING                 models.py:714  (reindex_inlines) - \n",
        "flags: [] indexes: [1] @quote:1 -> @quote: 1\n"
       ]
      },
      {
       "output_type": "stream",
       "stream": "stderr",
       "text": [
        "universitasWARNING                 models.py:714  (reindex_inlines) - \n",
        "flags: [] indexes: [1] @quote:1 -> @quote: 1\n"
       ]
      },
      {
       "output_type": "stream",
       "stream": "stderr",
       "text": [
        "universitasWARNING                 models.py:714  (reindex_inlines) - \n",
        "flags: [] indexes: [1] @quote:  1 -> @quote: 1\n"
       ]
      },
      {
       "output_type": "stream",
       "stream": "stderr",
       "text": [
        "universitasWARNING                 models.py:736  (reindex_inlines) - after change:\n",
        "@quote: 1\n",
        "@quote: 1\n",
        "@quote: 1\n",
        "@quote: 1\n",
        "@image: 1\n"
       ]
      },
      {
       "output_type": "stream",
       "stream": "stderr",
       "text": [
        "universitasWARNING                 models.py:740  (reindex_inlines) - changing bodytext_markup\n"
       ]
      },
      {
       "output_type": "stream",
       "stream": "stderr",
       "text": [
        "universitasWARNING                 models.py:159  (make_html) - ['{% inline_pullquote \"1\" %}', '{% inline_pullquote \"1\" %}', '{% inline_pullquote \"1\" %}', '{% inline_pullquote \"1\" %}', '{% inline_storyimage \"1\" %}']\n"
       ]
      },
      {
       "output_type": "stream",
       "stream": "stdout",
       "text": [
        "\n",
        ">>>>>>>>>---------Teknologi truer tradisjon i Ecuador"
       ]
      },
      {
       "output_type": "stream",
       "stream": "stderr",
       "text": [
        "universitasWARNING                 models.py:714  (reindex_inlines) - \n",
        "flags: [] indexes: [1] @image:1 -> \n"
       ]
      },
      {
       "output_type": "stream",
       "stream": "stderr",
       "text": [
        "universitasWARNING                 models.py:714  (reindex_inlines) - \n",
        "flags: [] indexes: [6] @image:  6 -> @image: 1\n"
       ]
      },
      {
       "output_type": "stream",
       "stream": "stderr",
       "text": [
        "universitasWARNING                 models.py:736  (reindex_inlines) - after change:\n",
        "@image: 1\n"
       ]
      },
      {
       "output_type": "stream",
       "stream": "stderr",
       "text": [
        "universitasWARNING                 models.py:740  (reindex_inlines) - changing bodytext_markup\n"
       ]
      },
      {
       "output_type": "stream",
       "stream": "stderr",
       "text": [
        "universitasWARNING                 models.py:159  (make_html) - ['{% inline_storyimage \"1\" %}']\n"
       ]
      },
      {
       "output_type": "stream",
       "stream": "stdout",
       "text": [
        "\n",
        ">>>>>>>>>>--------Faktasjekk: Burde studenter stemme p\u00e5 Milj\u00f8partiet De Gr\u00f8nne?"
       ]
      },
      {
       "output_type": "stream",
       "stream": "stderr",
       "text": [
        "universitasWARNING                 models.py:714  (reindex_inlines) - \n",
        "flags: [] indexes: [1] @image:1 -> \n"
       ]
      },
      {
       "output_type": "stream",
       "stream": "stderr",
       "text": [
        "universitasWARNING                 models.py:714  (reindex_inlines) - \n",
        "flags: [] indexes: [18] @image:  18 -> @image: 1\n"
       ]
      },
      {
       "output_type": "stream",
       "stream": "stderr",
       "text": [
        "universitasWARNING                 models.py:736  (reindex_inlines) - after change:\n",
        "@quote:1\n",
        "@quote:1\n",
        "@quote:1\n",
        "@quote:  1\n",
        "@image: 1\n"
       ]
      },
      {
       "output_type": "stream",
       "stream": "stderr",
       "text": [
        "universitasWARNING                 models.py:714  (reindex_inlines) - \n",
        "flags: [] indexes: [1] @quote:1 -> @quote: 1\n"
       ]
      },
      {
       "output_type": "stream",
       "stream": "stderr",
       "text": [
        "universitasWARNING                 models.py:714  (reindex_inlines) - \n",
        "flags: [] indexes: [1] @quote:1 -> @quote: 1\n"
       ]
      },
      {
       "output_type": "stream",
       "stream": "stderr",
       "text": [
        "universitasWARNING                 models.py:714  (reindex_inlines) - \n",
        "flags: [] indexes: [1] @quote:1 -> @quote: 1\n"
       ]
      },
      {
       "output_type": "stream",
       "stream": "stderr",
       "text": [
        "universitasWARNING                 models.py:714  (reindex_inlines) - \n",
        "flags: [] indexes: [1] @quote:  1 -> @quote: 1\n"
       ]
      },
      {
       "output_type": "stream",
       "stream": "stderr",
       "text": [
        "universitasWARNING                 models.py:736  (reindex_inlines) - after change:\n",
        "@quote: 1\n",
        "@quote: 1\n",
        "@quote: 1\n",
        "@quote: 1\n",
        "@image: 1\n"
       ]
      },
      {
       "output_type": "stream",
       "stream": "stderr",
       "text": [
        "universitasWARNING                 models.py:740  (reindex_inlines) - changing bodytext_markup\n"
       ]
      },
      {
       "output_type": "stream",
       "stream": "stderr",
       "text": [
        "universitasWARNING                 models.py:159  (make_html) - ['{% inline_pullquote \"1\" %}', '{% inline_pullquote \"1\" %}', '{% inline_pullquote \"1\" %}', '{% inline_pullquote \"1\" %}', '{% inline_storyimage \"1\" %}']\n"
       ]
      },
      {
       "output_type": "stream",
       "stream": "stdout",
       "text": [
        "\n",
        ">>>>>>>>>>>-------Ein tr\u00f8tt type"
       ]
      },
      {
       "output_type": "stream",
       "stream": "stderr",
       "text": [
        "universitasWARNING                 models.py:714  (reindex_inlines) - \n",
        "flags: ['>'] indexes: [1] @box: > 1 -> @box: > 1\n"
       ]
      },
      {
       "output_type": "stream",
       "stream": "stderr",
       "text": [
        "universitasWARNING                 models.py:714  (reindex_inlines) - \n",
        "flags: [] indexes: [1] @box:&gt; 1 -> @box: 1\n"
       ]
      },
      {
       "output_type": "stream",
       "stream": "stderr",
       "text": [
        "universitasWARNING                 models.py:736  (reindex_inlines) - after change:\n",
        "@box: > 1\n",
        "@box: 1\n",
        "@quote:1\n",
        "@quote:1\n",
        "@quote:1\n",
        "@quote:  1\n",
        "@image:1\n",
        "@image:2\n",
        "@image:3\n",
        "@image:4\n",
        "@image:5 6\n",
        "@image:5 6\n",
        "@image:7\n",
        "@image:8\n",
        "@image:9 10\n",
        "@image:9 10\n",
        "@image:11\n",
        "@image:  21\n",
        "@image:  21\n",
        "@image:  25\n",
        "@image:  26\n",
        "@image:  27\n",
        "@image:  44\n",
        "@image:  49\n"
       ]
      },
      {
       "output_type": "stream",
       "stream": "stderr",
       "text": [
        "universitasWARNING                 models.py:714  (reindex_inlines) - \n",
        "flags: [] indexes: [1] @image:1 -> \n"
       ]
      },
      {
       "output_type": "stream",
       "stream": "stderr",
       "text": [
        "universitasWARNING                 models.py:714  (reindex_inlines) - \n",
        "flags: [] indexes: [2] @image:2 -> \n"
       ]
      },
      {
       "output_type": "stream",
       "stream": "stderr",
       "text": [
        "universitasWARNING                 models.py:714  (reindex_inlines) - \n",
        "flags: [] indexes: [3] @image:3 -> @image: 1\n"
       ]
      },
      {
       "output_type": "stream",
       "stream": "stderr",
       "text": [
        "universitasWARNING                 models.py:714  (reindex_inlines) - \n",
        "flags: [] indexes: [4] @image:4 -> @image: 2\n"
       ]
      },
      {
       "output_type": "stream",
       "stream": "stderr",
       "text": [
        "universitasWARNING                 models.py:714  (reindex_inlines) - \n",
        "flags: [] indexes: [5, 6] @image:5 6 -> @image: 3\n"
       ]
      },
      {
       "output_type": "stream",
       "stream": "stderr",
       "text": [
        "universitasWARNING                 models.py:714  (reindex_inlines) - \n",
        "flags: [] indexes: [5, 6] @image:5 6 -> @image: 3\n"
       ]
      },
      {
       "output_type": "stream",
       "stream": "stderr",
       "text": [
        "universitasWARNING                 models.py:714  (reindex_inlines) - \n",
        "flags: [] indexes: [7] @image:7 -> \n"
       ]
      },
      {
       "output_type": "stream",
       "stream": "stderr",
       "text": [
        "universitasWARNING                 models.py:714  (reindex_inlines) - \n",
        "flags: [] indexes: [8] @image:8 -> \n"
       ]
      },
      {
       "output_type": "stream",
       "stream": "stderr",
       "text": [
        "universitasWARNING                 models.py:714  (reindex_inlines) - \n",
        "flags: [] indexes: [9, 10] @image:9 10 -> \n"
       ]
      },
      {
       "output_type": "stream",
       "stream": "stderr",
       "text": [
        "universitasWARNING                 models.py:714  (reindex_inlines) - \n",
        "flags: [] indexes: [9, 10] @image:9 10 -> \n"
       ]
      },
      {
       "output_type": "stream",
       "stream": "stderr",
       "text": [
        "universitasWARNING                 models.py:714  (reindex_inlines) - \n",
        "flags: [] indexes: [11] @image:11 -> \n"
       ]
      },
      {
       "output_type": "stream",
       "stream": "stderr",
       "text": [
        "universitasWARNING                 models.py:714  (reindex_inlines) - \n",
        "flags: [] indexes: [21] @image:  21 -> @image: 4 5\n"
       ]
      },
      {
       "output_type": "stream",
       "stream": "stderr",
       "text": [
        "universitasWARNING                 models.py:714  (reindex_inlines) - \n",
        "flags: [] indexes: [21] @image:  21 -> @image: 4 5\n"
       ]
      },
      {
       "output_type": "stream",
       "stream": "stderr",
       "text": [
        "universitasWARNING                 models.py:714  (reindex_inlines) - \n",
        "flags: [] indexes: [25] @image:  25 -> @image: 6\n"
       ]
      },
      {
       "output_type": "stream",
       "stream": "stderr",
       "text": [
        "universitasWARNING                 models.py:714  (reindex_inlines) - \n",
        "flags: [] indexes: [26] @image:  26 -> @image: 7\n"
       ]
      },
      {
       "output_type": "stream",
       "stream": "stderr",
       "text": [
        "universitasWARNING                 models.py:714  (reindex_inlines) - \n",
        "flags: [] indexes: [27] @image:  27 -> @image: 8\n"
       ]
      },
      {
       "output_type": "stream",
       "stream": "stderr",
       "text": [
        "universitasWARNING                 models.py:714  (reindex_inlines) - \n",
        "flags: [] indexes: [44] @image:  44 -> @image: 9\n"
       ]
      },
      {
       "output_type": "stream",
       "stream": "stderr",
       "text": [
        "universitasWARNING                 models.py:714  (reindex_inlines) - \n",
        "flags: [] indexes: [49] @image:  49 -> @image: 10\n"
       ]
      },
      {
       "output_type": "stream",
       "stream": "stderr",
       "text": [
        "universitasWARNING                 models.py:736  (reindex_inlines) - after change:\n",
        "@box: > 1\n",
        "@box: 1\n",
        "@quote:1\n",
        "@quote:1\n",
        "@quote:1\n",
        "@quote:  1\n",
        "@image: 1\n",
        "@image: 2\n",
        "@image: 3\n",
        "@image: 3\n",
        "@image: 4 5\n",
        "@image: 4 5\n",
        "@image: 6\n",
        "@image: 7\n",
        "@image: 8\n",
        "@image: 9\n",
        "@image: 10\n"
       ]
      },
      {
       "output_type": "stream",
       "stream": "stderr",
       "text": [
        "universitasWARNING                 models.py:714  (reindex_inlines) - \n",
        "flags: [] indexes: [1] @quote:1 -> @quote: 1\n"
       ]
      },
      {
       "output_type": "stream",
       "stream": "stderr",
       "text": [
        "universitasWARNING                 models.py:714  (reindex_inlines) - \n",
        "flags: [] indexes: [1] @quote:1 -> @quote: 1\n"
       ]
      },
      {
       "output_type": "stream",
       "stream": "stderr",
       "text": [
        "universitasWARNING                 models.py:714  (reindex_inlines) - \n",
        "flags: [] indexes: [1] @quote:1 -> @quote: 1\n"
       ]
      },
      {
       "output_type": "stream",
       "stream": "stderr",
       "text": [
        "universitasWARNING                 models.py:714  (reindex_inlines) - \n",
        "flags: [] indexes: [1] @quote:  1 -> @quote: 1\n"
       ]
      },
      {
       "output_type": "stream",
       "stream": "stderr",
       "text": [
        "universitasWARNING                 models.py:736  (reindex_inlines) - after change:\n",
        "@box: > 1\n",
        "@box: 1\n",
        "@quote: 1\n",
        "@quote: 1\n",
        "@quote: 1\n",
        "@quote: 1\n",
        "@image: 1\n",
        "@image: 2\n",
        "@image: 3\n",
        "@image: 3\n",
        "@image: 4 5\n",
        "@image: 4 5\n",
        "@image: 6\n",
        "@image: 7\n",
        "@image: 8\n",
        "@image: 9\n",
        "@image: 10\n"
       ]
      },
      {
       "output_type": "stream",
       "stream": "stderr",
       "text": [
        "universitasWARNING                 models.py:740  (reindex_inlines) - changing bodytext_markup\n"
       ]
      },
      {
       "output_type": "stream",
       "stream": "stderr",
       "text": [
        "universitasWARNING                 models.py:159  (make_html) - ['{% inline_aside \"> 1\" %}', '{% inline_aside \"1\" %}', '{% inline_pullquote \"1\" %}', '{% inline_pullquote \"1\" %}', '{% inline_pullquote \"1\" %}', '{% inline_pullquote \"1\" %}', '{% inline_storyimage \"1\" %}', '{% inline_storyimage \"2\" %}', '{% inline_storyimage \"3\" %}', '{% inline_storyimage \"3\" %}', '{% inline_storyimage \"4 5\" %}', '{% inline_storyimage \"4 5\" %}', '{% inline_storyimage \"6\" %}', '{% inline_storyimage \"7\" %}', '{% inline_storyimage \"8\" %}', '{% inline_storyimage \"9\" %}', '{% inline_storyimage \"10\" %}']\n"
       ]
      },
      {
       "output_type": "stream",
       "stream": "stdout",
       "text": [
        "\n",
        ">>>>>>>>>>>>------Japan toner ned m\u00f8rke kapitler"
       ]
      },
      {
       "output_type": "stream",
       "stream": "stderr",
       "text": [
        "universitasWARNING                 models.py:714  (reindex_inlines) - \n",
        "flags: ['>'] indexes: [1] @box: > 1 -> @box: > 1\n"
       ]
      },
      {
       "output_type": "stream",
       "stream": "stderr",
       "text": [
        "universitasWARNING                 models.py:714  (reindex_inlines) - \n",
        "flags: [] indexes: [1] @image:1 -> \n"
       ]
      },
      {
       "output_type": "stream",
       "stream": "stderr",
       "text": [
        "universitasWARNING                 models.py:714  (reindex_inlines) - \n",
        "flags: [] indexes: [38] @image:  38 -> @image: 1\n"
       ]
      },
      {
       "output_type": "stream",
       "stream": "stderr",
       "text": [
        "universitasWARNING                 models.py:736  (reindex_inlines) - after change:\n",
        "@box: > 1\n",
        "@quote:  1\n",
        "@image: 1\n"
       ]
      },
      {
       "output_type": "stream",
       "stream": "stderr",
       "text": [
        "universitasWARNING                 models.py:714  (reindex_inlines) - \n",
        "flags: [] indexes: [1] @quote:  1 -> @quote: 1\n"
       ]
      },
      {
       "output_type": "stream",
       "stream": "stderr",
       "text": [
        "universitasWARNING                 models.py:736  (reindex_inlines) - after change:\n",
        "@box: > 1\n",
        "@quote: 1\n",
        "@image: 1\n"
       ]
      },
      {
       "output_type": "stream",
       "stream": "stderr",
       "text": [
        "universitasWARNING                 models.py:740  (reindex_inlines) - changing bodytext_markup\n"
       ]
      },
      {
       "output_type": "stream",
       "stream": "stderr",
       "text": [
        "universitasWARNING                 models.py:159  (make_html) - ['{% inline_aside \"> 1\" %}', '{% inline_pullquote \"1\" %}', '{% inline_storyimage \"1\" %}']\n"
       ]
      },
      {
       "output_type": "stream",
       "stream": "stdout",
       "text": [
        "\n",
        ">>>>>>>>>>>>>-----"
       ]
      },
      {
       "output_type": "stream",
       "stream": "stderr",
       "text": [
        "universitasWARNING                 models.py:714  (reindex_inlines) - \n",
        "flags: [] indexes: [1] @quote:1 -> @quote: 1\n"
       ]
      },
      {
       "output_type": "stream",
       "stream": "stderr",
       "text": [
        "universitasWARNING                 models.py:714  (reindex_inlines) - \n",
        "flags: [] indexes: [1] @quote:1 -> @quote: 1\n"
       ]
      },
      {
       "output_type": "stream",
       "stream": "stderr",
       "text": [
        "universitasWARNING                 models.py:714  (reindex_inlines) - \n",
        "flags: [] indexes: [1] @quote:1 -> @quote: 1\n"
       ]
      },
      {
       "output_type": "stream",
       "stream": "stderr",
       "text": [
        "universitasWARNING                 models.py:714  (reindex_inlines) - \n",
        "flags: [] indexes: [1] @quote:  1 -> @quote: 1\n"
       ]
      },
      {
       "output_type": "stream",
       "stream": "stderr",
       "text": [
        "universitasWARNING                 models.py:736  (reindex_inlines) - after change:\n",
        "@quote: 1\n",
        "@quote: 1\n",
        "@quote: 1\n",
        "@quote: 1\n"
       ]
      },
      {
       "output_type": "stream",
       "stream": "stderr",
       "text": [
        "universitasWARNING                 models.py:740  (reindex_inlines) - changing bodytext_markup\n"
       ]
      },
      {
       "output_type": "stream",
       "stream": "stderr",
       "text": [
        "universitasWARNING                 models.py:159  (make_html) - ['{% inline_pullquote \"1\" %}', '{% inline_pullquote \"1\" %}', '{% inline_pullquote \"1\" %}', '{% inline_pullquote \"1\" %}']\n"
       ]
      },
      {
       "output_type": "stream",
       "stream": "stdout",
       "text": [
        "\n",
        ">>>>>>>>>>>>>>----En toppet dansekake"
       ]
      },
      {
       "output_type": "stream",
       "stream": "stderr",
       "text": [
        "universitasWARNING                 models.py:714  (reindex_inlines) - \n",
        "flags: [] indexes: [1] @image:1 -> \n"
       ]
      },
      {
       "output_type": "stream",
       "stream": "stderr",
       "text": [
        "universitasWARNING                 models.py:714  (reindex_inlines) - \n",
        "flags: [] indexes: [7] @image:  7 -> @image: 1\n"
       ]
      },
      {
       "output_type": "stream",
       "stream": "stderr",
       "text": [
        "universitasWARNING                 models.py:736  (reindex_inlines) - after change:\n",
        "@image: 1\n"
       ]
      },
      {
       "output_type": "stream",
       "stream": "stderr",
       "text": [
        "universitasWARNING                 models.py:740  (reindex_inlines) - changing bodytext_markup\n"
       ]
      },
      {
       "output_type": "stream",
       "stream": "stderr",
       "text": [
        "universitasWARNING                 models.py:159  (make_html) - ['{% inline_storyimage \"1\" %}']\n"
       ]
      },
      {
       "output_type": "stream",
       "stream": "stdout",
       "text": [
        "\n",
        ">>>>>>>>>>>>>>>---\u00c9n av tre f\u00f8ler drikkepress"
       ]
      },
      {
       "output_type": "stream",
       "stream": "stderr",
       "text": [
        "universitasWARNING                 models.py:714  (reindex_inlines) - \n",
        "flags: ['>'] indexes: [1] @box: > 1 -> @box: > 1\n"
       ]
      },
      {
       "output_type": "stream",
       "stream": "stderr",
       "text": [
        "universitasWARNING                 models.py:714  (reindex_inlines) - \n",
        "flags: [] indexes: [1] @box:&gt; 1 -> @box: 1\n"
       ]
      },
      {
       "output_type": "stream",
       "stream": "stderr",
       "text": [
        "universitasWARNING                 models.py:736  (reindex_inlines) - after change:\n",
        "@box: > 1\n",
        "@box: 1\n",
        "@quote:1\n",
        "@quote:1\n",
        "@quote:1\n",
        "@quote:  1\n",
        "@image:1\n",
        "@image:  41\n"
       ]
      },
      {
       "output_type": "stream",
       "stream": "stderr",
       "text": [
        "universitasWARNING                 models.py:714  (reindex_inlines) - \n",
        "flags: [] indexes: [1] @image:1 -> \n"
       ]
      },
      {
       "output_type": "stream",
       "stream": "stderr",
       "text": [
        "universitasWARNING                 models.py:714  (reindex_inlines) - \n",
        "flags: [] indexes: [41] @image:  41 -> @image: 1\n"
       ]
      },
      {
       "output_type": "stream",
       "stream": "stderr",
       "text": [
        "universitasWARNING                 models.py:736  (reindex_inlines) - after change:\n",
        "@box: > 1\n",
        "@box: 1\n",
        "@quote:1\n",
        "@quote:1\n",
        "@quote:1\n",
        "@quote:  1\n",
        "@image: 1\n"
       ]
      },
      {
       "output_type": "stream",
       "stream": "stderr",
       "text": [
        "universitasWARNING                 models.py:714  (reindex_inlines) - \n",
        "flags: [] indexes: [1] @quote:1 -> @quote: 1\n"
       ]
      },
      {
       "output_type": "stream",
       "stream": "stderr",
       "text": [
        "universitasWARNING                 models.py:714  (reindex_inlines) - \n",
        "flags: [] indexes: [1] @quote:1 -> @quote: 1\n"
       ]
      },
      {
       "output_type": "stream",
       "stream": "stderr",
       "text": [
        "universitasWARNING                 models.py:714  (reindex_inlines) - \n",
        "flags: [] indexes: [1] @quote:1 -> @quote: 1\n"
       ]
      },
      {
       "output_type": "stream",
       "stream": "stderr",
       "text": [
        "universitasWARNING                 models.py:714  (reindex_inlines) - \n",
        "flags: [] indexes: [1] @quote:  1 -> @quote: 1\n"
       ]
      },
      {
       "output_type": "stream",
       "stream": "stderr",
       "text": [
        "universitasWARNING                 models.py:736  (reindex_inlines) - after change:\n",
        "@box: > 1\n",
        "@box: 1\n",
        "@quote: 1\n",
        "@quote: 1\n",
        "@quote: 1\n",
        "@quote: 1\n",
        "@image: 1\n"
       ]
      },
      {
       "output_type": "stream",
       "stream": "stderr",
       "text": [
        "universitasWARNING                 models.py:740  (reindex_inlines) - changing bodytext_markup\n"
       ]
      },
      {
       "output_type": "stream",
       "stream": "stderr",
       "text": [
        "universitasWARNING                 models.py:159  (make_html) - ['{% inline_aside \"> 1\" %}', '{% inline_aside \"1\" %}', '{% inline_pullquote \"1\" %}', '{% inline_pullquote \"1\" %}', '{% inline_pullquote \"1\" %}', '{% inline_pullquote \"1\" %}', '{% inline_storyimage \"1\" %}']\n"
       ]
      },
      {
       "output_type": "stream",
       "stream": "stdout",
       "text": [
        "\n",
        ">>>>>>>>>>>>>>>>--Krever internasjonale arrangementer"
       ]
      },
      {
       "output_type": "stream",
       "stream": "stderr",
       "text": [
        "universitasWARNING                 models.py:714  (reindex_inlines) - \n",
        "flags: [] indexes: [1] @image:1 -> \n"
       ]
      },
      {
       "output_type": "stream",
       "stream": "stderr",
       "text": [
        "universitasWARNING                 models.py:714  (reindex_inlines) - \n",
        "flags: [] indexes: [30] @image:  30 -> @image: 1\n"
       ]
      },
      {
       "output_type": "stream",
       "stream": "stderr",
       "text": [
        "universitasWARNING                 models.py:736  (reindex_inlines) - after change:\n",
        "@image: 1\n"
       ]
      },
      {
       "output_type": "stream",
       "stream": "stderr",
       "text": [
        "universitasWARNING                 models.py:740  (reindex_inlines) - changing bodytext_markup\n"
       ]
      },
      {
       "output_type": "stream",
       "stream": "stderr",
       "text": [
        "universitasWARNING                 models.py:159  (make_html) - ['{% inline_storyimage \"1\" %}']\n"
       ]
      },
      {
       "output_type": "stream",
       "stream": "stdout",
       "text": [
        "\n",
        ">>>>>>>>>>>>>>>>>-Kan klimaendringer drepe julenissen?"
       ]
      },
      {
       "output_type": "stream",
       "stream": "stderr",
       "text": [
        "universitasWARNING                 models.py:714  (reindex_inlines) - \n",
        "flags: [] indexes: [1] @image:1 -> \n"
       ]
      },
      {
       "output_type": "stream",
       "stream": "stderr",
       "text": [
        "universitasWARNING                 models.py:714  (reindex_inlines) - \n",
        "flags: [] indexes: [27] @image:  27 -> @image: 1\n"
       ]
      },
      {
       "output_type": "stream",
       "stream": "stderr",
       "text": [
        "universitasWARNING                 models.py:736  (reindex_inlines) - after change:\n",
        "@image: 1\n"
       ]
      },
      {
       "output_type": "stream",
       "stream": "stderr",
       "text": [
        "universitasWARNING                 models.py:740  (reindex_inlines) - changing bodytext_markup\n"
       ]
      },
      {
       "output_type": "stream",
       "stream": "stderr",
       "text": [
        "universitasWARNING                 models.py:159  (make_html) - ['{% inline_storyimage \"1\" %}']\n"
       ]
      },
      {
       "output_type": "stream",
       "stream": "stdout",
       "text": [
        "\n",
        "                                                            |    all      |    top      |   inline    | unpublish  \n",
        "id       title                                              |  PQ IM AS   |  PQ IM AS   |  PQ IM AS   |  PQ IM AS  \n",
        "-------------------------------------------------------------------------------------------------------------------\n",
        "60039    Kan klimaendringer drepe julenissen? 2014-11-24    |   1  1      |   1         |      1      |            \n",
        "60041    Krever internasjonale arrangementer 2014-11-24     |      2      |      1      |      1      |            \n",
        "60042    \u00c9n av tre f\u00f8ler drikkepress 2014-11-25             |   1  1  1   |             |   1  1  1   |            \n",
        "60044    \u2013 God kvalitet 2014-11-25                          |      2      |      1      |      1      |            \n",
        "60048    En toppet dansekake 2014-11-25                     |      1      |             |      1      |            \n",
        "60051    Fire p\u00e5 plassen 2014-11-25                         |     13      |      2      |      9      |      2     \n",
        "60052    Alle leker ikke med alle 2014-11-25                |   1  1      |             |   1  1      |            \n",
        "60053    Barbering er ikke mote, det er ideologi 2014-11-25 |   1  1      |             |   1  1      |            \n",
        "60054    Faktasjekk: Burde studenter stemme p\u00e5 Milj\u00f8partiet |   1  1      |             |   1  1      |            \n",
        "60055    Transmilj\u00f8et s\u00f8ker synlighet 2014-11-25            |   1  3  3   |      1      |   1  2  3   |            \n",
        "60056     2014-11-25                                        |   1         |             |   1         |            \n",
        "60057    Kortsiktig justispolitikk 2014-11-25               |             |             |             |            \n",
        "60062    Ein tr\u00f8tt type 2014-11-25                          |   1 16  1   |      5      |   1 11  1   |            \n",
        "60063    \u00c9n av tre m\u00f8ter ikke opp 2014-11-25                |   1  2      |      1      |   1  1      |            \n",
        "60065    Japan toner ned m\u00f8rke kapitler 2014-11-25          |   1  2  1   |      1      |   1  1  1   |            \n",
        "60066    Teknologi truer tradisjon i Ecuador 2014-11-25     |      1      |             |      1      |            \n",
        "60068    Grunt avtrykk 2014-11-25                           |      1      |             |      1      |            \n",
        "60070    Frihetsdansen 2014-11-25                           |   1 21  1   |      1      |   1 17  1   |      3     \n",
        "-------------------------------------------------------------------------------------------------------------------"
       ]
      },
      {
       "output_type": "stream",
       "stream": "stdout",
       "text": [
        "\n",
        "                                                            |    all      |    top      |   inline    | unpublish  \n",
        "id       title                                              |  PQ IM AS   |  PQ IM AS   |  PQ IM AS   |  PQ IM AS  \n",
        "-------------------------------------------------------------------------------------------------------------------\n",
        "60039    Kan klimaendringer drepe julenissen? 2014-11-24    |   1  1      |   1         |      1      |            \n",
        "60041    Krever internasjonale arrangementer 2014-11-24     |      2      |      1      |      1      |            \n",
        "60042    \u00c9n av tre f\u00f8ler drikkepress 2014-11-25             |   1  1  1   |             |   1  1  1   |            \n",
        "60044    \u2013 God kvalitet 2014-11-25                          |      2      |      1      |      1      |            \n",
        "60048    En toppet dansekake 2014-11-25                     |      1      |             |      1      |            \n",
        "60051    Fire p\u00e5 plassen 2014-11-25                         |     13      |      6      |      6      |      1     \n",
        "60052    Alle leker ikke med alle 2014-11-25                |   1  1      |             |   1  1      |            \n",
        "60053    Barbering er ikke mote, det er ideologi 2014-11-25 |   1  1      |             |   1  1      |            \n",
        "60054    Faktasjekk: Burde studenter stemme p\u00e5 Milj\u00f8partiet |   1  1      |             |   1  1      |            \n",
        "60055    Transmilj\u00f8et s\u00f8ker synlighet 2014-11-25            |   1  3  3   |      1      |   1  1  3   |      1     \n",
        "60056     2014-11-25                                        |   1         |             |   1         |            \n",
        "60057    Kortsiktig justispolitikk 2014-11-25               |             |             |             |            \n",
        "60062    Ein tr\u00f8tt type 2014-11-25                          |   1 16  1   |      4      |   1 10  1   |      2     \n",
        "60063    \u00c9n av tre m\u00f8ter ikke opp 2014-11-25                |   1  2      |      1      |   1  1      |            \n",
        "60065    Japan toner ned m\u00f8rke kapitler 2014-11-25          |   1  2  1   |      1      |   1  1  1   |            \n",
        "60066    Teknologi truer tradisjon i Ecuador 2014-11-25     |      1      |             |      1      |            \n",
        "60068    Grunt avtrykk 2014-11-25                           |      1      |             |      1      |            \n",
        "60070    Frihetsdansen 2014-11-25                           |   1 21  1   |      2      |   1 18  1   |      1     \n",
        "-------------------------------------------------------------------------------------------------------------------\n"
       ]
      }
     ],
     "prompt_number": 2
    },
    {
     "cell_type": "code",
     "collapsed": false,
     "input": [
      "s = Story.objects.get(title__icontains='tr\u00f8tt')\n",
      "print(s.bodytext_markup)\n"
     ],
     "language": "python",
     "metadata": {},
     "outputs": [
      {
       "output_type": "stream",
       "stream": "stdout",
       "text": [
        "@tingo:\u2013 Eg h\u00e5par eg ikkje f\u00e5r blomar. Eg hatar \u00e5 m\u00e5tta drassa rundt p\u00e5 blomar som uansett vert \u00f8ydelagde p\u00e5 heimvegen. Dessutan er jo s\u00e5nne avskorne bukettar enormt lite milj\u00f8venleg, i tillegg til at det sikkert er born i Afrika som har m\u00e5tta plukka dei, seier Christopher Nielsen.\n",
        "Han sit p\u00e5 ein av dei stilige, kvite skinnstolane p\u00e5 eit m\u00f8terom p\u00e5 Henie Onstad Kunstsenter i B\u00e6rum. Over ryggen p\u00e5 ein annan stol ligg den velbrukte, svarte dongerijakka hans slengd. Berre nokre timar st\u00e5r att f\u00f8r opninga av den st\u00f8rste utstillinga av arbeida hans til no. P\u00e5 kvite veggar under det h\u00f8ge taket inne i galleriet er fleire av teikneseriane hans bretta ut side for side. P\u00e5 eit gamalt fjernsyn surrar den animerte versjonen av To tr\u00f8tte typer, og lengst inne, bak ein Auschwitz-inspirert port kan ein vitja nyskapinga _Misforn\u00f8yelsesparken_. Til siste augneblink har han jobba p\u00e5 spreng, g\u00e5tt rundt i lokalet, oppdaga sm\u00e5 imperfeksjonar, stressr\u00f8yka, ropt etter raudm\u00e5ling og pensel.\n",
        "@tingo:Klokka n\u00e6rmar seg opningstid. Henie Onstad fyllest av regnv\u00e5te menneske som str\u00f8ymer inn fr\u00e5 haustm\u00f8rkret. Nielsen har f\u00e5tt p\u00e5 seg dressen, opnar d\u00f8ra til m\u00f8terommet og g\u00e5r ut for \u00e5 m\u00f8ta dei. Han ser stressa ut, kanskje litt nerv\u00f8s, festar blikket stivt p\u00e5 noko i det fjerne.\n",
        "I lufta ligg ei blanding av store forventingar og ein eim av \u00f8l.\n",
        "Det er professor i sosialantropologi Thomas Hylland Eriksen, ein kjenning fr\u00e5 Nielsens dagar i Gateavisa, som opnar utstillinga. Han snakkar lenge om Nielsens geni, den s\u00e6reigne evna hans til observasjon og til \u00e5 skildra det ingen andre har snakka om f\u00f8r.\n",
        "Det vert Nielsens tur til \u00e5 seia sitt. Han ser ikkje ut til \u00e5 trivast under dei sterke lyskastarane som str\u00e5lar mot den blanke skallen hans. Han tek eit steg ut i m\u00f8rkret og held det kort.\n",
        "\u2013Dette er nokre gamle greier. Og s\u00e5 er det Misforn\u00f8yelsesparken, d\u00e5. Men den har eg ikkje laga sj\u00f8lv.\n",
        "Vel, det har han jo gjort. Berre ikkje heilt \u00e5leine. _Misforn\u00f8yelsesparken_ er eit samarbeid med dei andre i Kollektivet. Dei er ein gjeng kunstnarar som har halde saman dei siste fem \u00e5ra og som deler arbeidslokale p\u00e5 Maskinrommet, p\u00e5 loftet over Rockefeller. I Misforn\u00f8yelsesparken kan ein spela rasistsjakk, pr\u00f8va (u)lukka p\u00e5 Enarma Bankditt eller sl\u00e5 norske kjendis-rikingar i hovudet med slegge.\n",
        "\u2013Mykje av tematikken i Misforn\u00f8yelsesparken er misn\u00f8ya i Utopia, definert som Noreg. Det er noko uspiseleg med \u00e5 vera s\u00e5 sur og misn\u00f8gd n\u00e5r du har det som plomma i egget. Men det har heilt openbert med den menneskelege naturen \u00e5 gjera, ein vert berre ikkje n\u00f8gd, seier Nielsen.\n",
        "@tingo:To dagar seinare er han tilbake i dongerijakka, og har sl\u00e5tt seg ned nesten inst i hj\u00f8rna p\u00e5 stamstaden Teddy\u2019s softbar i Brugata. P\u00e5 bordet framfor seg har han ein \u00f8l. Ved sida av han ligg ei lakseside av typen \u00abVill. Skoten med pil og boge, det einaste som gjeld\u00bb.\n",
        "Christopher Nielsen er n\u00f8gd med fangsten fr\u00e5 fiskedisken, men elles ikkje med s\u00e5 mykje.\n",
        "\u2013Det er alltid noko \u00e5 vera misforn\u00f8gd med. At eg m\u00e5 sitja her og jobba n\u00e5r eg er d\u00f8dssliten. Men det er berre akkurat no d\u00e5, sidan du spurde. Elles kjem det litt an p\u00e5 dagsformen.\n",
        "Generelt er han imot mykje av det mange av oss synest er triveleg. Reising gir han seg sjeldan ut p\u00e5, anna enn den \u00e5rlege hytteturen som ofte g\u00e5r til Sverige. Mobiltelefon har han ikkje, \u2013 det er eit reint overvakingsapparat. Og di smartare telefonane vert, di dummare vert eigarane. Bursdagsfeiring, det driv han iallfall ikkje med. D\u00e5 han fylde 50 g\u00f8ymde han seg heile dagen for \u00e5 sleppa unna gratulasjonane. Folk kan vel berre ha festar utan \u00e5 feira noko spesielt. Dette med portrettintervju er han \u00f2g skeptisk til. Ein gong var ein journalist frekk nok til \u00e5 skriva at han hadde eit slapt handtrykk.\n",
        "@tingo:Til \u00e5 vera ein som meiner s\u00e5 mykje, snakkar Nielsen overraskande lite. N\u00e5r han gjer det kjem orda langsamt. Han opnar ikkje munnen meir enn han m\u00e5 for \u00e5 f\u00e5 dei ut, men greier likevel \u00e5 verka bestemt. Kanskje fordi han aldri smiler.\n",
        "Hadde det vore opp til Christopher Nilsen, hadde mykje vore anleis. I opningstalen p\u00e5 Henie Onstad hevda Hylland Eriksen at han har vorte sintare, meir politisk og meir moralsk med \u00e5ra.\n",
        "\u2013Eg har alltid vore fly forbanna, eg. Eg pr\u00f8ver \u00e5 ikkje bli s\u00e5nn at eg vert meir avslepen og rundare i kantane n\u00e5r eg vert gammal, strir mot den klisj\u00e9en der. Eg har berre halda p\u00e5 barnetrua. Eg lagar ting som har eit politisk tilsnitt, p\u00e5 min m\u00e5te.\n",
        "Han har lite respekt for samfunnet me lever i, pengane me tener og m\u00e5ten me tener dei p\u00e5. Det beste hadde vore om me avskaffa pengar heilt og halde.\n",
        "\u2013Politisk er eg jo ekstrem. Eks-tre-mist. Det er veldig sjeldan nokon er med p\u00e5 mine id\u00e9ar.\n",
        "Han ser ut til kjenna seg meir heime her, i det halvm\u00f8rke og slitne lokalet i Brugata, enn han gjorde som midtpunkt p\u00e5 Hennie Onstad. N\u00e5r han kjem til s\u00e6rleg viktige poeng, dunkar han neven i bordet for kvar staving han uttalar. Innimellom lener han seg fram og rapar spottande ned i telefonen som tek opp det han seier.\n",
        "\u2013Me kunne g\u00e5tt inn her og drukke utan \u00e5 m\u00e5tta ta opp pengar, til d\u00f8mes. Kva representerer pengar i eit land som ikkje er produktivt? \u00c5 pumpa olje opp fr\u00e5 havbotnen er ikkje produksjon. Om me absolutt m\u00e5 ha pengar kunne me iallfall hatt borgarl\u00f8nn, alle kunne f\u00e5tt ein fast sum i m\u00e5naden. Me hadde f\u00e5tt eit mykje meir dynamisk samfunn med mykje st\u00f8rre fridom.\n",
        "@tingo:Han ser likevel at l\u00f8ysinga byd p\u00e5 visse problem. I v\u00e5re dagar vil alle, if\u00f8lgje han sj\u00f8lv, helst vera superstjerner. I eit samfunn utan \u00f8konomiske insentiv kan det bli vanskeleg \u00e5 f\u00e5 folk til \u00e5 gjera alt det som faktisk m\u00e5 gjerast, som \u00e5 ta hand om gamle og sjuke.\n",
        "\u2013Men eg har faktisk jobba med \u00e5 t\u00f8rka gamle folk i r\u00e6vva. Har du nokon gong tenkt p\u00e5 kvifor det er s\u00e5 d\u00e5rleg betalt, medan dei artige jobbane, leiarstillingar og s\u00e5nt, har kjempeh\u00f8ge l\u00f8nningar? Det burde vore omvendt! Eller alle kunne ha byta p\u00e5, og gjort dei ulike jobbane etter tur.\n",
        "Universitas spanderer den neste \u00f8len, og misn\u00f8ya lettar for ei stakka stund.\n",
        "@tingo:Nielsen vaks opp p\u00e5 Ulsrud og har halde seg i det austlege Oslo heile livet. Det har vorte hevda at han gjennom kunsten sin dokumenterer austkanthistorie som elles ikkje ville vorte bevart for ettertida. Men kva gjer det eigentleg med kunsten n\u00e5r skildringane av sex, dop, fyll og spy p\u00e5 Oslo aust vert tekne inn i varmen p\u00e5 eit prestisjetungt galleri p\u00e5 finaste vestkant? Er det slutten p\u00e5 tidenes klassereise me er vitne til?\n",
        "Nielsen synest ikkje det. Foreldra var vestkantfolk. Dei flytta til Ulsrud for \u00e5 leva som frie kunstnarar, men tok ofte med seg vesle Christopher til mingling med fiffen p\u00e5 Kunstnernes hus.\n",
        "\u2013Eg har jo kunsten godt inne. Me skilde oss litt ut p\u00e5 Ulsrud, var bohemar p\u00e5 austkanten. Me hadde ikkje s\u00e5 god r\u00e5d, sidan far min var kunstm\u00e5lar og mor mi var student d\u00e5 eg vart f\u00f8dd. Det vart kommentert at me hadde vond mat og s\u00e5nt. Folk kom ikkje p\u00e5 bes\u00f8k til oss.\n",
        "@tingo:Dei tydeleg uttalte doble konsonantane p\u00e5 stader der ein aldri ville ha skrive det, avsl\u00f8rer likevel at det ikkje er p\u00e5 vestkanten han har vore mest gjennom \u00e5ra, og kunsten hans m\u00e5 kunna seiast \u00e5 hovudsakleg ha appellert til eit publikum som skjeldan vitjar b\u00e5de Kunstnernes hus og Henie Onstad. Han trur likevel dei kjem til \u00e5 ta turen no.\n",
        "\u2013Eg synest ikkje at rammene rundt dette her er s\u00e5 j\u00e6vla viktige, det viktigaste er innhaldet i kunsten. Det er det som tel. Det Henie Onstad gjer er \u00e5 stempla dette med at \u00abOkei, det g\u00e5r an \u00e5 komma med s\u00e5nne ting som dette p\u00e5 palasset \u00f2g\u00bb, liksom. Og s\u00e5nn er det jo alltid med kunst. Ein byrjar p\u00e5 gata. S\u00e5 kjem \u00f8vregheita og etablissementet n\u00e5r dei skj\u00f8nnar at dette er stas, det er ein evig mekanisme. Det viktigaste er \u00e5 halda p\u00e5 sitt.\n",
        "Teikneseriefigurar som _To tr\u00f8tte type_r og _Narverne_ har vorte allemannseige. Nielsen forsikrar om at ingen av dei har noko slags slektskap til han sj\u00f8lv. Med \u00e5ra har figurgalleriet vakse seg langt st\u00f8rre, og Nielsen har hatt suksess med b\u00e5de musikalar og film, og dessutan som forfattar. Mange har pr\u00f8vd \u00e5 setja han i b\u00e5s som kunstnar, sj\u00f8lv kallar han seg \u00abresirkulARTist\u00bb.\n",
        "\u2013Det er ein veldig enkel isme. Me har n\u00e5dd eit f\u00f8rebels endepunkt for kva v\u00e5r sivilisasjon greier \u00e5 finna p\u00e5. Resirkulartismen p\u00e5st\u00e5r ikkje \u00e5 vera noko nytt, det er berre fortida \u00e5 ta av. Det er ein syklisk m\u00e5te \u00e5 sj\u00e5 kunsthistoria p\u00e5. Eg resirkulerer mykje forskjellig, men s\u00e6rleg dadaisme, situasjonisme og pop art, som jo eigentleg i seg sj\u00f8lv er resirkulert dadaisme.\n",
        "@tingo:Far hans, John David Nielsen, fortel at sonen i grunnen ikkje sa s\u00e5 mykje d\u00e5 han var liten heller. D\u00e5 som no teikna han. Praten g\u00e5r lettast n\u00e5r han f\u00e5r snakka om kunsten og ting han irriterer seg over, det personlege vil Christopher helst ikkje inn p\u00e5.\n",
        "\u2013Det er betre \u00e5 f\u00e5 fram kunsten. Om eg skal prata kan det vel vera om eit eller anna tema, og ikkje om meg?\n",
        "Likevel f\u00e5r han stadig sp\u00f8rsm\u00e5l om nettopp det personlege. Aller oftast om forholdet til broren, den vel s\u00e5 kjende musikaren Joachim Nielsen. Han skulle fylt 50 \u00e5r i \u00e5r, men d\u00f8ydde som tung rusmisbrukar i ein alder av 36. Br\u00f8rne arbeidde tett saman, og storebror Christopher gjorde Jokke til hovudpersonen i eit teikneserieunivers som fylgde platene til Jokke og Valentinerne.\n",
        "\u2013 Eg har ikkje lyst til \u00e5 fortelja nokon ting om Joachim, eg. Eg har fortald alt. Han har vore d\u00f8d i fjorten \u00e5r. D\u00e5 me held p\u00e5 var det ei heilt anna stemning. D\u00e5 var me unge og ukjende og entusiastiske. No har heile opplegget mykje meir ballast i nordmenn sitt medvit.\n",
        "Han har tidlegare uttalt at han kjende ei form for lette d\u00e5 broren gjekk bort. \u00c5ra med rusmisbruk var tunge for familien.\n",
        "\u2013Det er ein veldig slitsam situasjon, ein er mykje p\u00e5 randen. Blir gjerne litt s\u00e5nn stressa av det, seier han kort.\n",
        "@tingo:Sj\u00f8lv skildrar Christopher Nielsen seg som ein stor tilhengar av d\u00f8den. N\u00e5r det vert hans tur, kjem han til \u00e5 vera godt f\u00f8rebudd. Han har allereie bygd si eiga kiste. Saman med eit kart over Ulsrud er ho det f\u00f8rste som m\u00f8ter publikum p\u00e5 utstillinga hans, og ho er utstyrt med b\u00e5de plakatar, sprit og ein platespelar. Over h\u00f8gtalarane h\u00f8yrest den hese r\u00f8ysta til Shocking Blue-vokalist Mariska Veres: \u00abThere is a long and longsome road\u00bb. Oppi har han dessutan plassert ein fullskala figur av seg sj\u00f8lv, som ber preg av \u00e5 ha ligge der ei god stund.\n",
        "\u2013Det var leit at eg ikkje fekk ha lukt. Eg ville gjerne dekkja alle sansane, s\u00e5 eg skulle ha ein liten kopp med griseblod utan lok p\u00e5. N\u00e5r det vert litt s\u00e5nn sm\u00e5rote, s\u00e5 luktar det akkurat som lik.\n",
        "Han har lita tru p\u00e5 at han f\u00e5r bruk for rekvisittane i kista i det hinsidige. Nielsen meiner eit liv etter d\u00f8den er ei sj\u00f8lvmotseiing, utan at han vil konkludera endeleg i akkurat det sp\u00f8rsm\u00e5let. Uansett h\u00e5par han \u00e5 gje dei som er att moglegheita til \u00e5 f\u00f8lgja det som er att \u2013 av han \u2013 ganske lenge etter at han takkar av. N\u00e5r dagen kjem vil han leggjast p\u00e5 _lid de parade_ og filmast medan han sakte rotnar opp, fortel han, tydeleg stolt over sitt eige groteske p\u00e5funn.\n",
        "\u2013F\u00f8r eller sidan vil du ha filma heile prosessen, og om du klipper det saman kan du sj\u00e5 mitt ferske lik bli til st\u00f8v p\u00e5 femten-tjue minutt. Kortfilm, og s\u00e5 med musikk. Det tek jo mange \u00e5r, eg m\u00e5 pr\u00f8va \u00e5 f\u00e5 finansiert det, laga ei stifting eller noko.\n",
        "@tingo:Nytt liv, p\u00e5 den andre sida, har Nielsen eit anstrengt forhold til. Han og sambuaren Kristin har vore saman i 25 \u00e5r, men har vald \u00e5 ikkje f\u00e5 born.\n",
        "@quote:1 1\n",
        "@quote:1\n",
        "\u2013Eg er veldig imot born, av mange \u00e5rsaker. For det f\u00f8rste er det s\u00e5 mange av dei. Dei fyller opp planeten, og s\u00e5 br\u00e5kar dei.\n",
        "Nokon som har vorte gamle nok til \u00e5 drikka \u00f8l p\u00e5 Teddy\u2019s ein laurdag ettermiddag skr\u00e5lar ved nabobordet, og Nielsen legg til:\n",
        "\u2013Born er kanskje s\u00f8te, men s\u00e5 vert dei jo s\u00e5nne vaksne gorillaer og bavianar.\n",
        "Han synest dessutan at samfunnet tek altfor mykje omsyn til borna i dag. \u00c5 oppdra dei som prinsar og prinsesser er \u00e5 gjera dei ei bj\u00f8rneteneste, for ein dag kjem dei til \u00e5 oppdaga at verda ikkje er laga berre for dei.\n",
        "\u2013Ein burde byrja med \u00e5 fjerna barnetrygd, kontantst\u00f8tte, f\u00f8dselspermisjonar, alt s\u00e5nt. Vekk med det! D\u00e5 hadde folk slutta med \u00e5 f\u00e5 ungar, eller f\u00e5tt f\u00e6rre, iallfall. Dei som ikkje f\u00e5r ungar, s\u00e5nn som meg, burde f\u00e5tt store skattelette og masse fordelar.\n",
        "@tingo:N\u00e5r Universitas nokre dagar seinare m\u00f8ter Nielsen p\u00e5 \u00abMaskinrommet\u00bb, atelieret der Kollektivet held til, sit han vend mot veggen, b\u00f8ygd over dei siste sidene av ein ny teikneserie. \u00c5 laga kunst er den einaste aktiviteten han eigentleg likar. Aller helst jobbar han sju dagar i veka. Bak han snurrar ei plate og rundt i rommet under det kvite skr\u00e5taket ligg tjukke bunkar med papir. Han dyppar pennen i svart blekk og med st\u00f8 hand tusjar han over blyantlinjer og bokstavar. Kun n\u00e5r det er noko han faktisk vil seia, dreier han nokre grader i stolen og opprettar augekontakt.\n",
        "Det er travle dagar, for Nielsen har teke sikte p\u00e5 Guiness rekordbok. Han skal setja verdsrekord i tal p\u00e5 kunstformer ut\u00f8vd p\u00e5 eit \u00e5r, og godt inne i november m\u00e5 han st\u00e5 p\u00e5 for \u00e5 f\u00e5 ferdig b\u00e5de teikneserien og eit radioteater han jobbar med.\n",
        "@spm:\u2013 Kva gjer du p\u00e5 dagar du ikkje har idear?\n",
        "\u2013Det er dei f\u00e6rraste dagane, det. Men \u00e5 laga seriar er jo mykje meir enn berre ideane. \u00c5 sitja her og tusja er som \u00e5 strikka, eg kan prata med deg samstundes.\n",
        "@tingo:Akkurat no har han, kanskje, grunn til \u00e5 vera litt n\u00f8gd. Utstillinga p\u00e5 Henie Onstad er godt bes\u00f8kt, faktisk har ho dei f\u00f8rste vekene vore den best bes\u00f8kte sidan Dronning Sonja stilte ut der i 2001. Omtalane i media har vore gode. For det meste. Kristian Meisingset slakta heile greia p\u00e5 det liberalkonservative Minervanett. Under tittelen \u00abHva faen ler vi av?\u00bb kalla han Nielsen ein ideologisk kunstnar ute av kontakt med r\u00f8ynda, slo fast at utstillinga slett ikkje er morosam og spurde kvifor i alle dagar det skulle gjevast statsst\u00f8nad til denne typen kunst.\n",
        "Nielsen synest kritikken er interessant.\n",
        "\u2013Eg driv jo ikkje med humor. Det h\u00f8yrest ut som om han meiner at kunsten min ikkje har livets rett, fordi eg opponerer mot det samfunnet han ynskjer seg.\n",
        "@tingo:*MANGE TALENT: _Under opninga av utstillinga \u00abJeg er bare en enkel konseptualist fra Ulsrud\u00bb brukte professor og saksofonist Thomas Hylland Eriksen anledninga til \u00e5 hylla det han kallar Nielsens geni._\n",
        "@image:7 1\n",
        "@image:2\n",
        "@image:3\n",
        "@image:4\n",
        "@image:5\n",
        "@image:6\n",
        "@image:7\n"
       ]
      }
     ],
     "prompt_number": 3
    },
    {
     "cell_type": "code",
     "collapsed": false,
     "input": [
      "s.pullquotes().first().child.bodytext_markup"
     ],
     "language": "python",
     "metadata": {},
     "outputs": [
      {
       "ename": "NameError",
       "evalue": "name 's' is not defined",
       "output_type": "pyerr",
       "traceback": [
        "\u001b[1;31m---------------------------------------------------------------------------\u001b[0m\n\u001b[1;31mNameError\u001b[0m                                 Traceback (most recent call last)",
        "\u001b[1;32m<ipython-input-4-7e467281df3e>\u001b[0m in \u001b[0;36m<module>\u001b[1;34m()\u001b[0m\n\u001b[1;32m----> 1\u001b[1;33m \u001b[0ms\u001b[0m\u001b[1;33m.\u001b[0m\u001b[0mpullquotes\u001b[0m\u001b[1;33m(\u001b[0m\u001b[1;33m)\u001b[0m\u001b[1;33m.\u001b[0m\u001b[0mfirst\u001b[0m\u001b[1;33m(\u001b[0m\u001b[1;33m)\u001b[0m\u001b[1;33m.\u001b[0m\u001b[0mchild\u001b[0m\u001b[1;33m.\u001b[0m\u001b[0mbodytext_markup\u001b[0m\u001b[1;33m\u001b[0m\u001b[0m\n\u001b[0m",
        "\u001b[1;31mNameError\u001b[0m: name 's' is not defined"
       ]
      }
     ],
     "prompt_number": 4
    },
    {
     "cell_type": "code",
     "collapsed": false,
     "input": [
      "a='22'"
     ],
     "language": "python",
     "metadata": {},
     "outputs": [],
     "prompt_number": 6
    },
    {
     "cell_type": "code",
     "collapsed": false,
     "input": [
      "a.isdigit()\n"
     ],
     "language": "python",
     "metadata": {},
     "outputs": [
      {
       "metadata": {},
       "output_type": "pyout",
       "prompt_number": 7,
       "text": [
        "True"
       ]
      }
     ],
     "prompt_number": 7
    }
   ],
   "metadata": {}
  }
 ]
}