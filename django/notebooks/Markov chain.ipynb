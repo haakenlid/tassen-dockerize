{
 "cells": [
  {
   "cell_type": "code",
   "execution_count": 31,
   "metadata": {
    "collapsed": true
   },
   "outputs": [],
   "source": [
    "import random\n",
    "from PyPDF2 import PdfFileReader\n",
    "\n",
    "class Markov(object):\n",
    "\n",
    "    def __init__(self, open_file=None, text=None):\n",
    "        self.cache = {}\n",
    "        if open_file:\n",
    "            self.open_file = open_file\n",
    "            self.words = self.file_to_words()\n",
    "        else:\n",
    "            self.words = text.split()\n",
    "        self.word_size = len(self.words)\n",
    "        self.database()\n",
    "\n",
    "    def file_to_words(self):\n",
    "        self.open_file.seek(0)\n",
    "        data = self.open_file.read()\n",
    "        words = data.split()\n",
    "        return words\n",
    "\n",
    "    def triples(self):\n",
    "        \"\"\" Generates triples from the given data string. So if our string were\n",
    "                        \"What a lovely day\", we'd generate (What, a, lovely) and then\n",
    "                        (a, lovely, day).\n",
    "        \"\"\"\n",
    "\n",
    "        if len(self.words) < 3:\n",
    "            return\n",
    "\n",
    "        for i in range(len(self.words) - 2):\n",
    "            yield (self.words[i], self.words[i + 1], self.words[i + 2])\n",
    "\n",
    "    def database(self):\n",
    "        for w1, w2, w3 in self.triples():\n",
    "            key = (w1, w2)\n",
    "            if key in self.cache:\n",
    "                self.cache[key].append(w3)\n",
    "            else:\n",
    "                self.cache[key] = [w3]\n",
    "\n",
    "    def generate_markov_text(self, size=25):\n",
    "        seed = random.randint(0, self.word_size - 3)\n",
    "        seed_word, next_word = self.words[seed], self.words[seed + 1]\n",
    "        w1, w2 = seed_word, next_word\n",
    "        gen_words = []\n",
    "        for i in range(size):\n",
    "            gen_words.append(w1)\n",
    "            w1, w2 = w2, random.choice(self.cache[(w1, w2)])\n",
    "        gen_words.append(w2)\n",
    "        return ' '.join(gen_words)\n",
    "\n",
    "    "
   ]
  },
  {
   "cell_type": "code",
   "execution_count": null,
   "metadata": {
    "collapsed": true
   },
   "outputs": [],
   "source": [
    "kp_2014_pdf = '/home/haakenlid/Desktop/2014_The_Foundation_Stone_of_Nordic_Larp.pdf'\n",
    "import re\n",
    "\n",
    "def pdf2txt(pdf_file):\n",
    "    reader = PdfFileReader(pdf_file, strict = False)\n",
    "    content = []\n",
    "    for page in reader.pages[9:]:\n",
    "        content.append(page.extractText())\n",
    "    raw_text = '\\n'.join(content)\n",
    "    return raw_text\n",
    "\n",
    "content = pdf2txt(kp_2014_pdf)"
   ]
  },
  {
   "cell_type": "code",
   "execution_count": 88,
   "metadata": {
    "collapsed": false
   },
   "outputs": [
    {
     "name": "stdout",
     "output_type": "stream",
     "text": [
      "w the community that should help you orient yourself, especially if you’re asked the authors to write them to highlight some of the things that are special about the Nordic larp community, but which might not be obvious from the rest of the texts. The essays speak, in order, to the community, the player culture, and the Knutpunkt conference itself. 28 Participation is KeyLarp as a medium has some properties that make it different from other forms of art. ing characteristics is that larp is based on the active participation of everyone taking part. Without this, the larp doesn’t exist. For the larp to come to life, every player tional world into existence by acting as if acter. When all the larp participants do this and the players can experience it through their characters. Performing this feat, in collaboration with others, is something that cannot be understood through observation from the outside. Doing it well is also a set of skills that mature with taking part in games. We learn over time to both listen to our fellow players in the joint efworld, and to tune in to where a story or character arc is going. Through larp, we can explore, construct and deconstruct the realities. Larp can be watched and documented, but participation is the only way to fully understand the very particular dynamics. This means that as a community, larpers tend to be suspicious of claims that larp is “like” this or that other medium or art form, based on what larp looks like from the outside. Common comparisons are with performance art and certain forms of theatre, and while there is plenty of inspiration and A Community Shaped by ParticipationAndie NordgrenThere are a number of things inherent in larp as a medium that have shaped the community around it, but the people and social realities of the Nordic countries have shaped larp right back to form the scene and discourse that we call Nordic Larp. If you are approaching Nordic Larp from other practices such as theatre, architecture, modern art or activfollow will help you understand some of the context of Nordic Larp and how you can participate. cross-pollination from other art forms into larp, we will still claim that larp stands as an art form in its own right. We challenge disagree! Nordic Collective CreationSo what is this Nordic label that has emerged for this community and particular discourse around larp? Larp culture in oth-er places don’t necessarily look much like Nordic Larp. In the Nordics, time, money and space are available to many young people, through things like public grants, laws that regulate public use of land, accessible student loans and education. This creates an environment where more peo-ple have the time and energy to be co-creators in larp, often to a higher degree than elsewhere, where larp can sometimes look more like an adventure park to visit. There is also a tradition in the Nordics to form open, democratic organizations to create and support any group activity such as larp, rather than running them through for teams of organizers. This means we generally have the privilege of a culture of broad participation, where larps can be created that count on the ability of the participants to be strong, invested co-creators. This shapes and colors Nordic Larp, and makes the scene different from many other art scenes where a few key peo-ple produce, and the others perhaps consume, critique and purchase. Larp organizers are still celebrated in Nor-dic Larp, but it is understood by all that larps are collective efforts, and that without a group of players who take up the with their participation, there is no artistic output, no larp. You will often see clusters of people who both play and organize together – so if you want to get in touch with a certain part of Nordic Larp, you are probably better off looking for such groups of people with ex-perience in the domain you are interested -als! Someone who was “just a participant” can often tell you as much about a larp as the people who organized it, a bit depend-ing on what angle you are after of course. This also means that people learn and form a voice in this community based on participation, co-creation and community contributions. A great way to join the swirling debates and game scene is to play a game, and thus become a co-creator. But knowlpath too! Active Introspection and Development of the FormAnother result of the broad participation resulting from both the medium of larp itself and its expression in the Nordic environment, is that you have a group of people where pretty much everyone is both qualiart form and practice – and that sure leads -ment of the form! The conversations that happen through games, lectures, workshops and documen-tation make up a discourse that evolves constantly, but also comes back to the same questions over and over, as years go by and texts, thoughts and theories are forgotten and rediscovered by new players. But each conceptual leap taken by the community can usually be traced in the games coming after it. We have had phases of pervasive larp, queer larp, “bleed” larp, of activism through larp tools. There have also been waves of laser focus and manifestos around certain aspects of larp, such as character immersion, or collective story telling. We have spent a fair amount of time and effort ferent from other art forms – and indeed arguing about whether larp is art in the Games, their documentation, and the de-bates that precede or follow them, form a discourse that is almost impossible to sep-arate from the games themselves and the community – you could view the Nordic Larp scene as a broad, diverse collective of practicing artists and DIY-academics (with between our practice and our understanding of it. And because we really believe that larp can only truly be studied as a form from the inside, this scene becomes troublesome for any too strict notions of academic knowledge production with a wish for a way to objectively observe its subject. If you are looking to study larp, be prepared to be sucked into it! Seeing Like a LarperWhile most practitioners that contribute to the Nordic Larp scene are focused on larp itself as a form, many of us use the knowledge, skills and experiences we have gained from larp in other contexts. I’d like to encourage people to view the material in this book in that light – to gain the useful viewpoints born in the larp experience, and then use them to either participate in larp or as a lens on projects or ambitions outside larp. Larp is a design practice that constructs temporary realities for people to act in, using any reality-shaping methods available to create situations worth experiencing for the participants. It soon dawns on many that the toolbox we have for creating interthem, can be applied also beyond larp. Such a viewpoint means seeing all the lay-ers of reality as a medium, something that can be shaped for a purpose, by the people who inhabit it. It is from this perspective that I personally hope this book can be a way for larp to meet practitioners from trade tools, methods and visions for possi-– Andie Nordgren 32 Play to Learn to Playlearn the Nordic player culture is to play Nordic games. Both because our games are built on this tradition of play and support this play style and because in playing a Nordic game, you’ll normally be surrounded by Nordic players, who enact the culture which is taught through the practice of pare for a game beforehand if you’re new to the community. This is one reason why many designers incorporate pre-larp workshops before running a game. The workshops makes it possible to teach the play style and talk about do’s and don’ts, while at the same time teaching players methgame design. Inside the community, there is discussion about what a good player is and who played -An Introduction to the Nordic Player CultureHelene Willer Piironen & Kristo˚er ThurøeOne reason the Nordic roleplaying community is so productive in cre-ating games, conferences, and theory is its focus on discussing and rewarding projects its members create. We talk about why a game or a theory is good, how it failed, and what we learned from it. However, we don’t talk as much about how we play games, as central as it is to our community. We don’t teach people how to play games and we don’t write much about the characteristics of a Nordic player, even though we’re aware of our own playing styles and when fellow players are handling -ers, although not as scholars. We won’t try to judge what good or bad roleplaying is, but rather describe how players have formed games and vice versa, how player culture is passed on, and what we perceive as its central values. mer and none of the latter is written down or discussed openly – much of it could be considered gossip. As we see it, it is a way for active participants in the culture to orient themselves towards a common understanding, and a way for new participants to position their own practice relative to that u\n"
     ]
    }
   ],
   "source": [
    "def clean_up_text(text):\n",
    "    text = text.replace('™', \"’\").replace('ﬁ','“').replace('ﬂ', '”')\n",
    "    text = re.sub(r'-\\s*\\n', '', text)\n",
    "    #text = re.sub(r'(\\S)-(\\S)', r'\\1\\2', text)\n",
    "    text = re.sub(r' - ', r' – ', text)\n",
    "\n",
    "\n",
    "    text = re.sub(r'[ŠŒ]', r'–', text)\n",
    "\n",
    "    text = re.sub(r'^[\\s0-9]*$',' ', text, re.MULTILINE)\n",
    "    text = re.sub(r'[0-9]{1,3}([a-zA-Z“])',r' \\1', text)\n",
    "    #text = re.sub(r'\\n{2,}', '<P>', text)\n",
    "    text = re.sub(r'([;,.?!])', r'\\1 ', text)\n",
    "    text = re.sub(r'\\s{2,}', ' ', text)\n",
    "\n",
    "    #text = re.sub(r'<P>', '\\n\\n', text)\n",
    "    text = re.sub(r'–.*Nordic Larp Talks:.*Length: \\d+:\\d+', r'', text, re.MULTILINE)\n",
    "\n",
    "    \n",
    "    # – Johanna KoljonenIntroduction to Nordic LarpNordic Larp Talks: http://nordiclarptalks. org/2010- YouTube: http://youtu. be/fH_RLgR DI Length: 20:39\n",
    "    return text\n",
    "\n",
    "text = clean_up_text(content)\n",
    "print(text[1000:10000])"
   ]
  },
  {
   "cell_type": "code",
   "execution_count": 89,
   "metadata": {
    "collapsed": false
   },
   "outputs": [],
   "source": [
    "kp_markov = Markov(text=text)"
   ]
  },
  {
   "cell_type": "code",
   "execution_count": 100,
   "metadata": {
    "collapsed": false,
    "scrolled": true
   },
   "outputs": [
    {
     "name": "stdout",
     "output_type": "stream",
     "text": [
      "Of the bergboer, and were surrounded by nice Swedish larpers very seriously believe that even naturalistic representation involves interpretation, what is kept secret so that controlling six people would not be a trade-off? Alas – AmerikA does not challenge the player, a part of an action or a force that decreases after reaching its apogee. An echo that fades away, or a bit depend-ing on what angle you are after of course. The world view and other services. The Baron was the distressing nature of play, with new words\n",
      "\n",
      "\n",
      "In this aesthetic, the larp begins three years after civilization as we shall see, came back to the net. art and entertainment in these situations and the highly personalised business of art and all the ambition to create a game about staying or breaking game. On this assumption, building debris had been about and if so would the collective reading subsume the individual stories of our actions, and taking back actions is generally no way of reading The Journey and Gang Rape has several rules that a signif-icant number of prepared locations. Later on in the form of Roger Caillois has examined play as in December 2003 at the Oslo scene – Hanne Grasmo, Attila Steen-Hansen and Erlend Eidsem, who were not new – what can only be possible for a form of collective return to her\n",
      "\n",
      "\n",
      "“ Likewise, Danny could do the same dichotomy as Jim-bo: either tell about hard, overarching facts about the current speaker for example) to give his interpretation. 6 When all the speakers present. He tells from where in The White Road. One of those was Ann Heberlein, who felt cheated of their backpacks to support the initiatives of his ordinary perception, and provoke the other end managing the simulation of for in-stance the use of language and the bell tolls all the difference to the characters make them think of the game in a reality they world is less abstract\n",
      "\n",
      "\n",
      "Whether by coincidence or through presthen emerging Swedish gaming style would strive for: a complete picture from the perspective of the game, for reasons of this experiment? My own immediate experience was so powerful. Role-playing games, including both many not mentioned here and maybe a lot of such manipu-lative larpwrighting were not clear-cut. “Scandinavian Style Larping”, was an orc. No matter how rail-roaded or tightly knit a plot or on completing tasks (Jokinen 2 b)\n",
      "\n",
      "\n",
      "The former two strategies both bolster the feeling of interactivity might not show them the important thing to do this when it is the opposite: taking the role-playing revolution of North-ern Europe can only be a better place, but I could not notice any. (GR, Rapist-7)Some players visualized and felt a need to attract players and organisers should refuse their assigned roles as participants or or-ganisers. GamesPanopticorp (2003) by Henrik Wallgren & al. , Sweden\n",
      "\n",
      "\n",
      "To be able to claim that what we have for making game interaction experience that left a far smaller imprint on the city] creates an environment where more peo-ple have the focus is on his mind while other pause) is widespread in at an unnatural angle. The face had no feel of it. [–] It’s been really good for me it’s similar to the other women wanted the potential to develop the medium so far has developed from strategy games. There is a meeting between roles\n",
      "\n",
      "\n",
      "A human being cannot choose whether to be used as a single answer to any particular larp comes from mastering an activity that nothing else – there are only seven men in mere minutes. The surviving women are facing not only those players had given up her own label Mata de Pra-ta. Helene Willer Piironen & Kristoffer Thurøe “I have a certain amount of distraction in the specif-ic case of Mellan himmel och havTidbeck, Karin et al (Sweden, 2002): HamletFatland, Eirik & Wingård, Lars (2003): “The Dogma 99 ManifestoOriginally printed in: The Book of KAPOKAPO (2011) was a horrible secret that we were born in the “objective reality”, but they are negative or positive is of less importance. (Wrigstad, interview)In light of the tribe\n",
      "\n",
      "\n",
      "There is a matter of location. Älvdalen is a lot of background material that helped explain the difference to our constant interaction with them that decides on their own. First, this book represents games from most instances of eye contact was extremely demanding. The moment was very different in themes and in what resolution, we will focus on generic, reusable technology, rather than prescribes or controls how a media consumer should feel\n",
      "\n",
      "\n",
      ", or cial category such as character immersion, or internally becoming a character. . . ] No solid “clues” were found, but a direct consequence of society, while on the road – how the op-1 All primary source quotes translated by Syksy Räsänen\n",
      "\n",
      "\n",
      "157–164. Available online at http://[63] Loponen, M. , Eds. Dissecting Larp (2005), Knutepunkt\n",
      "\n",
      "\n",
      "And the social context of Triad. One Game World, Many DiegesesConsidering how complicated our social reality often the mood is ironic or at least The White Road portrayed a group used to denote that a player I have written a number of related -isms in the diegesis. In a game of chess. Or in a workshop before Totem\n",
      "\n",
      "\n",
      "Perceiving the subjective approach that is almost impossible to exactly determine the games that do not perceive the larp doesn’t exist. For the sake of any character” was originally written for the organisers including a functional description that allows participants to distinguish roleplaying from the fact that road knights are very well-liked in Denmark, larp has become a target of it. Performing in the 60’s looked on personal relationships and pointed out that the activity provides would seem to be that you can’t learn to understand the effects, and do not have full capabilities. The dragattempt\n",
      "\n",
      "\n"
     ]
    }
   ],
   "source": [
    "def make_sense(markov):\n",
    "    sentences = markov.generate_markov_text(1000).split('.')[2:6]\n",
    "    print('.'.join(sentences).strip())\n",
    "\n",
    "for _ in 'WAT DE FUCK?':\n",
    "    make_sense(kp_markov)\n",
    "    print('\\n')\n",
    "    "
   ]
  },
  {
   "cell_type": "code",
   "execution_count": null,
   "metadata": {
    "collapsed": true
   },
   "outputs": [],
   "source": []
  }
 ],
 "metadata": {
  "kernelspec": {
   "display_name": "Django Shell-Plus",
   "language": "python",
   "name": "django_extensions"
  },
  "language_info": {
   "codemirror_mode": {
    "name": "ipython",
    "version": 3
   },
   "file_extension": ".py",
   "mimetype": "text/x-python",
   "name": "python",
   "nbconvert_exporter": "python",
   "pygments_lexer": "ipython3",
   "version": "3.4.2"
  }
 },
 "nbformat": 4,
 "nbformat_minor": 0
}
