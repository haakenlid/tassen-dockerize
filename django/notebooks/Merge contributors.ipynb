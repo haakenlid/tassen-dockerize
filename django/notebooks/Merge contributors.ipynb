{
 "metadata": {
  "name": "",
  "signature": "sha256:c2e72a8d56e4031e6a99073123a874dd6d0152c483a94fe3b1c8dc3f71d63307"
 },
 "nbformat": 3,
 "nbformat_minor": 0,
 "worksheets": [
  {
   "cells": [
    {
     "cell_type": "code",
     "collapsed": false,
     "input": [
      "from IPython.core import display\n",
      "from matplotlib import pyplot as plt\n",
      "from myapps.stories.models import *\n",
      "from myapps.contributors.models import *\n",
      "import django\n",
      "import re\n",
      "from fuzzywuzzy import fuzz\n",
      "from django.db.models import Count\n",
      "%matplotlib inline\n",
      "django.setup()"
     ],
     "language": "python",
     "metadata": {},
     "outputs": [],
     "prompt_number": 1
    },
    {
     "cell_type": "code",
     "collapsed": false,
     "input": [
      "cc = Contributor.objects.annotate(bylines=Count('byline')).order_by('-bylines')\n",
      "names = cc.values_list('display_name', 'bylines')\n",
      "\n",
      "threshold = 85\n",
      "other_names = [name for name, bylines in names if bylines < 5 and len(name) > 8 ]\n",
      "for index, (name, bylines) in enumerate(names):\n",
      "    if bylines < 5: \n",
      "        break\n",
      "    #print (index, name, bylines)\n",
      "    duplicates = []\n",
      "    for other in other_names[:]:\n",
      "        if fuzz.partial_ratio(name, other) >= threshold:\n",
      "            other_names.remove(other)\n",
      "            if other != name:\n",
      "                duplicates.append(other)\n",
      "                # cnt = cc.filter(display_name=other)[0]\n",
      "                #print(cnt.legacy_data())\n",
      "            \n",
      "    if duplicates:\n",
      "        print(name, bylines, ':', '\\n      '.join(['']+duplicates))\n",
      "        print()\n",
      "\n",
      "        \n",
      "        "
     ],
     "language": "python",
     "metadata": {},
     "outputs": [],
     "prompt_number": 2
    },
    {
     "cell_type": "code",
     "collapsed": false,
     "input": [
      "cc = Contributor.objects.annotate(bylines=Count('byline')).order_by('-bylines')\n",
      "names = cc.values_list('display_name', 'bylines')\n",
      "for c in cc: print( c.bylines, c.display_name, c.aliases.replace('\\n', '; '),)"
     ],
     "language": "python",
     "metadata": {},
     "outputs": [
      {
       "output_type": "stream",
       "stream": "stdout",
       "text": [
        "11 Hans Dalane-Hval ; Foto Hans Dalane-Hval\n",
        "6 Kristin Seiersten \n",
        "6 Petter Fl\u00f8ttum \n",
        "4 Magnus Newth \n",
        "4 Matthis Kleeb Solheim \n",
        "3 Haakon Kristiansen ; Haakon Jamtli Kristiansen; Haakon Jamtli Kristiansen\n",
        "3 Andreas L\u00f8hren \n",
        "3 Torgeir G. Mortensen \n",
        "3 Nathalie Wik Lystad \n",
        "3 Kristina Holt \n",
        "3 Hanad Mohamed Ali \n",
        "3 Lina Christensen \n",
        "3 Agnes \u00d8stengen \n",
        "2 Astrid Hovde \n",
        "2 Vilde Sagstad Imeland \n",
        "2 Fredrik Scholze \n",
        "2 Ingrid Elise Gipling \n",
        "2 Pia Sandved Berg \n",
        "2 Julie Kalager \n",
        "2 Maria Terese Kittilsen \n",
        "2 Erika Kristine Ribu ; Erika Ribu\n",
        "2 Ida Andersen \n",
        "2 Aleksander Myklebust \n",
        "2 Henrik Evertsson \n",
        "2 Dorthe Karlsen \n",
        "2 Signe Rosenlund-Hauglid \n",
        "1 Helge Falkenberg \n",
        "1 Julie Bjander \n",
        "1 Nicklas Poulson Viki \n",
        "1 Geir Molnes \n",
        "1 Eline Anker \n",
        "1 Sigurd Oland Nedrelid \n",
        "1 Sunniva Skjeggestad \n",
        "1 Tommy Aarethun \n",
        "1 Petter Br\u00f8nstad \n",
        "1 Magnus Braaten \n",
        "1 Hanna Skotheim \n",
        "1 Axel Geard Nygaard \n",
        "1 Nora Gaupseth \n",
        "1 Benedicte Tobiassen \n",
        "1 Knut Aarbakke \n",
        "1 Vilde Mortensdatter Horvei \n",
        "1 Bj\u00f8rnar K. Bekkevard \n",
        "1 Hilde Vinje \n",
        "1 Thea Stor\u00f8y Elnan \n",
        "1 Bendik Hellem Aaby \n",
        "1 Britt Medalen Nilsen \n",
        "1 Eirik Elvevold \n",
        "1 Adrian Nielsen \n"
       ]
      }
     ],
     "prompt_number": 3
    },
    {
     "cell_type": "code",
     "collapsed": false,
     "input": [
      "def legacy_data(self):\n",
      "    \"\"\" Finds original byline in imported data. \"\"\"\n",
      "    data = []\n",
      "    for story in self.story_set.all():\n",
      "        web_source = story.legacy_html_source\n",
      "        if web_source:\n",
      "            byline = json.loads(web_source)[0]['fields']['byline']\n",
      "            data.append(byline)\n",
      "    return '\\n'.join(data)\n",
      "\n",
      "bl = 'Aleksander Myklebust Foto'\n",
      "cnt = Contributor.objects.get(display_name=bl)\n",
      "\n",
      "legacy_data(cnt)\n"
     ],
     "language": "python",
     "metadata": {},
     "outputs": [
      {
       "ename": "DoesNotExist",
       "evalue": "Contributor matching query does not exist.",
       "output_type": "pyerr",
       "traceback": [
        "\u001b[1;31m---------------------------------------------------------------------------\u001b[0m\n\u001b[1;31mDoesNotExist\u001b[0m                              Traceback (most recent call last)",
        "\u001b[1;32m<ipython-input-25-b6c6ec242a3f>\u001b[0m in \u001b[0;36m<module>\u001b[1;34m()\u001b[0m\n\u001b[0;32m     10\u001b[0m \u001b[1;33m\u001b[0m\u001b[0m\n\u001b[0;32m     11\u001b[0m \u001b[0mbl\u001b[0m \u001b[1;33m=\u001b[0m \u001b[1;34m'Aleksander Myklebust Foto'\u001b[0m\u001b[1;33m\u001b[0m\u001b[0m\n\u001b[1;32m---> 12\u001b[1;33m \u001b[0mcnt\u001b[0m \u001b[1;33m=\u001b[0m \u001b[0mContributor\u001b[0m\u001b[1;33m.\u001b[0m\u001b[0mobjects\u001b[0m\u001b[1;33m.\u001b[0m\u001b[0mget\u001b[0m\u001b[1;33m(\u001b[0m\u001b[0mdisplay_name\u001b[0m\u001b[1;33m=\u001b[0m\u001b[0mbl\u001b[0m\u001b[1;33m)\u001b[0m\u001b[1;33m\u001b[0m\u001b[0m\n\u001b[0m\u001b[0;32m     13\u001b[0m \u001b[1;33m\u001b[0m\u001b[0m\n\u001b[0;32m     14\u001b[0m \u001b[0mlegacy_data\u001b[0m\u001b[1;33m(\u001b[0m\u001b[0mcnt\u001b[0m\u001b[1;33m)\u001b[0m\u001b[1;33m\u001b[0m\u001b[0m\n",
        "\u001b[1;32m/srv/local.universitas.no/pyvenv/local.universitas.no/lib/python3.4/site-packages/django/db/models/manager.py\u001b[0m in \u001b[0;36mmanager_method\u001b[1;34m(self, *args, **kwargs)\u001b[0m\n\u001b[0;32m     90\u001b[0m         \u001b[1;32mdef\u001b[0m \u001b[0mcreate_method\u001b[0m\u001b[1;33m(\u001b[0m\u001b[0mname\u001b[0m\u001b[1;33m,\u001b[0m \u001b[0mmethod\u001b[0m\u001b[1;33m)\u001b[0m\u001b[1;33m:\u001b[0m\u001b[1;33m\u001b[0m\u001b[0m\n\u001b[0;32m     91\u001b[0m             \u001b[1;32mdef\u001b[0m \u001b[0mmanager_method\u001b[0m\u001b[1;33m(\u001b[0m\u001b[0mself\u001b[0m\u001b[1;33m,\u001b[0m \u001b[1;33m*\u001b[0m\u001b[0margs\u001b[0m\u001b[1;33m,\u001b[0m \u001b[1;33m**\u001b[0m\u001b[0mkwargs\u001b[0m\u001b[1;33m)\u001b[0m\u001b[1;33m:\u001b[0m\u001b[1;33m\u001b[0m\u001b[0m\n\u001b[1;32m---> 92\u001b[1;33m                 \u001b[1;32mreturn\u001b[0m \u001b[0mgetattr\u001b[0m\u001b[1;33m(\u001b[0m\u001b[0mself\u001b[0m\u001b[1;33m.\u001b[0m\u001b[0mget_queryset\u001b[0m\u001b[1;33m(\u001b[0m\u001b[1;33m)\u001b[0m\u001b[1;33m,\u001b[0m \u001b[0mname\u001b[0m\u001b[1;33m)\u001b[0m\u001b[1;33m(\u001b[0m\u001b[1;33m*\u001b[0m\u001b[0margs\u001b[0m\u001b[1;33m,\u001b[0m \u001b[1;33m**\u001b[0m\u001b[0mkwargs\u001b[0m\u001b[1;33m)\u001b[0m\u001b[1;33m\u001b[0m\u001b[0m\n\u001b[0m\u001b[0;32m     93\u001b[0m             \u001b[0mmanager_method\u001b[0m\u001b[1;33m.\u001b[0m\u001b[0m__name__\u001b[0m \u001b[1;33m=\u001b[0m \u001b[0mmethod\u001b[0m\u001b[1;33m.\u001b[0m\u001b[0m__name__\u001b[0m\u001b[1;33m\u001b[0m\u001b[0m\n\u001b[0;32m     94\u001b[0m             \u001b[0mmanager_method\u001b[0m\u001b[1;33m.\u001b[0m\u001b[0m__doc__\u001b[0m \u001b[1;33m=\u001b[0m \u001b[0mmethod\u001b[0m\u001b[1;33m.\u001b[0m\u001b[0m__doc__\u001b[0m\u001b[1;33m\u001b[0m\u001b[0m\n",
        "\u001b[1;32m/srv/local.universitas.no/pyvenv/local.universitas.no/lib/python3.4/site-packages/django/db/models/query.py\u001b[0m in \u001b[0;36mget\u001b[1;34m(self, *args, **kwargs)\u001b[0m\n\u001b[0;32m    355\u001b[0m             raise self.model.DoesNotExist(\n\u001b[0;32m    356\u001b[0m                 \u001b[1;34m\"%s matching query does not exist.\"\u001b[0m \u001b[1;33m%\u001b[0m\u001b[1;33m\u001b[0m\u001b[0m\n\u001b[1;32m--> 357\u001b[1;33m                 self.model._meta.object_name)\n\u001b[0m\u001b[0;32m    358\u001b[0m         raise self.model.MultipleObjectsReturned(\n\u001b[0;32m    359\u001b[0m             \"get() returned more than one %s -- it returned %s!\" % (\n",
        "\u001b[1;31mDoesNotExist\u001b[0m: Contributor matching query does not exist."
       ]
      }
     ],
     "prompt_number": 25
    },
    {
     "cell_type": "code",
     "collapsed": false,
     "input": [
      "utgaver=\"\"\"1,2015-01-14,\n",
      "2,2015-01-21,\n",
      "3,2015-01-28,\n",
      "4,2015-02-04,M\n",
      "5,2015-02-11,\n",
      "6,2015-02-18,\n",
      "7,2015-02-25,\n",
      "8,2015-03-04,M\n",
      "9,2015-03-11,\n",
      "10,2015-03-18,\n",
      "11,2015-03-25,M\n",
      "00,0000-00-00,F\n",
      "12,2015-04-15,\n",
      "13,2015-04-22,\n",
      "14,2015-04-29,\n",
      "15,2015-05-06,M\n",
      "16,2015-05-13,\n",
      "17,2015-05-20,\n",
      "18,2015-05-27,M\n",
      "00,0000-00-00,F\n",
      "19,2015-08-12,M\n",
      "20,2015-08-19,\n",
      "21,2015-08-26,\n",
      "22,2015-09-02,M\n",
      "23,2015-09-09,\n",
      "24,2015-09-16,\n",
      "25,2015-09-23,M\n",
      "26,2015-09-30,\n",
      "27,2015-10-07,\n",
      "28,2015-10-14,M\n",
      "29,2015-10-21,\n",
      "30,2015-10-28,\n",
      "31,2015-11-04,M\n",
      "32,2015-11-11,\n",
      "33,2015-11-18,\n",
      "34,2015-11-25,M\"\"\""
     ],
     "language": "python",
     "metadata": {},
     "outputs": [],
     "prompt_number": 7
    },
    {
     "cell_type": "code",
     "collapsed": false,
     "input": [
      "from myapps.issues.models import Issue\n",
      "\n",
      "symbols = {'':Issue.REGULAR,\n",
      "         'M':Issue.MAGAZINE,\n",
      "         'V':Issue.SPECIAL,\n",
      "         }\n",
      "\n",
      "for line in utgaver.splitlines():\n",
      "    nr, dato, sym = line.split(',')\n",
      "    if dato.startswith('0'):\n",
      "        continue\n",
      "    date = datetime.strptime(dato, '%Y-%m-%d').date()\n",
      "    issue_type = symbols[sym]\n",
      "    print(date, issue_type)\n",
      "    Issue.objects.get_or_create(publication_date=date, issue_type=issue_type)\n",
      "    "
     ],
     "language": "python",
     "metadata": {},
     "outputs": [
      {
       "output_type": "stream",
       "stream": "stdout",
       "text": [
        "2015-01-14 1\n",
        "2015-01-21 1\n",
        "2015-01-28 1\n",
        "2015-02-04 2\n",
        "2015-02-11 1\n",
        "2015-02-18 1\n",
        "2015-02-25 1\n",
        "2015-03-04 2\n",
        "2015-03-11 1\n",
        "2015-03-18 1\n",
        "2015-03-25"
       ]
      },
      {
       "output_type": "stream",
       "stream": "stdout",
       "text": [
        " 2\n",
        "2015-04-15 1\n",
        "2015-04-22 1\n",
        "2015-04-29 1\n",
        "2015-05-06 2\n",
        "2015-05-13 1\n",
        "2015-05-20 1\n",
        "2015-05-27 2\n",
        "2015-08-12 2\n",
        "2015-08-19"
       ]
      },
      {
       "output_type": "stream",
       "stream": "stdout",
       "text": [
        " 1\n",
        "2015-08-26 1\n",
        "2015-09-02 2\n",
        "2015-09-09 1\n",
        "2015-09-16 1\n",
        "2015-09-23 2\n",
        "2015-09-30 1\n",
        "2015-10-07 1\n",
        "2015-10-14"
       ]
      },
      {
       "output_type": "stream",
       "stream": "stdout",
       "text": [
        " 2\n",
        "2015-10-21 1\n",
        "2015-10-28 1\n",
        "2015-11-04 2\n",
        "2015-11-11 1\n",
        "2015-11-18 1\n",
        "2015-11-25 2\n"
       ]
      }
     ],
     "prompt_number": 21
    },
    {
     "cell_type": "code",
     "collapsed": false,
     "input": [
      "from datetime import datetime"
     ],
     "language": "python",
     "metadata": {},
     "outputs": [],
     "prompt_number": 13
    },
    {
     "cell_type": "code",
     "collapsed": false,
     "input": [
      "datetime.strptime(dato, '%Y-%m-%d')"
     ],
     "language": "python",
     "metadata": {},
     "outputs": [
      {
       "metadata": {},
       "output_type": "pyout",
       "prompt_number": 15,
       "text": [
        "datetime.datetime(2015, 11, 25, 0, 0)"
       ]
      }
     ],
     "prompt_number": 15
    },
    {
     "cell_type": "code",
     "collapsed": false,
     "input": [],
     "language": "python",
     "metadata": {},
     "outputs": []
    }
   ],
   "metadata": {}
  }
 ]
}