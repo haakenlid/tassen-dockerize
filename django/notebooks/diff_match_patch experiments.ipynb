{
 "cells": [
  {
   "cell_type": "code",
   "execution_count": 27,
   "metadata": {
    "collapsed": false
   },
   "outputs": [
    {
     "name": "stdout",
     "output_type": "stream",
     "text": [
      "E\n",
      "Ev\n",
      "Eve\n",
      "Ever\n",
      "Every\n",
      "Everyo\n",
      "Everyon\n",
      "Everyone\n",
      "Everyone \n",
      "Everyone l\n",
      "Everyone lo\n",
      "Everyone lov\n",
      "Everyone love\n",
      "Everyone loves\n",
      "Everyone loves \n",
      "Everyone loves t\n",
      "Everyone loves tr\n",
      "Everyone loves tri\n",
      "Everyone loves tria\n",
      "Everyone loves trian\n",
      "Everyone loves triang\n",
      "Everyone loves triangl\n",
      "Everyone loves triangle\n",
      "Everyone loves triangles\n",
      "Everyone loves triangles!\n",
      "Everyone loves triangles!!\n",
      "Everyone loves triangles!!!\n",
      "Everyone loves triangles!!\n",
      "Everyone loves triangles!\n",
      "Everyone loves triangles\n",
      "Everyone loves triangle\n",
      "Everyone loves triangl\n",
      "Everyone loves triang\n",
      "Everyone loves trian\n",
      "Everyone loves tria\n",
      "Everyone loves tri\n",
      "Everyone loves tr\n",
      "Everyone loves t\n",
      "Everyone loves \n",
      "Everyone loves\n",
      "Everyone love\n",
      "Everyone lov\n",
      "Everyone lo\n",
      "Everyone l\n",
      "Everyone \n",
      "Everyone\n",
      "Everyon\n",
      "Everyo\n",
      "Every\n",
      "Ever\n",
      "Eve\n",
      "Ev\n",
      "E\n"
     ]
    }
   ],
   "source": [
    "word = 'Everyone loves triangles!!!'\n",
    "output = []\n",
    "for n in range(1, len(word) + 1):\n",
    "    output.append(word[:n])\n",
    "output += output[-2::-1]\n",
    "print('\\n'.join(output))"
   ]
  },
  {
   "cell_type": "code",
   "execution_count": 13,
   "metadata": {
    "collapsed": false
   },
   "outputs": [
    {
     "name": "stdout",
     "output_type": "stream",
     "text": [
      "AAAAAAAAAAAA\n",
      "TTTTTTTTTTTT\n",
      "AAAAACAAACAA\n"
     ]
    }
   ],
   "source": [
    "    import Levenshtein\n",
    "\n",
    "    input_lines = [\n",
    "        \"AAAAAAAAAAAA\",\n",
    "        \"TTTTTTTTTTTT\",    # Diff by >1 char: Keep\n",
    "        \"AAAAACAAAAAA\",    # Diff by 1 char: Delete\n",
    "        \"AAAAACAAACAA\",    # Diff by 2 char: Keep\n",
    "        \"AAAAAAAAAAAA\",    # Diff by <1 char: Delete\n",
    "        ]\n",
    "    output_lines = []\n",
    "\n",
    "    for current_line in input_lines:\n",
    "        for previous_line in output_lines:\n",
    "            if Levenshtein.hamming(previous_line, current_line) < 2:\n",
    "                break\n",
    "        else:\n",
    "            output_lines.append(current_line)\n",
    "\n",
    "    print('\\n'.join(output_lines))"
   ]
  },
  {
   "cell_type": "code",
   "execution_count": null,
   "metadata": {
    "collapsed": true
   },
   "outputs": [],
   "source": []
  },
  {
   "cell_type": "code",
   "execution_count": 1,
   "metadata": {
    "collapsed": true
   },
   "outputs": [],
   "source": [
    "from diff_match_patch import diff_match_patch\n",
    "from IPython.display import HTML\n",
    "import django\n",
    "django.setup()\n",
    "from myapps.stories.models import Story"
   ]
  },
  {
   "cell_type": "code",
   "execution_count": 66,
   "metadata": {
    "collapsed": false
   },
   "outputs": [
    {
     "data": {
      "text/html": [
       "\n",
       "      <p style=\"color:green;font-size:250%;font-weight=bold\">Success!</p>\n",
       "      "
      ]
     },
     "metadata": {},
     "output_type": "display_data"
    }
   ],
   "source": [
    "import re\n",
    "@doctest\n",
    "def sim(str0, str1):\n",
    "    \"\"\" Compare strings\n",
    "\n",
    "    >>> testdata = [\n",
    "    ... ('a b', 'a_b', True), \n",
    "    ... ('a b', 'a b', True), \n",
    "    ... ('a b', 'ab',  True), \n",
    "    ... ('a b', 'a_b', True),\n",
    "    ... ('a b', 'a-b', True),\n",
    "    ... ('ab' , 'a_b', False),\n",
    "    ... ('ab' , 'a-b', False),\n",
    "    ... ('a_b', 'ab',  False),\n",
    "    ... ('a_b', 'a-b', False),\n",
    "    ... ('a-b', 'ab' , False),\n",
    "    ... ('a-b', 'a_b', False),\n",
    "    ... ]\n",
    "    >>> any(result == sim(str0, str1) for str0, str1, result in testdata)\n",
    "    True\n",
    "    \"\"\"\n",
    "    regexp = re.sub(r'\\s', 'WHITESPACE', str0)\n",
    "    regexp = re.sub('WHITESPACE', '[-_ ]?', re.escape(regexp))\n",
    "    result = bool(re.fullmatch(regexp, str1))\n",
    "    return result\n",
    "    #print(str0, str1, result)\n"
   ]
  },
  {
   "cell_type": "code",
   "execution_count": 57,
   "metadata": {
    "collapsed": false
   },
   "outputs": [],
   "source": [
    "re.fullmatch?"
   ]
  },
  {
   "cell_type": "code",
   "execution_count": 6,
   "metadata": {
    "collapsed": false
   },
   "outputs": [
    {
     "data": {
      "text/html": [
       "<p>Placeholder</p>"
      ],
      "text/plain": [
       "<IPython.core.display.HTML at 0x7f66f18eab38>"
      ]
     },
     "execution_count": 6,
     "metadata": {},
     "output_type": "execute_result"
    }
   ],
   "source": [
    "s = Story.objects.last()\n",
    "# s.bodytext_markup += ' '\n",
    "# %debug -b myapps/stories/models.py:525 s.get_html()\n",
    "HTML(s.get_html())"
   ]
  },
  {
   "cell_type": "code",
   "execution_count": 3,
   "metadata": {
    "collapsed": false
   },
   "outputs": [],
   "source": []
  },
  {
   "cell_type": "code",
   "execution_count": 17,
   "metadata": {
    "collapsed": false
   },
   "outputs": [
    {
     "name": "stdout",
     "output_type": "stream",
     "text": [
      " h h h h h h h h h h"
     ]
    },
    {
     "data": {
      "text/html": [
       "<h2>Changes</h2>\n",
       "<hr>\n",
       "<h3>html (0) Avkledd for kunsten \n",
       "</h3><span>&lt;p&gt;&para;<br> – På Centrum Athletica står en utsvettet student og nøler i trappen mellom treningsstudio og garderobe.&para;<br>&lt;/p&gt;&para;<br>&lt;p&gt;&para;<br> – Øh... begynner han.&para;<br>&lt;/p&gt;&para;<br>&lt;p&gt;&para;<br> Jan Marius Kiøsterud introduserer seg, og forklarer at han observerte min kropp i uttøyningssituasjonen, hvilket avslørte interessante fasonger. Og at han har studert keramikk ved kunstfag på Kunsthøgskolen i Oslo (KHiO) siden høsten 2008. Så tar han sats, og letter hjertet:&para;<br>&lt;/p&gt;&para;<br>&lt;p&gt;&para;<br> – Vil du stå modell for meg?&para;<br>&lt;/p&gt;&para;<br>&lt;p&gt;&para;<br> Et finurlig sjekketriks. Eller finner han inspirasjon i meg? Å være en kunstners muse virker eksklusivt. Og litt skummelt. Særlig siden det snart blir klart at jeg må av med klærne. Men hva kan egentlig skje?&para;<br>&lt;/p&gt;&para;<br>&lt;p&gt;&para;<br> – Ok. Hvis jeg kan skrive om det, sier jeg.&para;<br>&lt;/p&gt;&para;<br>&lt;p&gt;&para;<br> Kiøsteruds atelier prydes av utstillingsdukken han fant i en container, stolen han reparerte med gaffateip, samt andre ting han har plukket opp fra gata. Vi småprater nervøst. Han har en kartong rødvin. Jeg finner fram blokken. Han setter på Jahn Teigens «Det vakreste som fins». Jeg ler. Han synger med så det runger i tak og vegger.&para;<br>&lt;/p&gt;&para;<br>&lt;p&gt;&para;<br> Fem-seks glass senere faller klærne. Kiøsterud tegner. Riktig hyggelig er det – å vekselvis stå på gulvet, ligge på en madrass, og sitte på en krakk mens jeg sipper rødvin og betraktes av et interessert blikk. Vi avtaler å møtes en gang til.&para;<br>&lt;/p&gt;&para;<br>&lt;p class=\"tingo\"&gt;&para;<br> I en undervisningstime i croquis – kjapp skissering av den nakne menneskekroppen – er vanligvis begge kjønn representert, og en naken kropp i sentrum. Likevel utarter ikke timene til orgier. For bare modellen er avkledd, og hun veksler kun få ord med studentene som er opptatt med å stirre og skrible.&para;<br>&lt;/p&gt;&para;<br>&lt;p&gt;&para;<br> Kirsten Kokkin er skulptør, og underviser i croquis ved KHiO. Hun bekrefter at modellens kropp kun brukes som et middel for å lære å tegne.&para;<br>&lt;/p&gt;&para;<br>&lt;p&gt;&para;<br> – Det hefter ikke noe seksuelt ved timene, sier hun.&para;<br>&lt;/p&gt;&para;<br>&lt;p&gt;&para;<br> Hva da når objektet småpratende og brisen intervjuer kunstneren i dennes private atelier? Kokkin tror ikke det forandrer saken nevneverdig, siden det er uvanlig blant kunstnere å vektlegge det erotiske ved en naken modell.&para;<br>&lt;/p&gt;&para;<br>&lt;p&gt;&para;<br> – \tFå kunstnere fokuserer på det, sier hun.&para;<br>&lt;/p&gt;&para;<br>&lt;p&gt;&para;<br> Kiøsterud bekrefter regelen. Han ønsker modellen i en mer privat setting fordi det er vanskelig å få ro i timene i croquis, hvor veldig mange studenter er samlet rundt samme objekt.&para;<br>&lt;/p&gt;&para;<br>&lt;p&gt;&para;<br> – Slike timer er stressende, sier han.&para;<br>&lt;/p&gt;&para;<br>&lt;p class=\"tingo\"&gt;&para;<br> Billedkunstner og sadomasochist Hans Petter Stubergh er uenig. Han mener SM (Sadomasochisme) og kunst, er fenomen som kan belyse hverandre. I sine første studieår tegnet han stort sett nakne damer, og innrømmer mye ståpikk under tegningen.&para;<br>&lt;/p&gt;&para;<br>&lt;p&gt;&para;<br> Også i timene i croquis.&para;<br>&lt;/p&gt;&para;<br>&lt;div class=\"inline_pullquote \"&gt;&para;<br> &lt;bq class=\"pullquote\"&gt;&para;<br>  Pikken min gikk inn i kunsten, ikke i modellene.&para;<br> &lt;/bq&gt;&para;<br> &lt;p&gt;&para;<br>  Hans Petter Stubergh, billedkunstner og sadomasochist.&para;<br> &lt;/p&gt;&para;<br>&lt;/div&gt;&para;<br>&lt;p&gt;&para;<br> – Men pikken min gikk inn i kunsten, ikke i modellene, sier han.&para;<br>&lt;/p&gt;&para;<br>&lt;p&gt;&para;<br> Han forklarer at blyantlinjene som former den nakne modellen kan minne om striper etter piskeslag og tau. Men det er særlig i leirens konsistens og skulpturens tredimensjonale form han ser paralleller.&para;<br>&lt;/p&gt;&para;<br>&lt;p&gt;&para;<br> – Når jeg binder en kvinne, er jeg en erotisk sadoskulptør, og hun en erotisk masoskulptur, sier han.&para;<br>&lt;/p&gt;&para;<br>&lt;p&gt;&para;<br> Stuberg vil gjerne tilføre artikkelen min noe, og foreslår at jeg kommer innom hans atelier.&para;<br>&lt;/p&gt;&para;<br>&lt;p&gt;&para;<br> – Du kan gjerne intervjue meg mens jeg tegner deg naken.&para;<br>&lt;/p&gt;&para;<br>&lt;p&gt;&para;<br> Få timer senere møter jeg en bebrillet og smilende Stubergh som viser meg inn i sitt atelier med to tatoverte armer. Veggene skriker i fargerike malerier. De fleste av dyr. Et halvferdig bilde av en blå undulat tørker på et staffeli. En stor kjetting henger fra taket.&para;<br>&lt;/p&gt;&para;<br>&lt;p&gt;&para;<br> – Denne har jeg bundet flere flotte kvinner i, sier han.&para;<br>&lt;/p&gt;&para;<br>&lt;p&gt;&para;<br> Naken mellom undulat og Dominerende Sadist står jeg der, klar med blokk og fotoapparat. Helst vil han tegne meg bakfra eller bundet. Vi blir imidlertid enige om en hakket mindre støtende posisjon. Forfra skrævende på en stol. Stillingen krever sitt av konsentrasjon, og Stubergs ansikt er skjerpet. Han lar blyanten svinse over papiret.&para;<br>&lt;/p&gt;&para;<br>&lt;p&gt;&para;<br> – Nå tenner jeg, sier han.&para;<br>&lt;/p&gt;&para;<br>&lt;p&gt;&para;<br> Og papiret gjennomgår Stuberghs begjær.&para;<br>&lt;/p&gt;&para;<br>&lt;p class=\"tingo\"&gt;&para;<br> – Tanken har ikke slått meg, sier Kiøsterud.&para;<br>&lt;/p&gt;&para;<br>&lt;p&gt;&para;<br> Han finner fint lite sadomasochistisk i stemningen når vi atter møtes i hans atelier. Likegyldig til det kjønnslige ved min kropp, er han imidlertid ikke.&para;<br>&lt;/p&gt;&para;<br>&lt;p&gt;&para;<br> – Siden vi har en relasjon, og du er en naken kvinne som vandrer rundt i mitt atelier – er det klart noe erotisk spiller inn, sier han.&para;<br>&lt;/p&gt;&para;<br>&lt;p&gt;&para;<br> Han ønsker å tegne akkurat meg – fordi han finner kroppen min fascinerende, og ikke forstår den fullt ut. Min smale midje som glir inn i mine brede hofter, er formene han jobber kunstnerisk med.&para;<br>&lt;/p&gt;&para;<br>&lt;p&gt;&para;<br> Men først og fremst er han generelt glad i kropp:&para;<br>&lt;/p&gt;&para;<br>&lt;p&gt;&para;<br> – Jeg elsker menneskekroppen, sier han.&para;<br>&lt;/p&gt;&para;<br>&lt;p&gt;&para;<br> Kiøsterud gnir seg i hendene. Hansker træs på. Hønsenetting klippes med tang. Gipsen får en runde i en krukke vann så den blir bløt – og kan bres over nettingen. Den hvite klumpen tar form. Den ligner meg. Fra navlen og ned. Selv om tonen mellom oss er god, er jeg mest interessert i artikkelen. Og han i skulpturen. Vi jobber.&para;<br>&lt;/p&gt;&para;<br>&lt;p&gt;&para;<br> Da jeg ville ha oss inn i avisa ble han først betenkt. Fordi han ikke fikk full kontroll. Nå mener han det er fint å dele på regíen.&para;<br>&lt;/p&gt;&para;<br>&lt;p&gt;&para;<br> – At du skriver om det, og dermed tilfører aspekter jeg ikke kan styre, gir prosjektet en ny dimensjon.&para;<br>&lt;/p&gt;&para;<br>&lt;div class=\"inline_pullquote \"&gt;&para;<br> &lt;bq class=\"pullquote\"&gt;&para;<br>  Pikken min gikk inn i kunsten, ikke i modellene.&para;<br> &lt;/bq&gt;&para;<br> &lt;p&gt;&para;<br>  Hans Petter Stubergh, billedkunstner og sadomasochist.&para;<br> &lt;/p&gt;&para;<br>&lt;/div&gt;&para;<br>&lt;div class=\"inline_pullquote \"&gt;&para;<br> &lt;bq class=\"pullquote\"&gt;&para;<br>  Pikken min gikk inn i kunsten, ikke i modellene.&para;<br> &lt;/bq&gt;&para;<br> &lt;p&gt;&para;<br>  Hans Petter Stubergh, billedkunstner og sadomasochist.&para;<br> &lt;/p&gt;&para;<br>&lt;/div&gt;&para;<br>&lt;div class=\"inline_pullquote \"&gt;&para;<br> &lt;bq class=\"pullquote\"&gt;&para;<br>  Test&para;<br> &lt;/bq&gt;&para;<br> &lt;p class=\"by\"&gt;&para;<br>  Håken Lid, slabbedask&para;<br> &lt;/p&gt;&para;<br>&lt;/div&gt;&para;<br>&lt;div class=\"inline_pullquote \"&gt;&para;<br> &lt;bq class=\"pullquote\"&gt;&para;<br>  Test&para;<br> &lt;/bq&gt;&para;<br> &lt;p class=\"by\"&gt;&para;<br>  Håken Lid, slabbedask&para;<br> &lt;/p&gt;&para;<br>&lt;/div&gt;&para;<br>&lt;div class=\"inline_pullquote \"&gt;&para;<br> &lt;bq class=\"pullquote\"&gt;&para;<br>  Test&para;<br> &lt;/bq&gt;&para;<br> &lt;p class=\"by\"&gt;&para;<br>  Håken Lid, slabbedask&para;<br> &lt;/p&gt;&para;<br>&lt;/div&gt;&para;<br>&lt;div class=\"inline_pullquote \"&gt;&para;<br> &lt;bq class=\"pullquote\"&gt;&para;<br>  Test&para;<br> &lt;/bq&gt;&para;<br> &lt;p class=\"by\"&gt;&para;<br>  Håken Lid, slabbedask&para;<br> &lt;/p&gt;&para;<br>&lt;/div&gt;&para;<br></span><del style=\"background:#ffe6e6;\"> extra  extra </del>\n",
       "<hr>\n",
       "<h3>html (383) Dårlige på internasjonalisering \n",
       "</h3><span>&lt;p&gt;&para;<br> – Det virker som om Universitetet i Oslo ikke forstår verdien av internasjonalisering, sier internasjonalt ansvarlig i Studentparlamentet Håvard Øvregård.&para;<br>&lt;/p&gt;&para;<br>&lt;p&gt;&para;<br> Tall fra i fjor viser at 14 850 studenter fikk støtte fra Lånekassen til utenlandsstudier. Samtidig var det kun 8608 utenlandske studenter som fikk støtte til å studere i Norge.&para;<br>&lt;/p&gt;&para;<br>&lt;p&gt;&para;<br> Øvregård tror årsaken til at det kommer så få utenlandske studenter til Universitetet er manglende prioritering fra universitetsledelsen. Han mener en bedre inkludering av de utenlandske studentene og bedre økonomisk støtte må til for å trekke flere internasjonale studenter til Norge.&para;<br>&lt;/p&gt;&para;<br>&lt;h3 class=\"mellomtittel\"&gt;&para;<br> Lavt prioritert&para;<br>&lt;/h3&gt;&para;<br>&lt;p&gt;&para;<br> Rektor Kaare Norum mener kritikken fra Øvregård er feilslått fordi han mener han som rektor har jobbet aktivt for internasjonalisering. Men Norum er enig i at mye mer kan gjøres.&para;<br>&lt;/p&gt;&para;<br>&lt;p&gt;&para;<br> – Vi vil gjerne bedre tilbudet for studenter og yngre forskere fra utlandet. En av de tingene vi arbeider for er flere engelskspråklige forelesninger og kurs, sier Norum.&para;<br>&lt;/p&gt;&para;<br>&lt;h3 class=\"mellomtittel\"&gt;&para;<br> Ikke verdsatt&para;<br>&lt;/h3&gt;&para;<br>&lt;p&gt;&para;<br> Omtrent tre prosent av samtlige studenter i norske utdanningsinstitusjoner har utenlandsk statsborgerskap. Dette er under gjennomsnittet for OECD-land, som er nærmere fem prosent.&para;<br>&lt;/p&gt;&para;<br>&lt;p&gt;&para;<br> – Vi føler at Universitetet ikke anser oss som en ressurs, sier Ann-Kathrin Turn, leder i International student union.&para;<br>&lt;/p&gt;&para;<br>&lt;p&gt;&para;<br> Turn mener det dårlige tilbudet på engelskspråklige forelesninger gjør Universitetet mindre attraktivt for utenlandske studenter.&para;<br>&lt;/p&gt;&para;<br>&lt;p&gt;&para;<br> – Søknadsprossesen er for vanskelig, og det blir gjort for lite for å integrere utenlandske studenter med de norske, sier Turn.&para;<br>&lt;/p&gt;&para;<br>&lt;h3 class=\"mellomtittel\"&gt;&para;<br> Studentenes ansvar&para;<br>&lt;/h3&gt;&para;<br>&lt;p&gt;&para;<br> Førstekonsulent ved Seksjon for internasjonale programmer Guri Vestad sier at et av målene til universitetet er å få flere internasjonale studenter.&para;<br>&lt;/p&gt;&para;<br>&lt;p&gt;&para;<br> – Det universitetet kan gjøre er å ha flere engelskspråklige undervisningstilbud. Men det tror jeg ikke alle norske studenter er like begeistret over, sier Vestad.&para;<br>&lt;/p&gt;&para;<br>&lt;p&gt;&para;<br> Når det gjelder integrering tror hun ikke universitetet kan gjøre så mye mer.&para;<br>&lt;/p&gt;&para;<br>&lt;p&gt;&para;<br> – Jeg mener det kommer an på om de norske studentene klarer å inkludere de utenlandske studentene i sine egne arrangementer, sier Vestad.&para;<br>&lt;/p&gt;&para;<br>&lt;p&gt;&para;<br> Rektor Kaare Norum er enig.&para;<br>&lt;/p&gt;&para;<br>&lt;p&gt;&para;<br> – De gangene jeg har pratet med internasjonale studenter har de etterlyst sosiale og organisatoriske initiativer fra studenorganisasjonene, sier Norum.&para;<br>&lt;/p&gt;&para;<br>&lt;h3 class=\"mellomtittel\"&gt;&para;<br> Norges ansvar&para;<br>&lt;/h3&gt;&para;<br>&lt;p&gt;&para;<br> Leder for Europakommisjonens delegasjon, Gerhard Sabathil, mener at det ville være naturlig for Norge å gjøre seg så attraktiv som mulig for utenlandske studenter, både av økonomiske og kulturelle årsaker.&para;<br>&lt;/p&gt;&para;<br>&lt;p&gt;&para;<br> – Det gode akademiske tilbudet her burde absolutt komme andre nasjoner til gode, sier Sabathil.&para;<br>&lt;/p&gt;&para;<br>&lt;p&gt;&para;<br> Selv om Universitetsledelsen understreker viktigheten av et høyt antall utenlandske studenter, var det ikke mulig å oppdrive tall på utenlandsstudenter som studerer ved Universitetet i Oslo.&para;<br>&lt;/p&gt;&para;<br>&lt;div class=\"inline_pullquote \"&gt;&para;<br> &lt;bq class=\"pullquote\"&gt;&para;<br>  Test&para;<br> &lt;/bq&gt;&para;<br> &lt;p class=\"by\"&gt;&para;<br>  Håken Lid, slabbedask&para;<br> &lt;/p&gt;&para;<br>&lt;/div&gt;&para;<br>&lt;div class=\"inline_pullquote \"&gt;&para;<br> &lt;bq class=\"pullquote\"&gt;&para;<br>  Test&para;<br> &lt;/bq&gt;&para;<br> &lt;p class=\"by\"&gt;&para;<br>  Håken Lid, slabbedask&para;<br> &lt;/p&gt;&para;<br>&lt;/div&gt;&para;<br>&lt;div class=\"inline_pullquote \"&gt;&para;<br> &lt;bq class=\"pullquote\"&gt;&para;<br>  Test&para;<br> &lt;/bq&gt;&para;<br> &lt;p class=\"by\"&gt;&para;<br>  Håken Lid, slabbedask&para;<br> &lt;/p&gt;&para;<br>&lt;/div&gt;&para;<br>&lt;div class=\"inline_pullquote \"&gt;&para;<br> &lt;bq class=\"pullquote\"&gt;&para;<br>  Test&para;<br> &lt;/bq&gt;&para;<br> &lt;p class=\"by\"&gt;&para;<br>  Håken Lid, slabbedask&para;<br> &lt;/p&gt;&para;<br>&lt;/div&gt;&para;<br>&lt;div class=\"inline_pullquote \"&gt;&para;<br> &lt;bq class=\"pullquote\"&gt;&para;<br>  Test&para;<br> &lt;/bq&gt;&para;<br> &lt;p class=\"by\"&gt;&para;<br>  Håken Lid, slabbedask&para;<br> &lt;/p&gt;&para;<br>&lt;/div&gt;&para;<br>&lt;div class=\"inline_pullquote \"&gt;&para;<br> &lt;bq class=\"pullquote\"&gt;&para;<br>  Test&para;<br> &lt;/bq&gt;&para;<br> &lt;p class=\"by\"&gt;&para;<br>  Håken Lid, slabbedask&para;<br> &lt;/p&gt;&para;<br>&lt;/div&gt;&para;<br></span><del style=\"background:#ffe6e6;\"> extra  extra </del>\n",
       "<hr>\n",
       "<h3>html (652) Jaheim Ghetto Love \n",
       "</h3><span>&lt;p&gt;&para;<br> Warner&para;<br>&lt;/p&gt;&para;<br>&lt;p&gt;&para;<br> Det er noe med New Jersey. Derfra kommer Bruce Springsteen, Yo la Tengo, Sonic Youth. Og nå altså Jaheim (21). Han vokste opp i kirka, på gata og i fengsel. Han pleide å synge på New Jersey Transit-togene. Hvis du hiver deg på og kjøper debuten&para;<br>&lt;/p&gt;&para;<br>&lt;p&gt;&para;<br> Ghetto Love, årets beste soulskive, er det ikke måte på hvor langt ferden vil gå.&para;<br>&lt;/p&gt;&para;<br>&lt;p&gt;&para;<br> Ikke det at jeg henvender meg til alle du\\'ene der ute. Men hvis nettopp &lt;em&gt;du&lt;/em&gt; har nynnet til Marvin Gaye og danset til Curtis Mayfield, eller fikk med deg D\\'Angelo i fjor, eller bare generelt er musikkinteressert, så kjøp denne skiva.&para;<br>&lt;/p&gt;&para;<br>&lt;p&gt;&para;<br> Selv går Jaheim mest i sporene til Luther Vandross og Teddy Pendergrass, men han ser ikke bare bakover. Mikael Krohn sa engang at «rock er levd liv, mens pop er drømt liv». Jeg så et intervju med Jaheim her om dagen. Han fortalte om trøbbel i fortiden, «...but that\\'s all in the past now. This is the future».&para;<br>&lt;/p&gt;&para;<br>&lt;div class=\"inline_pullquote \"&gt;&para;<br> &lt;bq class=\"pullquote\"&gt;&para;<br>  Test&para;<br> &lt;/bq&gt;&para;<br> &lt;p class=\"by\"&gt;&para;<br>  Håken Lid, slabbedask&para;<br> &lt;/p&gt;&para;<br>&lt;/div&gt;&para;<br>&lt;div class=\"inline_pullquote \"&gt;&para;<br> &lt;bq class=\"pullquote\"&gt;&para;<br>  Test&para;<br> &lt;/bq&gt;&para;<br> &lt;p class=\"by\"&gt;&para;<br>  Håken Lid, slabbedask&para;<br> &lt;/p&gt;&para;<br>&lt;/div&gt;&para;<br></span><del style=\"background:#ffe6e6;\"> extra  extra </del>\n",
       "<hr>\n",
       "<h3>html (531) Dyster komedie \n",
       "</h3><span>&lt;p&gt;&para;<br> Hva er kjipest? Å være avdanket postbud eller å selge burgere i et gatekjøkken uten kunder? Robert Skjærstad har prøvd begge deler. Først med hovedrollen i&para;<br>&lt;/p&gt;&para;<br>&lt;p&gt;&para;<br> Budbringeren og nå som stakkaren Jan i &lt;em&gt;Amatørene&lt;/em&gt;. Forlatt av kjæresten og kuet av faren, investerer Jan all sin energi i det som må være historiens minst innbringende gatekjøkken.&para;<br>&lt;/p&gt;&para;<br>&lt;p&gt;&para;<br> Samtidig møter vi Bent, en sliten trommis som hardnakket klamrer seg til rock´n´roll-drømmen. Men silkeskjorter og skinnbukser hjelper lite når dama heller vil ha sm-sex med vokalisten Iver Mo.&para;<br>&lt;/p&gt;&para;<br>&lt;p&gt;&para;<br> Disse typene innleder Sletaunes nye film. Oppskriften er den samme som forrige gang. Slitne og tragiske mennesker kjemper seg gjennom tilværelsens uutholdelige vanskeligheter. Både postmannen i Budbringeren og amatøren Jan får et ublidt møte med Oslos underverden. Iver Mo kidnappes, og ender til slutt opp i Jans gatekjøkken.&para;<br>&lt;/p&gt;&para;<br>&lt;h3 class=\"mellomtittel\"&gt;&para;<br> Test deg selv&para;<br>&lt;/h3&gt;&para;<br>&lt;p&gt;&para;<br> Amatør stammer fra det latinske ordet «amare» som betyr å elske, og det er tydelig at Pål Sletaune er glad i amatørene sine. Det er nettopp filmens pussige rollefigurer som er dens styrke.&para;<br>&lt;/p&gt;&para;<br>&lt;p&gt;&para;<br> Hovedpersonene er utstyrt med fremtredende særtrekk som får oss til å humre fornøyd hver gang de entrer lerretet: Iver Mo med sine harry cowboyboots som han helst beholder på mens han elsker, og puddelhårete Bent som aldri klarer å stoppe å svette. Videre ser vi en strålende Bjørn Sundquist i hans kanskje mest uappetittelige rolle hittil. Som Jans sinnsforvirrede og psykopatiske far, skaper han det rene terrorvelde i deres felles søttitallstriste leilighet.&para;<br>&lt;/p&gt;&para;<br>&lt;p&gt;&para;<br> På Internett er det attpåtil mulig å ta testen «Hvem er du i &lt;em&gt;Amatørene&lt;/em&gt;?». Selv får jeg beskjed om at jeg likner på Iver: Rockeren som «har blitt stor etter å ha kjørt en vellykket blanding av Billy Idol og Åge Aleksandersen».&para;<br>&lt;/p&gt;&para;<br>&lt;h3 class=\"mellomtittel\"&gt;&para;<br> Svart humor&para;<br>&lt;/h3&gt;&para;<br>&lt;p&gt;&para;<br> Ettersom&para;<br>&lt;/p&gt;&para;<br>&lt;p&gt;&para;<br> Budbringeren ble sett av 150 000 nordmenn, solgt til 40 land og vant kritikerprisen i Cannes, er det forståelig at Sletaune vil gjenta sin suksessrike oppskrift. Som i &lt;em&gt;Budbringeren&lt;/em&gt; har han også denne gangen skrevet originalmanus sammen med forfatteren Jonny Halberg.&para;<br>&lt;/p&gt;&para;<br>&lt;p&gt;&para;<br> Historien fortelles med en lavmælt og svart humor. Jeg skulle kanskje ønsket at filmen i større grad åpnet latterslusene, men små bisarre hendelser piffer opp en ellers konvensjonell handling. Som når Jan er i skogen for å henge seg i et tre, og får uventet selskap av en enslig ku.&para;<br>&lt;/p&gt;&para;<br>&lt;p&gt;&para;<br> Ellers fremstår til og med filmens mest lurvete småkjeltringer som sympatiske. Hvem kan vel motstå en kidnapper med kronisk blærekatarr?&para;<br>&lt;/p&gt;&para;<br>&lt;p&gt;&para;<br> Rollefigurene blir definitivt med deg ut av salen, og er ikke lett glemt.&para;<br>&lt;/p&gt;&para;<br>&lt;div class=\"inline_pullquote \"&gt;&para;<br> &lt;bq class=\"pullquote\"&gt;&para;<br>  Test&para;<br> &lt;/bq&gt;&para;<br> &lt;p class=\"by\"&gt;&para;<br>  Håken Lid, slabbedask&para;<br> &lt;/p&gt;&para;<br>&lt;/div&gt;&para;<br>&lt;div class=\"inline_pullquote \"&gt;&para;<br> &lt;bq class=\"pullquote\"&gt;&para;<br>  Test&para;<br> &lt;/bq&gt;&para;<br> &lt;p class=\"by\"&gt;&para;<br>  Håken Lid, slabbedask&para;<br> &lt;/p&gt;&para;<br>&lt;/div&gt;&para;<br></span><del style=\"background:#ffe6e6;\"> extra  extra </del>\n",
       "<hr>\n",
       "<h3>html (265) Pippis filosofiske krefter \n",
       "</h3><span>&lt;p&gt;&para;<br> Det året krigen ble til fred så en niårig jente dagens lys. Hadde hun vært født tidligere kunne hun sikkert ha hamlet opp med hele Hitler-Tyskland alene, så sterk var hun. Snart spredte ryktet om henne seg utover verden, og barn over hele kloden forgudet henne.&para;<br>&lt;/p&gt;&para;<br>&lt;p&gt;&para;<br> – Pippi er alle barns opprører. Hun er antropolog i bakvendtland, fordi hun går ikke med på at skikk og bruk må være slik som damer i kaffeslabberas bestemmer. Hun viser at i andre land er ikke skikkene slik som her. Til vennene forklarer hun at i Argentina spiser alle karameller hele dagen, eller i Ost India går alle baklengs. Hun er som Sokrates, vil ikke ta allmenne sannheter for gitt, sier lektor i filosofi Øystein Sjaastad.&para;<br>&lt;/p&gt;&para;<br>&lt;p&gt;&para;<br> Sammen med forlagsmannen Jørgen Gaare har han sett nærmere på Pippi og de andre barnebokskikkelsene i Astrid Lindgrens bøker. Ideen var å sette skikkelsene inn i et filosofisk lys. Resultatet ble 522 sider.&para;<br>&lt;/p&gt;&para;<br>&lt;h3 class=\"mellomtittel\"&gt;&para;<br> Et udannet pikebarn&para;<br>&lt;/h3&gt;&para;<br>&lt;p&gt;&para;<br> Lindgrens første forsøk på å gi ut Pippi mislyktes. Bonnier forlag mente at svenske barn ikke ville ha interesse av å lese om slikt et udannet pikebarn. Men etter mye strev kom boken ut. Selv om de første utgavene var sensurerte og skapte mange protester.&para;<br>&lt;/p&gt;&para;<br>&lt;p&gt;&para;<br> – Men etter hvert ble Pippi ufarliggjort og omfavnet av representanter for den frie barneoppdragelsen. Vi vil vise at det er mye mer hos Pippi enn bare det frie og anarkistiske, sier Gaare.&para;<br>&lt;/p&gt;&para;<br>&lt;p&gt;&para;<br> – &lt;em&gt; I filmen &lt;/em&gt;Tilsammans&para;<br>&lt;/p&gt;&para;<br>&lt;p&gt;&para;<br> blir Pippi anklaget for å være kapitalist. Hun har jo masse gullpenger som hun kjøper ting for. Ingen av barna i bofellesskapet fikk lov å lese om henne.&para;<br>&lt;/p&gt;&para;<br>&lt;p&gt;&para;<br> – Hehe. Pippi kapitalist? Ja det kom vel mye rart frem på syttitallet. Hehe. Men de har misforstått helt. Pippi er en skattesamler, hun tar vare på gullmyntene sine, hun investerer dem ikke i noe, sier Sjaastad.&para;<br>&lt;/p&gt;&para;<br>&lt;h3 class=\"mellomtittel\"&gt;&para;<br> Barnas filosofi&para;<br>&lt;/h3&gt;&para;<br>&lt;p&gt;&para;<br> De to barnefilosofene har hatt mange morsomme kvelder med lesing av Lindgrens bøker. Og mange filosofiske paralleller har det blitt. Både Pippi, Karlson på taket og Emil etterligner Sokrates og dialektikken hans. &lt;em&gt;Mio min Mio&lt;/em&gt; har blitt tolket som et platonsk verk, og ifølge forfatterne er det klare paralleller til dialogen&para;<br>&lt;/p&gt;&para;<br>&lt;p&gt;&para;<br> Faidros. Akkurat slik som Sokrates og unge Faidros sitter i skyggen av et lønnetre og snakker om paradis, sitter Mio med sine nye venner og snakker om en verden uten onde ridder Cato. &lt;em&gt;Brødrene Løvehjerte&lt;/em&gt; kan tolkes som et marxistisk verk, der den ideelle verden er i små jordbrukssamfunn der alle hjelper hverandre.&para;<br>&lt;/p&gt;&para;<br>&lt;p&gt;&para;<br> – Men i Ronja Røverdatter har Lindgren forsont seg med denne verdenen og drømmer ikke lengre om et Nangijala. Nå viser hun at det er mulig å leve i kompakt med naturen. Det er mange paralleller til Rousseau sitt naturmenneske her, sier Gaare.&para;<br>&lt;/p&gt;&para;<br>&lt;p&gt;&para;<br> – Det er også spor av Dante i &lt;em&gt;Brødrene Løvehjerte&lt;/em&gt;. Den ene dalen representerer Himmelen, den andre Helvete, sier Sjaastad.&para;<br>&lt;/p&gt;&para;<br>&lt;h3 class=\"mellomtittel\"&gt;&para;<br> Møtte Sokrates?&para;<br>&lt;/h3&gt;&para;<br>&lt;p&gt;&para;<br> Lindgren selv har aldri uttalt seg om sin eventuelle filosofiske bakgrunn. Forfatterne skrev et brev til henne og opplyste om bokprosjektet, men de fikk bare uttalelser fra hennes sekretær.&para;<br>&lt;/p&gt;&para;<br>&lt;p&gt;&para;<br> – Men vi vet at hun er en velutdannet kvinne og at hun var politisk aktiv på 1960- og 1970-tallet, sier Sjaastad.&para;<br>&lt;/p&gt;&para;<br>&lt;p&gt;&para;<br> – Dessuten er det ikke det som er det viktigste. Det er interessant at Nietzsche og Kierkegaard hadde såpass like tanker selv om de aldri møtte hverandre. Slik blir det med Lindgrens barneskildringer også, sier Gaare.&para;<br>&lt;/p&gt;&para;<br>&lt;p&gt;&para;<br> – Ja, for hun møtte jo ikke Sokrates, legger Sjaastad til.&para;<br>&lt;/p&gt;&para;<br>&lt;p&gt;&para;<br> Mesterdetektiven Karl Blomquist er en klok liten gutt som stadig bruker tiden til små filosofiske anekdoter. Etter å ha svømt en tur sammen med vennen Endre, begynner Karl å spørre om de i det hele tatt eksisterer.&para;<br>&lt;/p&gt;&para;<br>&lt;p&gt;&para;<br> – Han sier at de sikkert er to personer i en bok som noen har diktet opp. Akkurat som slutten av Pippi-bøkene der barna skal leve evig inne i boken, sier Sjaastad.&para;<br>&lt;/p&gt;&para;<br>&lt;p&gt;&para;<br> –&para;<br>&lt;/p&gt;&para;<br>&lt;p&gt;&para;<br> Så en kan se hvem Jostein Gaarder har tatt sine ideer fra?&para;<br>&lt;/p&gt;&para;<br>&lt;p&gt;&para;<br> – Hehe. Det kan du godt si, sier Gaare.&para;<br>&lt;/p&gt;&para;<br>&lt;p&gt;&para;<br> Av Tonje T. Larsen og Åshild Støylen (foto)&para;<br>&lt;/p&gt;&para;<br>&lt;div class=\"inline_pullquote \"&gt;&para;<br> &lt;bq class=\"pullquote\"&gt;&para;<br>  Test&para;<br> &lt;/bq&gt;&para;<br> &lt;p class=\"by\"&gt;&para;<br>  Håken Lid, slabbedask&para;<br> &lt;/p&gt;&para;<br>&lt;/div&gt;&para;<br>&lt;div class=\"inline_pullquote \"&gt;&para;<br> &lt;bq class=\"pullquote\"&gt;&para;<br>  Test&para;<br> &lt;/bq&gt;&para;<br> &lt;p class=\"by\"&gt;&para;<br>  Håken Lid, slabbedask&para;<br> &lt;/p&gt;&para;<br>&lt;/div&gt;&para;<br></span><del style=\"background:#ffe6e6;\"> extra  extra </del>\n",
       "<hr>\n",
       "<h3>html (264) Den ensomme student \n",
       "</h3><span>&lt;p&gt;&para;<br> &lt;em&gt;Norwegian Wood&lt;/em&gt; er tittelen på gjennombruddsromanen til Haruki Murakami (51). Boka solgte i over to millioner eksemplarer i hjemlandet og gjorde Murakami til Japans mestselgende forfatter. Den gjorde det også bra i Norge. Nå foreligger Murakami-romanen&para;<br>&lt;/p&gt;&para;<br>&lt;p&gt;&para;<br> Vest for solen, syd for grensen fra 1992 på norsk.&para;<br>&lt;/p&gt;&para;<br>&lt;p&gt;&para;<br> I likhet med &lt;em&gt;Norwegian Wood&lt;/em&gt; er også hovedpersonen i den nye romanen en isolert og forvirret mann på jakt etter meningen med livet. Hajime ender til slutt som en vellykket familiefar og bareier i førtiårene, men får tilværelsen rykket opp med roten da han treffer igjen sin barndoms flamme. Men først har han vært igjennom en ensom tid som universitetsstudent.&para;<br>&lt;/p&gt;&para;<br>&lt;p&gt;&para;<br> – Det er egentlig tilfeldig at jeg ville skrive om ensomme og isolerte mennesker i disse to bøkene, forteller Murakami på e-post fra Japan, og kommer samtidig med en krass kritikk av studenttilværelsen:&para;<br>&lt;/p&gt;&para;<br>&lt;p&gt;&para;<br> – Jeg tror at unge studenter i de fleste tilfeller kaster bort tiden, og at de vet det meget godt, skriver han.&para;<br>&lt;/p&gt;&para;<br>&lt;p&gt;&para;<br> Selv studerte Murakami film og drømte om å bli filmskaper:&para;<br>&lt;/p&gt;&para;<br>&lt;p&gt;&para;<br> – Jeg var ikke interessert i å skrive romaner på den tiden. Jeg elsket å lese bøker, naturligvis, men det eneste jeg ville skrive var filmmanus. Jeg så massevis av filmer og leste manus, både gode og dårlige.&para;<br>&lt;/p&gt;&para;<br>&lt;p&gt;&para;<br> I dag hender det at Murakami skriver romaner og noveller teknisk sett som om de var filmer, med dialog, scener og filmmusikk. Men å lage film har han ikke lyst til lenger.&para;<br>&lt;/p&gt;&para;<br>&lt;p&gt;&para;<br> – Det er mye lettere å skrive bøker. Det kan du gjøre alene, og med et veldig lite budsjett. Jeg er lykkelig som forfatter.&para;<br>&lt;/p&gt;&para;<br>&lt;p&gt;&para;<br> – Hvordan vil du beskrive din egen studietid?&para;<br>&lt;/p&gt;&para;<br>&lt;p&gt;&para;<br> – Jeg er ganske sikker på at jeg var en av de lateste studentene. Skolen var så kjedelig, og det var mange spennende ting som skjedde utenom skolen, spesielt i 1969, skriver Murakami.&para;<br>&lt;/p&gt;&para;<br>&lt;h3 class=\"mellomtittel\"&gt;&para;<br> Østens vestligste&para;<br>&lt;/h3&gt;&para;<br>&lt;p&gt;&para;<br> I Japan er Murakami kjent som den «vestlige» forfatteren. &lt;em&gt;Norwegian Wood&lt;/em&gt; er en Beatles-låt. I&para;<br>&lt;/p&gt;&para;<br>&lt;p&gt;&para;<br> Vest for solen, syd for grensen er tittelen inspirert av Nat King Cole-låta &lt;em&gt;South of the Border&lt;/em&gt;. Murakami har selv bodd lenge i USA.&para;<br>&lt;/p&gt;&para;<br>&lt;p&gt;&para;<br> – Hva er ditt forhold til tradisjonell japansk kultur?&para;<br>&lt;/p&gt;&para;<br>&lt;p&gt;&para;<br> – Jeg får ofte det spørsmålet. Og hver gang spør jeg meg selv: Hva er tradisjonell japansk kultur? Mitt yrke er å skrive bøker på japansk, og jeg snakker flytende japansk. Jeg savner god sushi og tofu desperat når jeg er i utlandet. Etter min ringe mening er disse tingene tradisjonelle nok og japanske nok.&para;<br>&lt;/p&gt;&para;<br>&lt;p&gt;&para;<br> I litterære kretser ser man likevel et skille mellom Murakami og andre. Førsteammanuensis i japansk litteratur Reiko Abe Auestad mener Murakamis suksess sier noe om globaliseringen av pop-kulturen.&para;<br>&lt;/p&gt;&para;<br>&lt;p&gt;&para;<br> – Japansk ungdom er også ganske vestlig, i hvert fall på overflaten. De kjenner seg igjen i forbrukerkulturen som livsstil og livsholdning. Den går igjen i Murakamis bøker, og det tror jeg er nøkkelen til hans suksess.&para;<br>&lt;/p&gt;&para;<br>&lt;p&gt;&para;<br> For den som skal ta litteraturdelen i japansk grunnfag finnes det ingen vei utenom Murakami. Novellen hans &lt;em&gt;Dansende dverger&lt;/em&gt; i antologien Japan forteller er pensum.&para;<br>&lt;/p&gt;&para;<br>&lt;p&gt;&para;<br> – Murakami er en fin innfallsport til japansk litteratur, fordi han er forholdsvis enkel og tilgjengelig. Slik sett kan han være en motgift mot forestillinger om at japansk litteratur kun består av mystiske geisha-skikkelser og samuraihelter, sier Auestad.&para;<br>&lt;/p&gt;&para;<br>&lt;h3 class=\"mellomtittel\"&gt;&para;<br> Nordmenn dør i Thailand&para;<br>&lt;/h3&gt;&para;<br>&lt;p&gt;&para;<br> Murakami har etterhvert fått status som kritikeryndling i bok-Norge.&para;<br>&lt;/p&gt;&para;<br>&lt;p&gt;&para;<br> – Her i landet har Murakami så å si utelukkende fått gode kritikker. Ikke bare det, begeistringen har vært stor, sier Birgit Bjerck i Pax Forlag.&para;<br>&lt;/p&gt;&para;<br>&lt;p&gt;&para;<br> De har planlagt to nye utgivelser til våren og diskuterer enda to bøker.&para;<br>&lt;/p&gt;&para;<br>&lt;p&gt;&para;<br> Blant de mange som sluttet seg til kritikerkorpset finner vi Tuva Ørbeck Sørheim, redaktør i Bokklubben Nye Bøker. Hun har tidligere oppgitt &lt;em&gt;Norwegian Wood&lt;/em&gt; som sin favorittbok.&para;<br>&lt;/p&gt;&para;<br>&lt;p&gt;&para;<br> – Jeg setter Murakami høyt. Det er noe med tonen hans, den er eksotisk og samtidig veldig nær. En slags slentrende humor og alvor, sier Sørheim, og viser til sammenligninger andre har gjort mellom Murakami og Erlend Loe: Selv om de to forfatterne er veldig forskjellige, beskriver de begge på en måte vår tids stemning.&para;<br>&lt;/p&gt;&para;<br>&lt;p&gt;&para;<br> Og Murakami gjengjelder den norske kjærlighetserklæringen. Slik oppsummerer han sitt norgesbesøk i fjor:&para;<br>&lt;/p&gt;&para;<br>&lt;p&gt;&para;<br> – Maten er super (i det minste om sommeren), bilene er nye, menneskene er snille og de snakker flytende engelsk. Jeg møtte noen mennesker som var veldig entusiastiske over bøkene mine. Neste gang vil jeg gjerne besøke den nordlige delen av landet, der hadde jeg ikke tid til å dra, forteller Murakami, og legger til:&para;<br>&lt;/p&gt;&para;<br>&lt;p&gt;&para;<br> – Etter at jeg kom tilbake til Japan fra Norge, skrev jeg en historie om en norsk mann som bodde i Thailand og døde der.&para;<br>&lt;/p&gt;&para;<br>&lt;h3 class=\"mellomtittel\"&gt;&para;<br> Murakami på norsk:&para;<br>&lt;/h3&gt;&para;<br>&lt;p&gt;&para;<br> Sauejakten (1993)&para;<br>&lt;/p&gt;&para;<br>&lt;p&gt;&para;<br> Dans dans dans (1994)&para;<br>&lt;/p&gt;&para;<br>&lt;p&gt;&para;<br> Norwegian Wood (1998)&para;<br>&lt;/p&gt;&para;<br>&lt;p&gt;&para;<br> Trekkoppfuglen (1999)&para;<br>&lt;/p&gt;&para;<br>&lt;p&gt;&para;<br> Vest for solen, syd for grensen (2000)&para;<br>&lt;/p&gt;&para;<br>&lt;p&gt;&para;<br> Hardkokt eventyrland (kommer våren 2001)&para;<br>&lt;/p&gt;&para;<br>&lt;p&gt;&para;<br> Verdens ende (kommer våren 2001)&para;<br>&lt;/p&gt;&para;<br>&lt;p class=\"question\"&gt;&para;<br> Norwegian Wood&para;<br>&lt;/p&gt;&para;<br>&lt;div class=\"inline_pullquote \"&gt;&para;<br> &lt;bq class=\"pullquote\"&gt;&para;<br>  Test&para;<br> &lt;/bq&gt;&para;<br> &lt;p class=\"by\"&gt;&para;<br>  Håken Lid, slabbedask&para;<br> &lt;/p&gt;&para;<br>&lt;/div&gt;&para;<br>&lt;div class=\"inline_pullquote \"&gt;&para;<br> &lt;bq class=\"pullquote\"&gt;&para;<br>  Test&para;<br> &lt;/bq&gt;&para;<br> &lt;p class=\"by\"&gt;&para;<br>  Håken Lid, slabbedask&para;<br> &lt;/p&gt;&para;<br>&lt;/div&gt;&para;<br></span><del style=\"background:#ffe6e6;\"> extra  extra </del>\n",
       "<hr>\n",
       "<h3>html (266) Ja takk, begge deler \n",
       "</h3><span>&lt;p&gt;&para;<br> Begjær, kjærlighet, sjalusi, maktkamp og hat innenfor det engelske kongehuset – William Shakespeares tragikomiske drama &lt;em&gt;Cymbelin&lt;/em&gt; har flere intriger enn selv den mest kompliserte såpeopera.&para;<br>&lt;/p&gt;&para;<br>&lt;p&gt;&para;<br> – Selv om vi har skåret ned antall intriger fra elleve til fire, har&para;<br>&lt;/p&gt;&para;<br>&lt;p&gt;&para;<br> Cymbelin nok forviklinger igjen i vår versjon til å more alle såpeelskere, sier skuespiller Christoffer Staib, som skulle vite hva han snakker om etter å ha spilt rollen som den godtroende Bob i NRK-såpen &lt;em&gt;Offshore&lt;/em&gt;.&para;<br>&lt;/p&gt;&para;<br>&lt;h3 class=\"mellomtittel\"&gt;&para;<br> Feiginger&para;<br>&lt;/h3&gt;&para;<br>&lt;p&gt;&para;<br> Sammen med de fem andre skuespillerne i Oslo prosjektteater fremfører Staib nå et av de seneste og mest ukjente dramaene til Shakespeare for første gang på en norsk scene siden 1938.&para;<br>&lt;/p&gt;&para;<br>&lt;p&gt;&para;<br> – Vi er kanskje litt feige som velger&para;<br>&lt;/p&gt;&para;<br>&lt;p&gt;&para;<br> Cymbelin. Hadde vi satt opp et kjent Shakespeare-stykke ville vi kommet i større konkurranse med institusjonsteatrene. Da hadde vi automatisk blitt sammenliknet med de legendariske Romeo-ene og Hamlet-ene, sier Staib.&para;<br>&lt;/p&gt;&para;<br>&lt;p&gt;&para;<br> Friteatergruppen er likevel ikke feigere enn at de våger å sette opp en moderne versjon av dramaet. De bruker ingen scene, men spiller hele handlingen rett på gulvet mens publikum sitter på stoler i firkant rundt skuespillerne.&para;<br>&lt;/p&gt;&para;<br>&lt;p&gt;&para;<br> – Det tilfører et spennende teateraspekt til stykket. Vi er seks skuespillere som til sammen spiller tolv roller og gjør alle klesskiftene i rasende fart bak skjermbrett på scenen. Dermed blir det et diffust skille mellom hva som er del av forestillingen og hva som er virkeligheten, forteller Staib.&para;<br>&lt;/p&gt;&para;<br>&lt;h3 class=\"mellomtittel\"&gt;&para;<br> To ting på en gang&para;<br>&lt;/h3&gt;&para;<br>&lt;p&gt;&para;<br> Går du på forestillingen til Oslo prosjektteater får du ikke bare sett de unge skuespillernes tolkning av Shakespeare. &lt;em&gt;Cymbelin&lt;/em&gt; er nemlig bare første del av dobbeltforestillingen&para;<br>&lt;/p&gt;&para;<br>&lt;p&gt;&para;<br> Prosjekt identitet. Det andre stykket heter &lt;em&gt;I livet&lt;/em&gt; og er improvisert frem av instruktør Einar Bjørge og skuespillerne i samarbeid.&para;<br>&lt;/p&gt;&para;<br>&lt;p&gt;&para;<br> – Stykket handler om seks mennesker som har til felles at de alle har vært nært knyttet til et menneske som har tatt sitt eget liv. Tilsynelatende står I livet langt unna Shakespeares forviklingskomedie, men stykkene bindes sammen ved at de begge problematiserer identitetsbegrepet, sier instruktør Bjørge.&para;<br>&lt;/p&gt;&para;<br>&lt;p&gt;&para;<br> Mens &lt;em&gt;Cymbelin&lt;/em&gt; strengt følger verseformen di-dam-di-dam-di-dei, er truppens eget drama improvisert frem. Ifølge Bjørge gir det dobbeltforestillingen en fin dynamikk. For Christoffer Staib er det også viktig at oppsetningen ikke bare er underholdning, men at den samtidig også setter fokus på selvmord, et av de siste tabuene.&para;<br>&lt;/p&gt;&para;<br>&lt;p&gt;&para;<br> – Selvmord er et heavy, men viktig tema. Det er på tide at folk slutter å lukke øynene for at mange velger å ta sitt eget liv. Nå ligger det mye skyldfølelse og skam knyttet til dette problemet. Samtidig som vi setter fokus på selvmord, prøver vi imidlertid å løfte stykket slik at vi ikke reklamerer for det å ta sitt eget liv, sier Staib.&para;<br>&lt;/p&gt;&para;<br>&lt;p&gt;&para;<br> Oslo prosjektteater viser dobbeltforestillingen Prosjekt identitet som består av William Shakespeares &lt;em&gt;Cymbelin&lt;/em&gt; og truppens selvlagde stykke I livet mandag 27. , tirsdag 28. og onsdag 29. november i Lillesalen, Chateau Neuf klokken 19 og 21.&para;<br>&lt;/p&gt;&para;<br>&lt;p class=\"question\"&gt;&para;<br> Cymbelin&para;<br>&lt;/p&gt;&para;<br>&lt;div class=\"inline_pullquote \"&gt;&para;<br> &lt;bq class=\"pullquote\"&gt;&para;<br>  Test&para;<br> &lt;/bq&gt;&para;<br> &lt;p class=\"by\"&gt;&para;<br>  Håken Lid, slabbedask&para;<br> &lt;/p&gt;&para;<br>&lt;/div&gt;&para;<br>&lt;div class=\"inline_pullquote \"&gt;&para;<br> &lt;bq class=\"pullquote\"&gt;&para;<br>  Test&para;<br> &lt;/bq&gt;&para;<br> &lt;p class=\"by\"&gt;&para;<br>  Håken Lid, slabbedask&para;<br> &lt;/p&gt;&para;<br>&lt;/div&gt;&para;<br></span><del style=\"background:#ffe6e6;\"> extra  extra </del>\n",
       "<hr>\n",
       "<h3>html (263) Mat til enhver? \n",
       "</h3><span>&lt;p&gt;&para;<br> I sommer leverte Fremtiden i våre hender en rapport som konkluderte med at unge folk i byene har blitt mer miljøvennlige. De bruker mye fellestransport, sitter ofte på kafé og kjøper rettferdige produkter. Rapporten skrøt av de unges daglige kafébesøk og håpet den nye trenden ville fortsette. Rapporten viste at folk som spiste mye ute oftere tok kontakt med nye mennesker og var mindre forutinntatte ovenfor fremmende. Dette er vel i høyeste grad ønskelig for det fremmed-fiendtlige Norge.&para;<br>&lt;/p&gt;&para;<br>&lt;p&gt;&para;<br> Det har nok årets statsbudsjett satt bremser for. For nå vil alle tjenester bli momsbelagt. I verste tilfelle vil det bety at en god kaffe latte på XO kafé i sentrum, som nå koster 31 kroner, i januar vil koste cirka 40 kroner. I studentkantinene vil dagens middag koste 40 kroner. Dette kan kanskje virke lite viktig i den store sammenhengen. Dessuten blir jo kanskje kjøtt og bensin billigere.&para;<br>&lt;/p&gt;&para;<br>&lt;p&gt;&para;<br> Men hvem er det som spiser ute? På billige falafel-buler eller en salat til kaffen på en kaffebar? Jo, det er unge studenter. Studenter hvis vaner blir lovpriset av miljørapporter, men avgiftsbelagt av staten. Dette av Kristelig Folkeparti (KrF) som sier de vil hjelpe smånæringene, at skatt på utbytte ikke kommer på tale. Men å hjelpe restuaurantnæringen er ikke like prekært.&para;<br>&lt;/p&gt;&para;<br>&lt;p&gt;&para;<br> Jeg kan forstå at dette virker klagete og navlebeskuende, men det finnes faktisk folk som er glade for at vi ikke lenger bare samles rundt middagsbordet hjemme. Der vi sitter bak lukkede dører og nedtrukne gardiner. Ordtaket &lt;em&gt;mitt hjem er mitt borg&lt;/em&gt; trodde alle bare levde hos de eldste KrF-politikerne, men nå blir det igjen en realitet. Det er heller ikke spesielt koselig for en ensom student ved Sogn studentby å spise sine middager alene hjemme.&para;<br>&lt;/p&gt;&para;<br>&lt;p&gt;&para;<br> Restaurantnæringen blomstrer i Norge, mat er in og dermed blir det kanskje naturlig for politikere å skattelegge den nye trenden. Det kan virke som om det nordmenn forbruker mye av må skattlegges etter hvert. Det hadde vært forståelig hvis regjeringen hadde foreslått en CO2-avgift på gassverkene som faktisk skader miljøet og er med på å lage regnet vi alle er lei av. Men å beskatte spisenæringen som miljøvernforeninger er positive til, er et underlig tiltak i skattepolitikken.&para;<br>&lt;/p&gt;&para;<br>&lt;p&gt;&para;<br> Et argumentet er at det å spise ute er luksus og har man først råd til det bør man kunne betale en ekstra utgift også. Men politikerne misforstår, det er ikke lenger bare de rike og borgerlige som spiser ute. Alt fra McDonalds til Frederikke blir skadelidende, og dermed også vi studenter. Unnskyldningen til KrF har vært at matprisene går ned og dermed trenger ikke restaurantregningen bli nevneverdig større siden råvarene er billigere. Men det er bare utvalgte varer som slipper moms, og innen restaurantbransjen er det ingen utvalgte næringer som blir skånet. Både Plaza og Frederikke blir pålagt samme moms, med forskjellige konsekvenser både for kundene og næringene. At ikke politikerne brukte skjønn på dette området og fritok visse utsatte næringer for den ekstra økonomiske belastningen moms på tjenester blir, forstår jeg ikke. Dermed kan en nok en gang betvile Arbeiderpartiet og Kristelig folkepartis uttalte ønske om å lage regler som gir fordeler til de fattigste. Særlig med tanke på rapporter som sier at det økte utelivet demper fremmedfrykten. Det må jo være ønskelig for enhver sosialdemokrat.&para;<br>&lt;/p&gt;&para;<br>&lt;div class=\"inline_pullquote \"&gt;&para;<br> &lt;bq class=\"pullquote\"&gt;&para;<br>  Test&para;<br> &lt;/bq&gt;&para;<br> &lt;p class=\"by\"&gt;&para;<br>  Håken Lid, slabbedask&para;<br> &lt;/p&gt;&para;<br>&lt;/div&gt;&para;<br>&lt;div class=\"inline_pullquote \"&gt;&para;<br> &lt;bq class=\"pullquote\"&gt;&para;<br>  Test&para;<br> &lt;/bq&gt;&para;<br> &lt;p class=\"by\"&gt;&para;<br>  Håken Lid, slabbedask&para;<br> &lt;/p&gt;&para;<br>&lt;/div&gt;&para;<br></span><del style=\"background:#ffe6e6;\"> extra  extra </del>\n",
       "<hr>\n",
       "<h3>html (6) Her kommer en tittel \n",
       "</h3><span>&lt;p&gt;&para;<br> Omstridte Sulpicia skriver om da hun møtte kjærligheten og hadde sex før ekteskapet. Hun valgte å ikke skjule sin lidenskap, og var stolt av det hun hadde gjort. I løpet av de 2000 årene som har gått siden ukjente Sulpicia åpent innrømmet sine erotiske eventyr, har leserne hennes hatt helt ulike opplevelser av diktene. 1700-talls kommentatoren Heyne blir helt forelsket; midt i kommentaren går han helt ut av teksten og henvender seg til henne.&para;<br>&lt;/p&gt;&para;<br>&lt;p&gt;&para;<br> Mathilde Skoie har tatt doktorgraden i England på hvordan en klassisk tekst har blitt lest gjennom tidene.&para;<br>&lt;/p&gt;&para;<br>&lt;p&gt;&para;<br> – Vår forståelse av en tekst er også preget av hvordan den har blitt lest før.&para;<br>&lt;/p&gt;&para;<br>&lt;p&gt;&para;<br> Vi har kommentarer om diktene helt fra renessansen, sier hun.&para;<br>&lt;/p&gt;&para;<br>&lt;p&gt;&para;<br> Kommentarer lanseres normalt ikke som selvstendige tolkninger, men kun som «hjelpemidler». De leses parallelt med teksten og inneholder alt fra grammatiske forklaringer til kommentatorens egne oppfatninger.&para;<br>&lt;/p&gt;&para;<br>&lt;p&gt;&para;<br> – Som student leser man tekster ofte gjennom slike kommentarer, og man&para;<br>&lt;/p&gt;&para;<br>&lt;p&gt;&para;<br> glemmer at de også er lesninger. Jeg bruker dem derimot som en&para;<br>&lt;/p&gt;&para;<br>&lt;p&gt;&para;<br> dokumentasjon på hvordan Sulpicia har blitt lest, og ser på hvilke fortolkningsgrep som er benyttet, sier Skoie.&para;<br>&lt;/p&gt;&para;<br>&lt;p&gt;&para;<br> Sin egen doktorgradsoppgave ser hun derfor som en samtale mellom teksten, sju ulike kommentarer og henne selv som en leser fra vår tid.&para;<br>&lt;/p&gt;&para;<br>&lt;h3 class=\"mellomtittel\"&gt;&para;<br> Ren natur&para;<br>&lt;/h3&gt;&para;<br>&lt;p&gt;&para;<br> Sulpicia er vår eneste kilde til hvordan kvinner skrev i romertiden. Diktene er overlevert i den romerske dikteren Tibulls etterlatte tekster, og alle som har kommentert Tibull har også kommentert Sulpicia. Lenge antok man at Tibull selv hadde skrevet disse diktene.&para;<br>&lt;/p&gt;&para;<br>&lt;p&gt;&para;<br> På 1800-tallet går derimot tyskeren Otto Gruppe ut fra at de er skrevet av en kvinne, uten annet bevis enn hans egen fortolkning av teksten.&para;<br>&lt;/p&gt;&para;<br>&lt;p&gt;&para;<br> – Farger det hans syn på diktene?&para;<br>&lt;/p&gt;&para;<br>&lt;p&gt;&para;<br> – Gruppe var inspirert av romantikken, og i hans idealer om hvordan kvinner skriver passer det at forfatteren en kvinne, sier Skoie.&para;<br>&lt;/p&gt;&para;<br>&lt;p&gt;&para;<br> Gruppe leser Sulpicia som en kringkaster av det spontane og den rene natur. Han karakteriser hennes spesielle form og uortodokse latin som rar og sier at det er «dårlig latin». Tre år tidligere kommenterte en annen tysker de samme elementene og fant dem originale og poetiske. I motsetning til Gruppe gikk han ut fra at forfatteren var mann.&para;<br>&lt;/p&gt;&para;<br>&lt;p&gt;&para;<br> Amerikaneren K. F. Smith lar seg på begynnelsen av 1900-tallet inspirere av den gryende psykologien, og ser Sulpicia som eksempel på den amerikanske piken.&para;<br>&lt;/p&gt;&para;<br>&lt;p&gt;&para;<br> – Hva ligger i denne fortolkningen?&para;<br>&lt;/p&gt;&para;<br>&lt;p&gt;&para;<br> – Hun er modig, men uskyldig. Smith ser diktene som dagboknotater rett fra et kvinnesinn, og beskriver dem som «et vindu inn til hennes psyke», sier Skoie.&para;<br>&lt;/p&gt;&para;<br>&lt;h3 class=\"mellomtittel\"&gt;&para;<br> Moralsk ommøblering&para;<br>&lt;/h3&gt;&para;<br>&lt;p&gt;&para;<br> Kvinnelig åpenhet om lidenskap har ikke passet inn i alle tiders syn på moral.&para;<br>&lt;/p&gt;&para;<br>&lt;p&gt;&para;<br> – De kommentatorene som ser kvinneligheten i teksten hopper over erotikken. Noen filologer har ommøblert diktenes rekkefølge; hvis kjærlighetshistorien ikke begynner, men ender med sex er det greit. Det er enda bedre om det går slik Gruppe tror – at de blir gift til slutt.&para;<br>&lt;/p&gt;&para;<br>&lt;p&gt;&para;<br> – Hvorfor legger du så stor vekt på forfatterens kjønn?&para;<br>&lt;/p&gt;&para;<br>&lt;p&gt;&para;<br> – Kjønn er vektlagt i kommentarene, og det gir avgjørende utslag for&para;<br>&lt;/p&gt;&para;<br>&lt;p&gt;&para;<br> fortolkningen. Kjønn blir spesielt viktig fordi vi ikke vet om forfatteren&para;<br>&lt;/p&gt;&para;<br>&lt;p&gt;&para;<br> er en mann eller en kvinne, sier Skoie.&para;<br>&lt;/p&gt;&para;<br>&lt;p&gt;&para;<br> I dag er det stort sett enighet om at diktene er skrevet av en kvinne.&para;<br>&lt;/p&gt;&para;<br>&lt;h3 class=\"mellomtittel\"&gt;&para;<br> Å lese langsomt&para;<br>&lt;/h3&gt;&para;<br>&lt;p&gt;&para;<br> Nietzsche var klassisk filolog, og han har uttalt at det eneste positive ved klassiske tekster er at de må leses langsomt. Skoie ser på kommentarene til Sulpicia som en form for langsom lesing. Selv har hun brukt år på de seks kjærlighetsdiktene på til sammen førti linjer.&para;<br>&lt;/p&gt;&para;<br>&lt;p&gt;&para;<br> Det siste året har hun vært i Roma, der hun har sittet i Vatikan-biblioteket og lest originalmanuskripter fra renessansen.&para;<br>&lt;/p&gt;&para;<br>&lt;p&gt;&para;<br> – Hva gjør det med ditt syn på tekstene?&para;<br>&lt;/p&gt;&para;<br>&lt;p&gt;&para;<br> – Det er stor forskjell fra å få utdelt en ferdig forklart tekst og å lese rare&para;<br>&lt;/p&gt;&para;<br>&lt;p&gt;&para;<br> håndskrifter. Jeg er opptatt av å lese teksten med alle dens aspekter. Selv i grammatikken ligger det fortolkningsmuligheter.&para;<br>&lt;/p&gt;&para;<br>&lt;p&gt;&para;<br> Mathilde Skoie har vært opptatt av å kombinere studier i klassiske språk med litteraturvitenskap. Hun ønsker at litteraturvitere stopper litt opp og leser langsommere, og at filologene anerkjenner fortolkningsaspektet.&para;<br>&lt;/p&gt;&para;<br>&lt;p&gt;&para;<br> – Ordvalg og oversettelse er også viktig for hele prosessen en tekst går gjennom. Sulpicia er preget av to tusen års lesing. Da fortjener hun å leses langsomt, sier Mathilde Skoie.&para;<br>&lt;/p&gt;&para;<br>&lt;p&gt;&para;<br> Sulpicia i Henning Hagerups oversettelse.&para;<br>&lt;/p&gt;&para;<br>&lt;p&gt;&para;<br> Test&para;<br>&lt;/p&gt;&para;<br>&lt;div class=\"inline_pullquote \"&gt;&para;<br> &lt;bq class=\"pullquote\"&gt;&para;<br>  Test&para;<br> &lt;/bq&gt;&para;<br> &lt;p class=\"by\"&gt;&para;<br>  Håken Lid, slabbedask&para;<br> &lt;/p&gt;&para;<br>&lt;/div&gt;&para;<br>&lt;div class=\"inline_pullquote \"&gt;&para;<br> &lt;bq class=\"pullquote\"&gt;&para;<br>  Test&para;<br> &lt;/bq&gt;&para;<br> &lt;p class=\"by\"&gt;&para;<br>  Håken Lid, slabbedask&para;<br> &lt;/p&gt;&para;<br>&lt;/div&gt;&para;<br></span><del style=\"background:#ffe6e6;\"> extra  extra </del>\n",
       "<hr>\n",
       "<h3>html (764) Angsten som går \n",
       "</h3><span>&lt;div class=\"inline_image \"&gt;&para;<br> &lt;div class=\"image-container\"&gt;&para;<br>  &lt;img alt=\"\" id=\"img_15800\" src=\"/foto/cache/62/0f/620fc68f5d19c510e697244abe90184a.jpg\"/&gt;&para;<br> &lt;/div&gt;&para;<br>&lt;/div&gt;&para;<br>&lt;p&gt;&para;<br> – Vandrehistorier om eksamen? Jeg kan en om en elefant og en om amfetamin, sier Marit Ruge Bjælke. Hun har hjemmeeksamen i idéhistorie for øyeblikket.&para;<br>&lt;/p&gt;&para;<br>&lt;p class=\"question\"&gt;&para;<br> – Fortell.&para;<br>&lt;/p&gt;&para;<br>&lt;p&gt;&para;<br> – Jeg tror det var eksamen i psykologi. En av studentene hadde tatt amfetamin for å gjøre det bedre på eksamen. Han skrev og skrev – satt helt ut tiden. Men da han skulle levere besvarelsen viste det seg at han hadde skrevet alt på ett ark. Oppå hverandre. Det var uleselig, sier Ruge Bjælke.&para;<br>&lt;/p&gt;&para;<br>&lt;p&gt;&para;<br> Resten av kollokviegruppen humrer.&para;<br>&lt;/p&gt;&para;<br>&lt;h3 class=\"mellomtittel\"&gt;&para;<br> Stående elefant&para;<br>&lt;/h3&gt;&para;<br>&lt;p&gt;&para;<br> – Og så var det en elefant?&para;<br>&lt;/p&gt;&para;<br>&lt;p&gt;&para;<br> – Ja, den rosa alle har hørt om.&para;<br>&lt;/p&gt;&para;<br>&lt;p&gt;&para;<br> Ruge Bjælke husker ikke helt om det var kjemieksamen eller ex.phil., men studenten som møtte opp til eksamen var ikke særlig forberedt. For å ha noe å gjøre halvtimen før han kunne gå tegnet han en stor, rosa elefant. Leverte og gikk. Sensor syntes det var en riktig så fin elefant, og ga studenten karakteren 4.1.&para;<br>&lt;/p&gt;&para;<br>&lt;p&gt;&para;<br> – Poenget er at det var 70 prosent stryk på eksamenen. Oppgaven hadde vært for vanskelig. Alle fikk derfor justert opp karakteren et hakk, så studenten fikk 4.0 og bestått med den rosa elefanten, sier Ruge Bjælke.&para;<br>&lt;/p&gt;&para;<br>&lt;h3 class=\"mellomtittel\"&gt;&para;<br> Fullstendig utlevert&para;<br>&lt;/h3&gt;&para;<br>&lt;p&gt;&para;<br> Professor i folkloristikk, Arne Bugge Amundsen, forteller at det finnes så mange historier rundt eksamen fordi det er en fullstendig utleverende tilstand.&para;<br>&lt;/p&gt;&para;<br>&lt;p&gt;&para;<br> – Det er en makt-avmakt situasjon som skaper sterke følelser, og dermed oppstår historiene, sier han.&para;<br>&lt;/p&gt;&para;<br>&lt;p&gt;&para;<br> Eksamenshistoriene Bugge Amundsen har hørt dreier seg som regel om urimelig vurdering. Enten i positiv eller negativ forstand.&para;<br>&lt;/p&gt;&para;<br>&lt;p&gt;&para;<br> – Den eksterne sensoren er som regel djevelen i historien. Mange av vandrehistoriene er også karnevalistiske.&para;<br>&lt;/p&gt;&para;<br>&lt;p class=\"question\"&gt;&para;<br> – Karne..?&para;<br>&lt;/p&gt;&para;<br>&lt;p&gt;&para;<br> – Ja, rollene snus om. Historier der situasjoner og verdier snus opp ned har alltid appell, forklarer Bugge Amundsen.&para;<br>&lt;/p&gt;&para;<br>&lt;h3 class=\"mellomtittel\"&gt;&para;<br> Litt sanne&para;<br>&lt;/h3&gt;&para;<br>&lt;p&gt;&para;<br> I utgangspunktet fremstiller de fleste vandrehistoriene seg som sanne, og det er de også til en viss grad.&para;<br>&lt;/p&gt;&para;<br>&lt;p&gt;&para;<br> Utenfor UB sitter Ulf Johannessen. Han skal ha eksamen i offentlig rett om en uke, og har ifølge egne uttalelser overhodet ingen kontroll. Men en helt sann historie om lite kunnskap, en leende sensor og en søt jente har han.&para;<br>&lt;/p&gt;&para;<br>&lt;p&gt;&para;<br> – Det er den klassiske om studenten som kommer til eksamen uten å vite noe som helst. Problemet var at det satt ei veldig søt jente ved siden av ham, så han følte ikke han kunne gå med en gang. Da ville han vist alt for klart at han ikke kunne noe.&para;<br>&lt;/p&gt;&para;<br>&lt;p&gt;&para;<br> – Hva gjorde han?&para;<br>&lt;/p&gt;&para;<br>&lt;p&gt;&para;<br> – Han skrev hele historien til sensor. Om den søte jenta, at han ikke kunne noe. Alt.&para;<br>&lt;/p&gt;&para;<br>&lt;p class=\"question\"&gt;&para;<br> – Sto han?&para;<br>&lt;/p&gt;&para;<br>&lt;p&gt;&para;<br> – Nei, men sensor fikk seg en god latter, sier Johannessen.&para;<br>&lt;/p&gt;&para;<br>&lt;h3 class=\"mellomtittel\"&gt;&para;<br> Flere eksamenshistorier:&para;<br>&lt;/h3&gt;&para;<br>&lt;p&gt;&para;<br> – Peter Wessel Zapffe som skrev jus-besvarelsen på vers og fikk toppkarakter.&para;<br>&lt;/p&gt;&para;<br>&lt;p&gt;&para;<br> – Studenten som skulle prøve snus for første gang på eksamen for å få skriverus. Han brukte halve tiden på å springe på do for å kaste opp.&para;<br>&lt;/p&gt;&para;<br>&lt;p&gt;&para;<br> – Superglupingen som leste på ex.phil. en time og sto.&para;<br>&lt;/p&gt;&para;<br>&lt;p&gt;&para;<br> – Henrik Ibsen som skulle svare på hva latskap er, og skrev én setning: «Dette er latskap.»&para;<br>&lt;/p&gt;&para;<br>&lt;p&gt;&para;<br> – Den flittige studinen som hadde lest hele pensum, men som var syk under en forelesning. Det var stoffet fra denne forelesningen som ble eksamensoppgave.&para;<br>&lt;/p&gt;&para;<br>&lt;p&gt;&para;<br> – Trond Giske som aldri begynte å pugge tidligere enn en måned før eksamen – men som alltid fikk kjempegode karakterer.&para;<br>&lt;/p&gt;</span><del style=\"background:#ffe6e6;\"> extra  extra </del>"
      ],
      "text/plain": [
       "<IPython.core.display.HTML at 0x7f3cb9e0f630>"
      ]
     },
     "execution_count": 17,
     "metadata": {},
     "output_type": "execute_result"
    }
   ],
   "source": [
    "from IPython.display import HTML\n",
    "\n",
    "pretty = []\n",
    "for s in Story.objects.all()[:10]:\n",
    "    symbol = ' '\n",
    "    b1 = s.bodytext_markup  \n",
    "    h1 = s.bodytext_html\n",
    "    s.bodytext_html += ' extra '\n",
    "    #s.bodytext_markup += '\\n@sitat: Test\\n@sitatbyline: Håken Lid, slabbedask\\n'\n",
    "    #b1 = s.bodytext_markup.replace('@sitat: Test', '').replace('@sitatbyline:Håken Lid, slabbedask', '')\n",
    "    #s.bodytext_markup = b1\n",
    "    s.save(full_update=True)\n",
    "    b2 = s.bodytext_markup\n",
    "    h2 = s.bodytext_html\n",
    "\n",
    "    if (h1 != h2):\n",
    "        html = '<h3>html ({}) {} \\n</h3>'.format(s.id, s.title)\n",
    "        html += diff_it(h1, h2)\n",
    "        symbol += 'h'\n",
    "        pretty.append(html)\n",
    "\n",
    "    if (b1 != b2):\n",
    "        symbol += 'b'\n",
    "        html = '<h3>body ({}) {} \\n</h3>'.format(s.id, s.title)\n",
    "        html += diff_it(b1, b2)\n",
    "        pretty.append(html)\n",
    "\n",
    "    if (b1, h1) == (b2, h2):\n",
    "        symbol +='.'\n",
    "    \n",
    "    print(symbol, end='')\n",
    "    #print('{:50.50} html {:5}->{:5}  mark {:5}->{:5}'.format(s.title[:50], len(h1), len(h2), len(b1), len(b2)))\n",
    "if pretty:\n",
    "    pretty = [r'<h2>Changes</h2>'] + pretty\n",
    "else:\n",
    "    pretty.append('<h2>OK!</h2>')\n",
    "\n",
    "HTML('\\n<hr>\\n'.join(pretty))"
   ]
  },
  {
   "cell_type": "code",
   "execution_count": 15,
   "metadata": {
    "collapsed": false
   },
   "outputs": [
    {
     "name": "stdout",
     "output_type": "stream",
     "text": [
      "– Det virker som om Universitetet i Oslo ikke forstår verdien av internasjonalisering, sier internasjonalt ansvarlig i Studentparlamentet Håvard Øvregård.\n",
      "Tall fra i fjor viser at 14 850 studenter fikk støtte fra Lånekassen til utenlandsstudier. Samtidig var det kun 8608 utenlandske studenter som fikk støtte til å studere i Norge.\n",
      "Øvregård tror årsaken til at det kommer så få utenlandske studenter til Universitetet er manglende prioritering fra universitetsledelsen. Han mener en bedre inkludering av de utenlandske studentene og bedre økonomisk støtte må til for å trekke flere internasjonale studenter til Norge.\n",
      "@mt:Lavt prioritert\n",
      "Rektor Kaare Norum mener kritikken fra Øvregård er feilslått fordi han mener han som rektor har jobbet aktivt for internasjonalisering. Men Norum er enig i at mye mer kan gjøres.\n",
      "– Vi vil gjerne bedre tilbudet for studenter og yngre forskere fra utlandet. En av de tingene vi arbeider for er flere engelskspråklige forelesninger og kurs, sier Norum.\n",
      "@mt:Ikke verdsatt\n",
      "Omtrent tre prosent av samtlige studenter i norske utdanningsinstitusjoner har utenlandsk statsborgerskap. Dette er under gjennomsnittet for OECD-land, som er nærmere fem prosent.\n",
      "– Vi føler at Universitetet ikke anser oss som en ressurs, sier Ann-Kathrin Turn, leder i International student union.\n",
      "Turn mener det dårlige tilbudet på engelskspråklige forelesninger gjør Universitetet mindre attraktivt for utenlandske studenter.\n",
      "– Søknadsprossesen er for vanskelig, og det blir gjort for lite for å integrere utenlandske studenter med de norske, sier Turn.\n",
      "@mt:Studentenes ansvar\n",
      "Førstekonsulent ved Seksjon for internasjonale programmer Guri Vestad sier at et av målene til universitetet er å få flere internasjonale studenter.\n",
      "– Det universitetet kan gjøre er å ha flere engelskspråklige undervisningstilbud. Men det tror jeg ikke alle norske studenter er like begeistret over, sier Vestad.\n",
      "Når det gjelder integrering tror hun ikke universitetet kan gjøre så mye mer.\n",
      "– Jeg mener det kommer an på om de norske studentene klarer å inkludere de utenlandske studentene i sine egne arrangementer, sier Vestad.\n",
      "Rektor Kaare Norum er enig.\n",
      "– De gangene jeg har pratet med internasjonale studenter har de etterlyst sosiale og organisatoriske initiativer fra studenorganisasjonene, sier Norum.\n",
      "@mt:Norges ansvar\n",
      "Leder for Europakommisjonens delegasjon, Gerhard Sabathil, mener at det ville være naturlig for Norge å gjøre seg så attraktiv som mulig for utenlandske studenter, både av økonomiske og kulturelle årsaker.\n",
      "– Det gode akademiske tilbudet her burde absolutt komme andre nasjoner til gode, sier Sabathil.\n",
      "Selv om Universitetsledelsen understreker viktigheten av et høyt antall utenlandske studenter, var det ikke mulig å oppdrive tall på utenlandsstudenter som studerer ved Universitetet i Oslo.\n",
      "@quote:1\n",
      "@quote:1\n",
      "@quote:2 3 4 5\n"
     ]
    }
   ],
   "source": [
    "print(Story.objects.all()[1].bodytext_markup)"
   ]
  },
  {
   "cell_type": "code",
   "execution_count": 16,
   "metadata": {
    "collapsed": false
   },
   "outputs": [
    {
     "data": {
      "text/html": [
       "<p>\n",
       " – På Centrum Athletica står en utsvettet student og nøler i trappen mellom treningsstudio og garderobe.\n",
       "</p>\n",
       "<p>\n",
       " – Øh... begynner han.\n",
       "</p>\n",
       "<p>\n",
       " Jan Marius Kiøsterud introduserer seg, og forklarer at han observerte min kropp i uttøyningssituasjonen, hvilket avslørte interessante fasonger. Og at han har studert keramikk ved kunstfag på Kunsthøgskolen i Oslo (KHiO) siden høsten 2008. Så tar han sats, og letter hjertet:\n",
       "</p>\n",
       "<p>\n",
       " – Vil du stå modell for meg?\n",
       "</p>\n",
       "<p>\n",
       " Et finurlig sjekketriks. Eller finner han inspirasjon i meg? Å være en kunstners muse virker eksklusivt. Og litt skummelt. Særlig siden det snart blir klart at jeg må av med klærne. Men hva kan egentlig skje?\n",
       "</p>\n",
       "<p>\n",
       " – Ok. Hvis jeg kan skrive om det, sier jeg.\n",
       "</p>\n",
       "<p>\n",
       " Kiøsteruds atelier prydes av utstillingsdukken han fant i en container, stolen han reparerte med gaffateip, samt andre ting han har plukket opp fra gata. Vi småprater nervøst. Han har en kartong rødvin. Jeg finner fram blokken. Han setter på Jahn Teigens «Det vakreste som fins». Jeg ler. Han synger med så det runger i tak og vegger.\n",
       "</p>\n",
       "<p>\n",
       " Fem-seks glass senere faller klærne. Kiøsterud tegner. Riktig hyggelig er det – å vekselvis stå på gulvet, ligge på en madrass, og sitte på en krakk mens jeg sipper rødvin og betraktes av et interessert blikk. Vi avtaler å møtes en gang til.\n",
       "</p>\n",
       "<p class=\"tingo\">\n",
       " I en undervisningstime i croquis – kjapp skissering av den nakne menneskekroppen – er vanligvis begge kjønn representert, og en naken kropp i sentrum. Likevel utarter ikke timene til orgier. For bare modellen er avkledd, og hun veksler kun få ord med studentene som er opptatt med å stirre og skrible.\n",
       "</p>\n",
       "<p>\n",
       " Kirsten Kokkin er skulptør, og underviser i croquis ved KHiO. Hun bekrefter at modellens kropp kun brukes som et middel for å lære å tegne.\n",
       "</p>\n",
       "<p>\n",
       " – Det hefter ikke noe seksuelt ved timene, sier hun.\n",
       "</p>\n",
       "<p>\n",
       " Hva da når objektet småpratende og brisen intervjuer kunstneren i dennes private atelier? Kokkin tror ikke det forandrer saken nevneverdig, siden det er uvanlig blant kunstnere å vektlegge det erotiske ved en naken modell.\n",
       "</p>\n",
       "<p>\n",
       " – \tFå kunstnere fokuserer på det, sier hun.\n",
       "</p>\n",
       "<p>\n",
       " Kiøsterud bekrefter regelen. Han ønsker modellen i en mer privat setting fordi det er vanskelig å få ro i timene i croquis, hvor veldig mange studenter er samlet rundt samme objekt.\n",
       "</p>\n",
       "<p>\n",
       " – Slike timer er stressende, sier han.\n",
       "</p>\n",
       "<p class=\"tingo\">\n",
       " Billedkunstner og sadomasochist Hans Petter Stubergh er uenig. Han mener SM (Sadomasochisme) og kunst, er fenomen som kan belyse hverandre. I sine første studieår tegnet han stort sett nakne damer, og innrømmer mye ståpikk under tegningen.\n",
       "</p>\n",
       "<p>\n",
       " Også i timene i croquis.\n",
       "</p>\n",
       "<div class=\"inline_pullquote \">\n",
       " <bq class=\"pullquote\">\n",
       "  Pikken min gikk inn i kunsten, ikke i modellene.\n",
       " </bq>\n",
       " <p>\n",
       "  Hans Petter Stubergh, billedkunstner og sadomasochist.\n",
       " </p>\n",
       "</div>\n",
       "<p>\n",
       " – Men pikken min gikk inn i kunsten, ikke i modellene, sier han.\n",
       "</p>\n",
       "<p>\n",
       " Han forklarer at blyantlinjene som former den nakne modellen kan minne om striper etter piskeslag og tau. Men det er særlig i leirens konsistens og skulpturens tredimensjonale form han ser paralleller.\n",
       "</p>\n",
       "<p>\n",
       " – Når jeg binder en kvinne, er jeg en erotisk sadoskulptør, og hun en erotisk masoskulptur, sier han.\n",
       "</p>\n",
       "<p>\n",
       " Stuberg vil gjerne tilføre artikkelen min noe, og foreslår at jeg kommer innom hans atelier.\n",
       "</p>\n",
       "<p>\n",
       " – Du kan gjerne intervjue meg mens jeg tegner deg naken.\n",
       "</p>\n",
       "<p>\n",
       " Få timer senere møter jeg en bebrillet og smilende Stubergh som viser meg inn i sitt atelier med to tatoverte armer. Veggene skriker i fargerike malerier. De fleste av dyr. Et halvferdig bilde av en blå undulat tørker på et staffeli. En stor kjetting henger fra taket.\n",
       "</p>\n",
       "<p>\n",
       " – Denne har jeg bundet flere flotte kvinner i, sier han.\n",
       "</p>\n",
       "<p>\n",
       " Naken mellom undulat og Dominerende Sadist står jeg der, klar med blokk og fotoapparat. Helst vil han tegne meg bakfra eller bundet. Vi blir imidlertid enige om en hakket mindre støtende posisjon. Forfra skrævende på en stol. Stillingen krever sitt av konsentrasjon, og Stubergs ansikt er skjerpet. Han lar blyanten svinse over papiret.\n",
       "</p>\n",
       "<p>\n",
       " – Nå tenner jeg, sier han.\n",
       "</p>\n",
       "<p>\n",
       " Og papiret gjennomgår Stuberghs begjær.\n",
       "</p>\n",
       "<p class=\"tingo\">\n",
       " – Tanken har ikke slått meg, sier Kiøsterud.\n",
       "</p>\n",
       "<p>\n",
       " Han finner fint lite sadomasochistisk i stemningen når vi atter møtes i hans atelier. Likegyldig til det kjønnslige ved min kropp, er han imidlertid ikke.\n",
       "</p>\n",
       "<p>\n",
       " – Siden vi har en relasjon, og du er en naken kvinne som vandrer rundt i mitt atelier – er det klart noe erotisk spiller inn, sier han.\n",
       "</p>\n",
       "<p>\n",
       " Han ønsker å tegne akkurat meg – fordi han finner kroppen min fascinerende, og ikke forstår den fullt ut. Min smale midje som glir inn i mine brede hofter, er formene han jobber kunstnerisk med.\n",
       "</p>\n",
       "<p>\n",
       " Men først og fremst er han generelt glad i kropp:\n",
       "</p>\n",
       "<p>\n",
       " – Jeg elsker menneskekroppen, sier han.\n",
       "</p>\n",
       "<p>\n",
       " Kiøsterud gnir seg i hendene. Hansker træs på. Hønsenetting klippes med tang. Gipsen får en runde i en krukke vann så den blir bløt – og kan bres over nettingen. Den hvite klumpen tar form. Den ligner meg. Fra navlen og ned. Selv om tonen mellom oss er god, er jeg mest interessert i artikkelen. Og han i skulpturen. Vi jobber.\n",
       "</p>\n",
       "<p>\n",
       " Da jeg ville ha oss inn i avisa ble han først betenkt. Fordi han ikke fikk full kontroll. Nå mener han det er fint å dele på regíen.\n",
       "</p>\n",
       "<p>\n",
       " – At du skriver om det, og dermed tilfører aspekter jeg ikke kan styre, gir prosjektet en ny dimensjon.\n",
       "</p>\n",
       "<div class=\"inline_pullquote \">\n",
       " <bq class=\"pullquote\">\n",
       "  Pikken min gikk inn i kunsten, ikke i modellene.\n",
       " </bq>\n",
       " <p>\n",
       "  Hans Petter Stubergh, billedkunstner og sadomasochist.\n",
       " </p>\n",
       "</div>\n",
       "<div class=\"inline_pullquote \">\n",
       " <bq class=\"pullquote\">\n",
       "  Pikken min gikk inn i kunsten, ikke i modellene.\n",
       " </bq>\n",
       " <p>\n",
       "  Hans Petter Stubergh, billedkunstner og sadomasochist.\n",
       " </p>\n",
       "</div>\n",
       "<div class=\"inline_pullquote \">\n",
       " <bq class=\"pullquote\">\n",
       "  Test\n",
       " </bq>\n",
       " <p class=\"by\">\n",
       "  Håken Lid, slabbedask\n",
       " </p>\n",
       "</div>\n",
       "<div class=\"inline_pullquote \">\n",
       " <bq class=\"pullquote\">\n",
       "  Test\n",
       " </bq>\n",
       " <p class=\"by\">\n",
       "  Håken Lid, slabbedask\n",
       " </p>\n",
       "</div>\n",
       "<div class=\"inline_pullquote \">\n",
       " <bq class=\"pullquote\">\n",
       "  Test\n",
       " </bq>\n",
       " <p class=\"by\">\n",
       "  Håken Lid, slabbedask\n",
       " </p>\n",
       "</div>\n",
       "<div class=\"inline_pullquote \">\n",
       " <bq class=\"pullquote\">\n",
       "  Test\n",
       " </bq>\n",
       " <p class=\"by\">\n",
       "  Håken Lid, slabbedask\n",
       " </p>\n",
       "</div>\n"
      ],
      "text/plain": [
       "<IPython.core.display.HTML at 0x7f8287ed3ba8>"
      ]
     },
     "execution_count": 16,
     "metadata": {},
     "output_type": "execute_result"
    }
   ],
   "source": [
    "HTML(Story.objects.all()[1].get_html())"
   ]
  }
 ],
 "metadata": {
  "kernelspec": {
   "display_name": "Python 3",
   "language": "python",
   "name": "python3"
  },
  "language_info": {
   "codemirror_mode": {
    "name": "ipython",
    "version": 3
   },
   "file_extension": ".py",
   "mimetype": "text/x-python",
   "name": "python",
   "nbconvert_exporter": "python",
   "pygments_lexer": "ipython3",
   "version": "3.4.2"
  }
 },
 "nbformat": 4,
 "nbformat_minor": 0
}
