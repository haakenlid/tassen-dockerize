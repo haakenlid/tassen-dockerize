{
 "cells": [
  {
   "cell_type": "code",
   "execution_count": 44,
   "metadata": {
    "collapsed": false
   },
   "outputs": [],
   "source": [
    "from IPython import display"
   ]
  },
  {
   "cell_type": "code",
   "execution_count": 45,
   "metadata": {
    "collapsed": true
   },
   "outputs": [],
   "source": []
  },
  {
   "cell_type": "code",
   "execution_count": 46,
   "metadata": {
    "collapsed": false
   },
   "outputs": [
    {
     "name": "stdout",
     "output_type": "stream",
     "text": [
      "2005-11-01: Sex med Gunhild\n",
      "2001-11-27: Campus uten spirit\n",
      "2009-01-27: Uavhengig konformitet\n",
      "2014-09-09: Tilsløring av debatten\n",
      "2000-12-26: AS-utbytte til forelesninger\n",
      "2005-05-03: SiO Housing not up to Code\n",
      "2006-04-03: Ære være\n",
      "2010-10-12: Studentparlamentets rolleforvirring\n",
      "2009-04-09: Avkledd for kunsten\n",
      "2007-09-04: Radio Nova risikerer pengenekt\n",
      "2008-08-12: «Everybody» gets an A, B or C\n",
      "2000-12-26: Verdiløse universiteter\n",
      "2002-05-07: Hvor mektig er DU?\n",
      "2006-01-24: Dått enno\n",
      "2015-01-20: Hovmod står for fall\n",
      "2005-09-06: Gode gatedikt\n",
      "2005-08-23: Inaugurated, But Not Accepted by the Bishop\n",
      "2003-01-28: Celebrating Resistance\n",
      "2013-05-28: I strupen på SiO-monopolet\n",
      "2010-10-05: – Udemokratiske dekanvalg\n",
      "2008-11-25: Hjelp til selvhjelp\n",
      "2005-04-12: – Del opp stipendene\n",
      "2008-08-26: «Host opp no’ gryn!»\n",
      "2014-04-08: Hippiedrøm om kjærlighet\n",
      "2014-08-19: Ansatte tier om misnøye\n",
      "2003-11-18: Knallsterk finale\n",
      "2003-12-02: Hvorfor trenger vi utenlandske studenter?\n",
      "2004-11-16: Håp for reisestipendet\n",
      "2005-05-10: Demoboks andre runde\n",
      "2007-09-04: Svar til Johan Brox\n",
      "2011-04-12: Digital hodepine\n",
      "2008-02-19: Ungdomsminne\n",
      "2009-11-24: Et brennbart molekyl\n",
      "2007-09-25: Tappert forsøk\n",
      "2005-04-19: Åpenhet foran fagkritikk\n",
      "2009-05-26: Øyeblikket\n",
      "2005-09-13: Raser mot priser\n",
      "2011-05-10: En av fem føler drikkepress\n",
      "2007-03-20: Drapstruslene fortsetter\n",
      "2008-11-03: Kritiserer fagmiljøet på statsvitenskap ved UiO\n",
      "2014-11-25: Alle leker ikke med alle\n",
      "2006-01-09: UNIVERSITAS søker nye fotografer\n",
      "2007-10-30: Feil fra Velferdstinget\n",
      "2014-05-25: Psyke spørsmål og svar\n",
      "2002-05-14: (for)tapte hansker\n",
      "2003-01-21: Rett mann på rett plass?\n",
      "2002-09-03: Lov og rett i Rwanda\n",
      "2005-12-06: Uheldig, den der\n",
      "2003-08-19: Pung, men ingen baller\n",
      "2004-02-10: Tannlegeutstyr forsvunnet fra Odontologi\n",
      "2012-10-16: Cocky saxofoni\n",
      "2004-01-13: Jørgen Sissyfus Skjulstad\n",
      "2007-11-27: Ingen løsning for JUS\n",
      "2005-08-16: Støtter rødgrønn regjering\n",
      "2009-03-31: Øyeblikket\n",
      "2001-05-01: Prinsessen som ingen kunne målbinde\n",
      "2015-03-26: Påskejakten\n",
      "2002-05-14: Subway to Close for Summer\n",
      "2013-04-16: Husrom er hjerterom\n",
      "2003-03-25: En av ti betaler ikke husleie\n",
      "2005-11-15: 1-2-3 Plate!\n",
      "2003-12-02: Er det noen snille studenter her?\n",
      "2009-01-20: Slåss for filmen\n",
      "2009-01-27: Spiste rester fra Lillehammer-OL\n",
      "2009-03-24: Bajass knytter bånd\n",
      "2010-01-12: Språkbarrieren\n",
      "2007-11-20: Hva skjer denne uken?\n",
      "2008-09-30: MERE musikk\n",
      "2006-03-28: Kan få penger for Holmgang\n",
      "2011-02-22: Flere velger Norge\n",
      "2007-02-13: I heisen\n",
      "2001-09-18: Ex.phil. i støpeskjeen\n",
      "2002-10-08: International atudents elected new executive\n",
      "2002-09-09: Forbrukerrådet og stortingspolitikere reagerer\n",
      "2007-09-11: – En trussel mot fri forskning\n",
      "2013-01-22: Studentidrettens Zorro\n",
      "2006-10-03: Himmel på jord\n",
      "2011-03-29: Duskedamedrømmen\n",
      "2013-05-14: Tilbake på ungdomsklubben\n",
      "2004-11-30: Fredag 22.10.\n",
      "2001-11-13: Tilslørte SiO-penger\n",
      "2014-01-28: Sausete sjangerkaos\n",
      "2006-03-13: Nova anbefaler\n",
      "2006-05-22: Akademikerledigheten\n",
      "2004-11-09: Konserten sin skål\n",
      "2004-03-02: Mitt forbilde\n",
      "2013-05-01: Fullt kaos på bibelskole\n",
      "2000-12-26: Uer\n",
      "2009-05-26: Fire tapte år for høyere utdanning\n",
      "2012-05-01: Dette betaler du 280 kroner mer i året for\n",
      "2001-08-15: Kom alle mennesker\n",
      "2012-05-29: Strøk med stil\n",
      "2008-04-29: Øyeblikket\n",
      "2004-08-25: – Bør gå av\n",
      "2007-09-18: Andre studenter i bystyret\n",
      "2009-12-01: Ingen jubileumsbane\n",
      "2007-02-13: Benekter fedmehumbug\n",
      "2008-11-25: Fanger hindres i å studere\n",
      "2008-05-06: No går det så det suse\n",
      "2005-04-26: Hjem og brygg!\n"
     ]
    }
   ],
   "source": [
    "for story in some_stories:\n",
    "    print(story)"
   ]
  },
  {
   "cell_type": "code",
   "execution_count": 50,
   "metadata": {
    "collapsed": false
   },
   "outputs": [
    {
     "data": {
      "text/html": [
       "<div class=\"row\">\n",
       "\n",
       "  \n",
       "    \n",
       "    <div class=\"inline-image inline-right\">\n",
       "  \n",
       "\n",
       "\n",
       "\n",
       "  \n",
       "  <div class=\"image-container\">\n",
       "    \n",
       "      <img id=\"img_149074\" src=\"http://static.universitas.no/media/thumb-cache/2b/5f/2b5f6dcba08898db3aaa0b8145e2f354/13-ol-nm-detalj3-ABE.jpg\" alt=\"\"></img>\n",
       "    \n",
       "    \n",
       "\n",
       "  </div>\n",
       "  \n",
       "\n",
       "\n",
       "</div>\n",
       "  \n",
       "\n",
       "  \n",
       "    \n",
       "    \n",
       "    <div class=\"inline-image inline-right\">\n",
       "  \n",
       "\n",
       "\n",
       "\n",
       "  \n",
       "  <div class=\"image-container\">\n",
       "    \n",
       "      <img id=\"img_149072\" src=\"http://static.universitas.no/media/thumb-cache/c2/6f/c26fd1c8da51d154dcb3736041dcf224/13-ol-nm-detalj-ABE.jpg\" alt=\"WUNDERSCHÖN: NM i hjemmebrygging betyr øl. Masse øl, og flere sorter enn Vinmonopolet gidder å importere.\"></img>\n",
       "    \n",
       "    \n",
       "\n",
       "  <div class=\"image-caption\">\n",
       "    <span class=\"inngangsord\">WUNDERSCHÖN:</span> NM i hjemmebrygging betyr øl. Masse øl, og flere sorter enn Vinmonopolet gidder å importere.\n",
       "  </div>\n",
       "\n",
       "  </div>\n",
       "  \n",
       "\n",
       "\n",
       "</div>\n",
       "  \n",
       "\n",
       "  \n",
       "  <div class=\"bodytext\">\n",
       "    <p>Studenter, særlig mannlige, liker å proklamere at de elsker øl og at de drikker avsindig mye av det. Mulig det, men liker egentlig den jevne øl-student belgisk wit-bier, porter eller swartzbier?</p>\n",
       "<p>– Det er lite pils her. Veldig vanskelig å brygge hjemme ser du. Pilsen krever en jevn temperatur på ti grader, forklarer ølhund Eduard Möllenkamp, som ikke er noen jevn student.</p>\n",
       "<p>Han vet mer om øl enn Åpen Posts maskot Larsen, og har tatt med seg flamsk ølkompetanse til nord.</p>\n",
       "<p>NM i hjemmebrygging på Chateau Neuf og Eduard er kveldens ivrigste hund. Han er medlem av Oslostudentenes Hjemmebryggerlaug (OHL) – som arrangerer kveldens happening. OHL er kun en av mange bryggeforeninger som har jekket seg opp med tappetårn og tønner i biblioteket på Chateau Neuf, og de yngste. Menn (pluss ett par damer) i alle aldre sniffer, slurper, svelger, nyter og noterer – alle har nemlig fått utdelt et ølskjema til å notere på, for senere å stemme fram kveldens gjeveste brygg. Nå er det min tur å smake. Først øl «Å«:</p>\n",
       "<p>– Dette er et mørkt øl, stout, sier mannen med tønna imens han tapper meg en fin dose.</p>\n",
       "  </div>\n",
       "  \n",
       "\n",
       "  \n",
       "    \n",
       "    \n",
       "    <div class=\"inline-image inline-right\">\n",
       "  \n",
       "\n",
       "\n",
       "\n",
       "  \n",
       "  <div class=\"image-container\">\n",
       "    \n",
       "      <img id=\"img_149073\" src=\"http://static.universitas.no/media/thumb-cache/db/75/db755eb67e837272d967202d069283bd/13-ol-nm-forening-3-ABE.jpg\" alt=\"TUNG METALL: Ryktet i hjemmebryggermiljøet sier at OHL har finfint bryggingsutstyr. OHL–formann Lars Bjørnstad skåler med noe av ølutstyret, men innrømmer at det har kostet.\"></img>\n",
       "    \n",
       "    \n",
       "\n",
       "  <div class=\"image-caption\">\n",
       "    <span class=\"inngangsord\">TUNG METALL:</span> Ryktet i hjemmebryggermiljøet sier at OHL har finfint bryggingsutstyr. OHL–formann Lars Bjørnstad skåler med noe av ølutstyret, men innrømmer at det har kostet.\n",
       "  </div>\n",
       "\n",
       "  </div>\n",
       "  \n",
       "\n",
       "\n",
       "</div>\n",
       "  \n",
       "\n",
       "  \n",
       "  <div class=\"bodytext\">\n",
       "    <p>«Aiai, akkurat som vinen jeg ble dritings på som fjortis«, noterer jeg på arket, men svelger unna likevel. Ikke helt knall nei, men som OHL-sjef og grunnlegger Lars Bjørnstad sier, er dette et arrangement for kjennere, så kanskje det er jeg som ikke har gjæret lenge nok.</p>\n",
       "\n",
       "<h3 class=\"mellomtittel\">To kroner halvliteren</h3>\n",
       "<p>Lars og noen kompiser startet OHL i 1998 og består i dag av 15-16 aktive medlemmer, samt noen «hang-arounds» som bare drikker uten å brygge selv.</p>\n",
       "<p>– Det begynte med at vi skulle lage vin, men fant ut at vin tar tid, så vi byttet til øl. Øl tar bare en måned eller to å brygge, sier han.</p>\n",
       "<p>Landets svimlende ølpriser motiverte også hjemmebryggingen.</p>\n",
       "<p>– I begynnelsen ville vi ha billig øl, men nå ser vi ikke så mye på pris lenger, kun kvalitet, sier Lars alvorlig, men opplyser at prisen kan presses ned i to kroner halvliteren.</p>\n",
       "<p>Jeg går videre på smaksrunden min. Øl «Æ«: «Smør«, noterer jeg.</p>\n",
       "\n",
       "<h3 class=\"mellomtittel\">Øl-lobby</h3>\n",
       "<p>Lars har tipset meg om en øl-jente i dette maskuline miljøet. Kathrine Haavardsholm er av fem jenter i OHL, og ferdig utdannet ernæringsfysiolog. På spørsmålet om hvorfor det er så få jenter her i kveld sier hun oppgitt:</p>\n",
       "<p>– Jenter tror at øl ikke er interessant.</p>\n",
       "<p>Ivrige etter PR følger Kathrine, Lars og Kathrines mann Espen Haavardsholm meg opp til bryggeriet i 4. etasje på Chateau Neuf. Utenom øltanker og ølslanger, er det stablet kasse på kasse med flaskeøl, og veggene prydes av diplomer fra ølmesterskap. Det ingen tvil om hva det dreier seg om på kontoret til OHL.</p>\n",
       "<p>– Vi er Norges mestvinnende ølforening. Jeg har mistet tellingen på hvor mange ganger vi har vunnet NM, sier Lars.</p>\n",
       "<p>OHL kan videre skyte av å ha bidratt til at den forhatte Øl-loven forsvant. Den gang foreningen ble stiftet, var det ulovlig å brygge øl her til lands. For å komme denne irriterende regelen til livs sendte OHL e-post til Lars Sponheim.</p>\n",
       "<p>– Vi sendte e-posten rett før valget i ’98, og kort tid etter Sponheim ble minister var regelen forsvunnet. Så nå er det i alle fall intet problem å brygge rett ovenfor Politihøgskolen, sier de triumferende.</p>\n",
       "\n",
       "<h3 class=\"mellomtittel\">Kveldens</h3>\n",
       "<p>Tilbake i biblioteket. Nå styrer jeg rett mot øl «C«, som Lars anbefalte meg. «Herlig! Lars kan sine saker. Liten flik av kaffesmak.» Jeg tar med meg ølen inn i kinosalen, hvor en representant fra en amerikansk gjærleverandør forklarer hvordan det perfekte brygg skal framstilles. Kjedelig, jeg vil heller drikke mer øl.</p>\n",
       "<p>Etter jeg har arbeidet meg gjennom øl «E«, «O» og «Q» er sannhetens time kommet: Det beste brygget skal kåres! Og det går veien for de unge talentene. Eduard Möllenkamp og kjæresten Birgitta Ø. Skavoll vinner juryprisen i klassen «mørk ale» med sitt Osloer Alt, og Lars og Espen fra OHL tar publikumsprisen med sitt Portly Brown Porter – øl «Æ«. Lars er glad:</p>\n",
       "<p>– Veldig hyggelig! Kjekt at publikum satte pris på ølet vårt. Med det nye tappetårnet kan vi få en respektabel bar, sier han. Tappetårnet var kveldens premie.</p>\n",
       "<p>Eduard Möllenkamp, på sin side, lover at han stiller med skikkelig belgisk øl til neste år. «Herlig«, tenker jeg, og sjangler hjem.</p>\n",
       "\n",
       "<h3 class=\"mellomtittel\">Portly Brown Porter</h3>\n",
       "<p>–</p>\n",
       "<p>Av Lars Bjørnstad & Espen A. Haavardsholm</p>\n",
       "<p>Malt:</p>\n",
       "<p>15.00 kg. Pale Ale malt</p>\n",
       "<p>6.00 kg. Munchenermalt, ekstra lys</p>\n",
       "<p>300.00 g. Chocolate malt</p>\n",
       "<p>200.00 g. Black Patent</p>\n",
       "<p>0.50 kg. Crystal 60L</p>\n",
       "<p>0.50 kg. Caramunich</p>\n",
       "<p>0.50 kg. Aromatic</p>\n",
       "<p>Humle:</p>\n",
       "<p>170.00 g. Challenger 7.5% 60 min</p>\n",
       "<p>140.00 g. Fuggles 5.5% 10 min</p>\n",
       "<p>140.00 g. EK-Goldings 2.9% 0 min</p>\n",
       "<p>Gjær: Blanding av Safale og Coopers tørr alegjær, 40 g.</p>\n",
       "<p>Volum: 85 liter</p>\n",
       "<p>OG (Original Gravity): 1.062</p>\n",
       "<p>Alkohol: ca 6.0%</p>\n",
       "<p>IBU (International Bitterness Unit): 39</p>\n",
       "  </div>\n",
       "  \n",
       "\n",
       "</div>"
      ],
      "text/plain": [
       "<IPython.core.display.HTML object>"
      ]
     },
     "execution_count": 50,
     "metadata": {},
     "output_type": "execute_result"
    }
   ],
   "source": [
    "display.HTML(story.make_html())"
   ]
  },
  {
   "cell_type": "code",
   "execution_count": 51,
   "metadata": {
    "collapsed": false
   },
   "outputs": [],
   "source": [
    "text = story.get_plaintext()"
   ]
  },
  {
   "cell_type": "code",
   "execution_count": 27,
   "metadata": {
    "collapsed": false
   },
   "outputs": [
    {
     "name": "stdout",
     "output_type": "stream",
     "text": [
      "{'nb': 16, 'nn': 9, 'en': 13}\n",
      "nb \n",
      " DonMartin\n",
      "\n",
      "    @spm:The al dente ep\n",
      "    C2M\n",
      "    Mens en mer kjent kokk lagde vin av vann, lager DonM \n",
      "\n",
      "{'nb': 1, 'nn': 1, 'en': 0}\n",
      "nb \n",
      " Ensomme og forlatte ting venter på å bli gjenoppdaget. \n",
      "\n",
      "{'nb': 5, 'nn': 5, 'en': 0}\n",
      "nb \n",
      " Hip-hop vender tilbake til Afrika. Assyria oppstår på Internett. På Gotland spiller man didgeri... d \n",
      "\n",
      "{'nb': 33, 'nn': 24, 'en': 20}\n",
      "nb \n",
      " Bill Hicks\n",
      "\n",
      "@spm:Philosophy: The best of Bill Hicks (Stand up)\n",
      "Rykodisk/Music Network\n",
      "Jeg skal gi de \n",
      "\n",
      "{'nb': 2, 'nn': 2, 'en': 0}\n",
      "nb \n",
      " STOCKHOLM: For få studerer svensk på høyt nivå, og det svenske språkets stilling er truet. Det er al \n",
      "\n"
     ]
    }
   ],
   "source": [
    "import re\n",
    "\n",
    "\n",
    "LANGUAGE_CORPUS = {\n",
    "    'nb': ['du', 'og', 'med', 'om', 'en', 'et', 'han', 'hun', 'ikke', 'fra', 'bare', 'noe', ],\n",
    "    'nn': ['du', 'og', 'med', 'om', 'ein', 'eit', 'han', 'ho', 'ikkje', 'frå', 'berre', 'noko', ],\n",
    "    'en': ['you', 'and', 'with', 'a', 'an', 'he', 'she', 'not', 'from', 'only', 'something', ],\n",
    "}\n",
    "\n",
    "\n",
    "\n",
    "def assign_language_to(story):\n",
    "    \"\"\"Guess and assign language to input story\"\"\"\n",
    "    text = story.bodytext_markup\n",
    "    language = guess_language(text)\n",
    "    if language != story.language and not dry_run:\n",
    "        story.language = language\n",
    "        story.save()\n",
    "    msg = '{pk} {title} ({language})'.format(\n",
    "        title=story.title,\n",
    "        pk=story.pk,\n",
    "        language=story.language,\n",
    "    )\n",
    "    self.stdout.write(msg)\n",
    "\n",
    "def guess_language(text):\n",
    "    \"\"\"Guess language of input text by using a list of common words in candidate languages.\"\"\"\n",
    "    score = {key: 0 for key in LANGUAGE_CORPUS.keys()}\n",
    "    words = re.findall(r'[a-zøæå]+', text.lower())\n",
    "\n",
    "    for word in words:\n",
    "        for language, words in LANGUAGE_CORPUS.items():\n",
    "            if word in words:\n",
    "                score[language] += 1\n",
    "    return max(score, key=score.get)\n",
    "\n",
    "for tekst in tekster:\n",
    "    tekst = tekst.strip()\n",
    "    print(\n",
    "        guess_language(tekst),\n",
    "        '\\n',\n",
    "        tekst[:100],\n",
    "        '\\n',\n",
    "      )"
   ]
  },
  {
   "cell_type": "code",
   "execution_count": 21,
   "metadata": {
    "collapsed": false
   },
   "outputs": [
    {
     "name": "stdout",
     "output_type": "stream",
     "text": [
      "['bill', 'hicks', 'spm', 'philosophy', 'the', 'best', 'of', 'bill', 'hicks', 'stand', 'up', 'rykodisk', 'music', 'network', 'jeg', 'skal', 'gi', 'deg', 'to', 'alternativer', 'den', 'røde', 'eller', 'den', 'blå', 'pillen', 'svelger', 'du', 'den', 'blå', 'vil', 'du', 'våkne', 'opp', 'på', 'neste', 'side', 'av', 'universitas', 'gomlende', 'på', 'en', 'brødskive', 'vil', 'du', 'humre', 'til', 'seinfeld', 'og', 'sette', 'noen', 'smuler', 'i', 'halsen', 'når', 'david', 'letterman', 'halvhjertet', 'vitser', 'med', 'at', 'han', 'ikke', 'er', 'morsom', 'lenger', 'du', 'sovner', 'og', 'våkner', 'til', 'en', 'ny', 'dag', 'tar', 'du', 'den', 'røde', 'pillen', 'er', 'det', 'ingen', 'vei', 'tilbake', 'sammenhenger', 'rundt', 'deg', 'blir', 'tydelige', 'og', 'selvfølgelige', 'din', 'naive', 'tiltro', 'muteres', 'til', 'kritisk', 'mistro', 'du', 'ser', 'på', 'verden', 'og', 'får', 'lyst', 'til', 'å', 'gråte', 'men', 'istedet', 'ler', 'du', 'en', 'dyp', 'og', 'mørk', 'latter', 'velkommen', 'til', 'the', 'matr', 'hicks', 'du', 'trodde', 'thomas', 'giertsen', 'var', 'morsom', 'how', 'much', 'do', 'you', 'smoke', 'a', 'pack', 'an', 'a', 'half', 'you', 'little', 'puss', 'why', 'don', 't', 'you', 'put', 'on', 'a', 'dress', 'and', 'swish', 'around', 'for', 'us', 'i', 'go', 'through', 'two', 'lighters', 'a', 'day', 'du', 'trodde', 'aslak', 'sira', 'myhre', 'var', 'usa', 'kritisk', 'don', 't', 'tell', 'me', 'the', 'military', 'is', 'here', 'to', 'protect', 'us', 'there', 's', 'no', 'country', 'out', 'there', 'that', 's', 'a', 'fucking', 'threat', 'to', 'us', 'apapapap', 'ok', 'i', 'm', 'talking', 'only', 'about', 'the', 'countries', 'we', 'don', 't', 'arm', 'first', 'and', 'then', 'go', 'blow', 'fuck', 'out', 'of', 'du', 'trodde', 'per', 'inge', 'torkelsen', 'var', 'ærlig', 'childbirth', 'is', 'no', 'more', 'a', 'miracle', 'than', 'eating', 'food', 'and', 'a', 'turd', 'coming', 'out', 'of', 'your', 'ass', 'do', 'you', 'know', 'what', 'a', 'miracle', 'is', 'a', 'miracle', 'is', 'raising', 'a', 'kid', 'who', 'doesn', 't', 'talk', 'in', 'a', 'fucking', 'movie', 'theatre', 'there', 's', 'your', 'god', 'damn', 'miracle', 'nå', 'vet', 'du', 'bedre', 'nå', 'skjønner', 'du', 'hva', 'stand', 'up', 'er', 'den', 'avdøde', 'amerikanske', 'stand', 'up', 'komikeren', 'bill', 'hicks', 'gis', 'nå', 'ut', 'på', 'samle', 'cd', 'philosophy', 'er', 'et', 'tverrsnitt', 'av', 'et', 'uovertruffent', 'stand', 'up', 'materiale', 'som', 'ung', 'komiker', 'ble', 'hicks', 'hjulpet', 'frem', 'av', 'den', 'da', 'ukjente', 'jay', 'leno', 'men', 'var', 'altfor', 'kontroversiell', 'til', 'å', 'nå', 'de', 'samme', 'høydene', 'som', 'talkshow', 'kongen', 'som', 'en', 'larmende', 'løgndetektor', 'fra', 'helvete', 'satte', 'han', 'sine', 'horn', 'i', 'siden', 'på', 'amerikanske', 'maktmennesker', 'lite', 'i', 'verden', 'har', 'forandret', 'seg', 'til', 'det', 'bedre', 'siden', 'bill', 'hicks', 'døde', 'av', 'kreft', 'i', 'bare', 'år', 'gammel', 'republikanerne', 'er', 'tilbake', 'ved', 'makten', 'sylvester', 'stallone', 'skriver', 'afghanistan', 'manus', 'til', 'rambo', 'iv', 'og', 'usa', 'kritiske', 'sanger', 'av', 'rage', 'against', 'the', 'machine', 'sensureres', 'av', 'amerikanske', 'radiokanaler', 'vi', 'hadde', 'trengt', 'deg', 'nå', 'bill', 'med', 'ny', 'utgivelse', 'står', 'du', 'heldigvis', 'og', 'flirer', 'i', 'platebutikkene', 'igjen']\n",
      "{'nb': 33, 'nn': 24, 'en': 20}\n"
     ]
    },
    {
     "data": {
      "text/plain": [
       "'nb'"
      ]
     },
     "execution_count": 21,
     "metadata": {},
     "output_type": "execute_result"
    }
   ],
   "source": [
    "anm = \"\"\"\n",
    "Bill Hicks\n",
    "\n",
    "@spm:Philosophy: The best of Bill Hicks (Stand up)\n",
    "Rykodisk/Music Network\n",
    "Jeg skal gi deg to alternativer. Den røde eller den blå pillen. Svelger du den blå vil du våkne opp på neste side av Universitas. Gomlende på en brødskive vil du humre til\n",
    "Seinfeld og sette noen smuler i halsen når David Letterman halvhjertet vitser med at han ikke er morsom lenger. Du sovner og våkner til en ny dag.\n",
    "Tar du den røde pillen er det ingen vei tilbake. Sammenhenger rundt deg blir tydelige og selvfølgelige. Din naive tiltro muteres til kritisk mistro. Du ser på verden og får lyst til å gråte. Men istedet ler du en dyp og mørk latter. Velkommen til The Matr-Hicks.\n",
    "Du trodde Thomas Giertsen var morsom.\n",
    "«How much do you smoke? A pack an a half? You little puss. Why don\\'t you put on a dress and swish around for us?... I go through two lighters a day.»\n",
    "Du trodde Aslak Sira Myhre var USA-kritisk.\n",
    "«Don\\'t tell me the military is here to protect us. There\\'s no country out there that\\'s a fucking threat to us. Apapapap! Ok, I\\'m talking only about the countries we don\\'t arm first and then go blow fuck out of.»\n",
    "Du trodde Per Inge Torkelsen var ærlig.\n",
    "«Childbirth is no more a miracle than eating food and a turd coming out of your ass. Do you know what a miracle is? A miracle is raising a kid who doesn\\'t talk in a fucking movie theatre. There\\'s your god damn miracle.»\n",
    "Nå vet du bedre. Nå skjønner du hva stand up er.\n",
    "Den avdøde amerikanske stand up-komikeren Bill Hicks gis nå ut på samle-cd. _Philosophy_ er et tverrsnitt av et uovertruffent Stand up-materiale. Som ung komiker ble Hicks hjulpet frem av den da ukjente Jay Leno, men var altfor kontroversiell til å nå de samme høydene som talkshow-kongen. Som en larmende løgndetektor fra helvete satte han sine horn i siden på amerikanske maktmennesker.\n",
    "Lite i verden har forandret seg til det bedre siden Bill Hicks døde av kreft i 1994 bare 32 år gammel. Republikanerne er tilbake ved makten, Sylvester Stallone skriver Afghanistan-manus til Rambo IV og USA-kritiske sanger av Rage against the machine sensureres av amerikanske radiokanaler.\n",
    "Vi hadde trengt deg nå, Bill. Med ny utgivelse står du heldigvis og flirer i platebutikkene igjen.\n",
    "\"\"\"\n",
    "guess_language(anm)"
   ]
  },
  {
   "cell_type": "code",
   "execution_count": 23,
   "metadata": {
    "collapsed": false
   },
   "outputs": [],
   "source": [
    "tekster = [\n",
    "    \"\"\"\n",
    "    DonMartin\n",
    "\n",
    "    @spm:The al dente ep\n",
    "    C2M\n",
    "    Mens en mer kjent kokk lagde vin av vann, lager DonMartin mat av musikk. Lydkokken, som tidligere rørte sammen ingrediensene for Gatas Parlament, har satt sammen kanskje årets beste hip hop-plate. Sammen med blant andre Jester, Viballistic og Definite erklærer DonMartin krig mot grå vegger, globalisering og kapitalister. På engelsk, med en kledelig norsk aksent: «I come bring the storm and the thunder but I ain\\'t Vidar Theisen.»\n",
    "    DonMartin tar også på seg oppgaven som folkeopplyser i beste Ingrid Espelid-ånd. I sangen «Thought for food» harselerer DonMartin over dritten de fleste plasserer i munnen, mens Viballistic viser hvordan tungen skal brukes: «let`s set it off with the guacamole / served correct in Guatemala only / simple mixup of the wickedest shit, take a lick of this shit / avocado, the main bit of this shit / toss in garlic, tha bomb shit.»\n",
    "    Kompet er jazza, og til tider herlig kaotisk. Stemmebiter, fioliner, pianokrydder, uidentifiserbare lyder og trommesaus er satt sammen til en velsmakende beatsuppe.\n",
    "    Platas beste låt er «Fishy Bizniz» hvor DonMartin tar steget ned til havet og viser hvordan en fisk kan svømme med integritet: «like cod, not odd not claiming the throne of the sea / no wannebees nor will you see us swimming on mtv / (...) I\\'m small and deadly like a pirana / I\\'m a lobster monster who will barel you like you was a tuna.»\n",
    "    Når hip hop-ens DDE, Klovner i Kamp, selger tusenvis med plater som smaker som Grandiosa, er det godt å se at noen fortsatt setter god smak i fokus. Eller som det står på bruksanvisningen på\n",
    "    The al dente ep:\n",
    "    Denne platen har blitt kokt ordentlig. Ikke for bløtt eller for hardt, ikke for langt eller for kort. Ikke for lite eller for mye. Men al dente.\n",
    "    \"\"\", \n",
    "    \"\"\"\n",
    "Ensomme og forlatte ting venter på å bli gjenoppdaget.\n",
    "    \"\"\",\n",
    "        \"\"\"\n",
    "Hip-hop vender tilbake til Afrika. Assyria oppstår på Internett. På Gotland spiller man didgeri... didsj... dusjerdu... Sånn australsk moteinstrument i bryllup. Betyr dette at vi er på vei mot paradiset?\n",
    "– Vi forsøker å finne indikasjoner på hvordan samfunnet forandres ved å se på hvordan musikken forandres, sier Dan Lundberg, forsker ved svenske Kungliga Musikaliska akademiens forskningsprosjekt Musik, Medier, Mångkultur.\n",
    "Kan man spå fremtiden ved musikk, og pensjonere spåkoner, statsvitere og aksjemeglerfirmaanalytikere? Kven kveit kvar kveita kvilar?\n",
    "Forelesning og lansering av bok om musikken som indikator på samfunnsutvikling. Institutt for musikk og teater 23. november klokken 14.00.\n",
    "    \"\"\",\n",
    "        \"\"\"\n",
    "Bill Hicks\n",
    "\n",
    "@spm:Philosophy: The best of Bill Hicks (Stand up)\n",
    "Rykodisk/Music Network\n",
    "Jeg skal gi deg to alternativer. Den røde eller den blå pillen. Svelger du den blå vil du våkne opp på neste side av Universitas. Gomlende på en brødskive vil du humre til\n",
    "Seinfeld og sette noen smuler i halsen når David Letterman halvhjertet vitser med at han ikke er morsom lenger. Du sovner og våkner til en ny dag.\n",
    "Tar du den røde pillen er det ingen vei tilbake. Sammenhenger rundt deg blir tydelige og selvfølgelige. Din naive tiltro muteres til kritisk mistro. Du ser på verden og får lyst til å gråte. Men istedet ler du en dyp og mørk latter. Velkommen til The Matr-Hicks.\n",
    "Du trodde Thomas Giertsen var morsom.\n",
    "«How much do you smoke? A pack an a half? You little puss. Why don\\'t you put on a dress and swish around for us?... I go through two lighters a day.»\n",
    "Du trodde Aslak Sira Myhre var USA-kritisk.\n",
    "«Don\\'t tell me the military is here to protect us. There\\'s no country out there that\\'s a fucking threat to us. Apapapap! Ok, I\\'m talking only about the countries we don\\'t arm first and then go blow fuck out of.»\n",
    "Du trodde Per Inge Torkelsen var ærlig.\n",
    "«Childbirth is no more a miracle than eating food and a turd coming out of your ass. Do you know what a miracle is? A miracle is raising a kid who doesn\\'t talk in a fucking movie theatre. There\\'s your god damn miracle.»\n",
    "Nå vet du bedre. Nå skjønner du hva stand up er.\n",
    "Den avdøde amerikanske stand up-komikeren Bill Hicks gis nå ut på samle-cd. _Philosophy_ er et tverrsnitt av et uovertruffent Stand up-materiale. Som ung komiker ble Hicks hjulpet frem av den da ukjente Jay Leno, men var altfor kontroversiell til å nå de samme høydene som talkshow-kongen. Som en larmende løgndetektor fra helvete satte han sine horn i siden på amerikanske maktmennesker.\n",
    "Lite i verden har forandret seg til det bedre siden Bill Hicks døde av kreft i 1994 bare 32 år gammel. Republikanerne er tilbake ved makten, Sylvester Stallone skriver Afghanistan-manus til Rambo IV og USA-kritiske sanger av Rage against the machine sensureres av amerikanske radiokanaler.\n",
    "Vi hadde trengt deg nå, Bill. Med ny utgivelse står du heldigvis og flirer i platebutikkene igjen.\n",
    "    \"\"\",\n",
    "        \"\"\"\n",
    "        STOCKHOLM: For få studerer svensk på høyt nivå, og det svenske språkets stilling er truet. Det er alt for få som fordyper seg i faget ved høgskolene og universitetene, konstaterer Høgskoleverket i Sverige, som har vurdert svenskutdanningen. Blant de 3300 som studerer svensk på heltid er det kun sju prosent som studerer på høyere nivå, ifølge Høgskoleverket. (Svenska Dagbladet\n",
    "\n",
    "    \"\"\",\n",
    "    ]\n",
    "           \n",
    "           "
   ]
  },
  {
   "cell_type": "code",
   "execution_count": 28,
   "metadata": {
    "collapsed": false
   },
   "outputs": [
    {
     "data": {
      "text/plain": [
       "['nn', 'nb', 'en']"
      ]
     },
     "execution_count": 28,
     "metadata": {},
     "output_type": "execute_result"
    }
   ],
   "source": [
    "sorted(score, reverse=True)"
   ]
  },
  {
   "cell_type": "code",
   "execution_count": 41,
   "metadata": {
    "collapsed": false
   },
   "outputs": [],
   "source": [
    "artiklar = Story.objects.filter(title__icontains='ein')"
   ]
  },
  {
   "cell_type": "code",
   "execution_count": 42,
   "metadata": {
    "collapsed": false
   },
   "outputs": [
    {
     "data": {
      "text/plain": [
       "97"
      ]
     },
     "execution_count": 42,
     "metadata": {},
     "output_type": "execute_result"
    }
   ],
   "source": [
    "artiklar.count()"
   ]
  },
  {
   "cell_type": "code",
   "execution_count": null,
   "metadata": {
    "collapsed": true
   },
   "outputs": [],
   "source": []
  }
 ],
 "metadata": {
  "kernelspec": {
   "display_name": "Django Shell-Plus",
   "language": "python",
   "name": "django_extensions"
  },
  "language_info": {
   "codemirror_mode": {
    "name": "ipython",
    "version": 3
   },
   "file_extension": ".py",
   "mimetype": "text/x-python",
   "name": "python",
   "nbconvert_exporter": "python",
   "pygments_lexer": "ipython3",
   "version": "3.4.3"
  }
 },
 "nbformat": 4,
 "nbformat_minor": 0
}
