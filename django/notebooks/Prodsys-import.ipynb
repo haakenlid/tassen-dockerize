{
 "cells": [
  {
   "cell_type": "code",
   "execution_count": null,
   "metadata": {
    "collapsed": true
   },
   "outputs": [],
   "source": [
    "def import_prodsys_content(\n",
    "        first=0,\n",
    "        last=None,\n",
    "        reverse=False,\n",
    "        replace_existing=False,\n",
    "        text_only=False,\n",
    "        autocrop=False):\n",
    "    \"\"\" Import all new stories from prodsys. \"\"\"\n",
    "    # status = [Prodsak.READY_FOR_WEB, ]\n",
    "    status = list(range(Prodsak.READY_FOR_WEB, Prodsak.ARCHIVED))\n",
    "    objects = Prodsak.objects.filter(produsert__in=status).values('prodsak_id').distinct()\n",
    "    objects.\n",
    "\n",
    "    if reverse:\n",
    "        objects = objects[::-1]\n",
    "    logger.info('Found {} stories to import'.format(len(objects)))\n",
    "    prodsak_ids = [obj['prodsak_id'] for obj in objects[first:last]]\n",
    "\n",
    "    import_images = not text_only\n",
    "    for prodsak_id in prodsak_ids:\n",
    "        _importer_prodsak(prodsak_id, replace_existing, autocrop, import_images)\n",
    "        Prodsak.objects.filter(\n",
    "            prodsak_id=prodsak_id, produsert__in=status\n",
    "        ).update(produsert=Prodsak.PUBLISHED_ON_WEB)\n",
    "\n",
    "    return len(prodsak_ids)"
   ]
  },
  {
   "cell_type": "code",
   "execution_count": 20,
   "metadata": {
    "collapsed": true
   },
   "outputs": [],
   "source": [
    "status = list(range(Prodsak.READY_FOR_WEB, Prodsak.ARCHIVED))\n",
    "prodsak_ids = Prodsak.objects.filter(produsert__in=status).values_list('prodsak_id', flat=True)\n",
    "prodsak_ids = sorted(set(prodsak_ids))"
   ]
  },
  {
   "cell_type": "code",
   "execution_count": 27,
   "metadata": {
    "collapsed": false
   },
   "outputs": [],
   "source": [
    "sorted?"
   ]
  },
  {
   "cell_type": "code",
   "execution_count": 3,
   "metadata": {
    "collapsed": true
   },
   "outputs": [],
   "source": [
    "items = Prodsak.objects.filter(produsert__in=status)"
   ]
  },
  {
   "cell_type": "code",
   "execution_count": 14,
   "metadata": {
    "collapsed": false
   },
   "outputs": [],
   "source": []
  },
  {
   "cell_type": "code",
   "execution_count": 19,
   "metadata": {
    "collapsed": false
   },
   "outputs": [
    {
     "data": {
      "text/plain": [
       "[20234,\n",
       " 20372,\n",
       " 20373,\n",
       " 20376,\n",
       " 20378,\n",
       " 20379,\n",
       " 20381,\n",
       " 20382,\n",
       " 20388,\n",
       " 20389,\n",
       " 20390,\n",
       " 20391,\n",
       " 20392,\n",
       " 20404,\n",
       " 20405,\n",
       " 20406,\n",
       " 20407,\n",
       " 20408,\n",
       " 20413,\n",
       " 20417,\n",
       " 20418,\n",
       " 20419,\n",
       " 20420,\n",
       " 20421,\n",
       " 20422,\n",
       " 20423,\n",
       " 20424,\n",
       " 20425,\n",
       " 20426,\n",
       " 20427,\n",
       " 20429,\n",
       " 20431,\n",
       " 20432,\n",
       " 20434,\n",
       " 20435,\n",
       " 20436,\n",
       " 20437,\n",
       " 20438,\n",
       " 20441,\n",
       " 20442,\n",
       " 20443,\n",
       " 20444,\n",
       " 20445,\n",
       " 20446,\n",
       " 20448,\n",
       " 20449,\n",
       " 20452,\n",
       " 20454,\n",
       " 20455,\n",
       " 20456,\n",
       " 20458,\n",
       " 20459,\n",
       " 20460,\n",
       " 20461,\n",
       " 20462,\n",
       " 20463,\n",
       " 20465,\n",
       " 20467,\n",
       " 20471,\n",
       " 20473,\n",
       " 20474,\n",
       " 20476,\n",
       " 20477,\n",
       " 20478,\n",
       " 20480,\n",
       " 20483,\n",
       " 20484,\n",
       " 20485,\n",
       " 20486,\n",
       " 20487,\n",
       " 20492,\n",
       " 20494,\n",
       " 20498,\n",
       " 20499,\n",
       " 20500,\n",
       " 20501,\n",
       " 20503,\n",
       " 20504,\n",
       " 20505,\n",
       " 20506,\n",
       " 20507,\n",
       " 20510,\n",
       " 20511,\n",
       " 20513,\n",
       " 20514,\n",
       " 20516,\n",
       " 20518,\n",
       " 20520,\n",
       " 20524,\n",
       " 20527,\n",
       " 20528,\n",
       " 20530,\n",
       " 20533,\n",
       " 20534,\n",
       " 20535,\n",
       " 20537,\n",
       " 20538,\n",
       " 20540,\n",
       " 20542,\n",
       " 20544]"
      ]
     },
     "execution_count": 19,
     "metadata": {},
     "output_type": "execute_result"
    }
   ],
   "source": [
    "sorted(set(prodsak_ids.values_list('prodsak_id', flat=True)))"
   ]
  },
  {
   "cell_type": "code",
   "execution_count": 18,
   "metadata": {
    "collapsed": false
   },
   "outputs": [
    {
     "ename": "NotImplementedError",
     "evalue": "DISTINCT ON fields is not supported by this database backend",
     "output_type": "error",
     "traceback": [
      "\u001b[1;31m---------------------------------------------------------------------------\u001b[0m",
      "\u001b[1;31mNotImplementedError\u001b[0m                       Traceback (most recent call last)",
      "\u001b[1;32m<ipython-input-18-77f971476aea>\u001b[0m in \u001b[0;36m<module>\u001b[1;34m()\u001b[0m\n\u001b[1;32m----> 1\u001b[1;33m \u001b[0mitems\u001b[0m\u001b[1;33m.\u001b[0m\u001b[0mdistinct\u001b[0m\u001b[1;33m(\u001b[0m\u001b[1;34m'prodsak_id'\u001b[0m\u001b[1;33m)\u001b[0m\u001b[1;33m.\u001b[0m\u001b[0mcount\u001b[0m\u001b[1;33m(\u001b[0m\u001b[1;33m)\u001b[0m\u001b[1;33m\u001b[0m\u001b[0m\n\u001b[0m",
      "\u001b[1;32m/srv/local.universitas.no/pyvenv/local.universitas.no/lib/python3.4/site-packages/django/db/models/query.py\u001b[0m in \u001b[0;36mcount\u001b[1;34m(self)\u001b[0m\n\u001b[0;32m    336\u001b[0m             \u001b[1;32mreturn\u001b[0m \u001b[0mlen\u001b[0m\u001b[1;33m(\u001b[0m\u001b[0mself\u001b[0m\u001b[1;33m.\u001b[0m\u001b[0m_result_cache\u001b[0m\u001b[1;33m)\u001b[0m\u001b[1;33m\u001b[0m\u001b[0m\n\u001b[0;32m    337\u001b[0m \u001b[1;33m\u001b[0m\u001b[0m\n\u001b[1;32m--> 338\u001b[1;33m         \u001b[1;32mreturn\u001b[0m \u001b[0mself\u001b[0m\u001b[1;33m.\u001b[0m\u001b[0mquery\u001b[0m\u001b[1;33m.\u001b[0m\u001b[0mget_count\u001b[0m\u001b[1;33m(\u001b[0m\u001b[0musing\u001b[0m\u001b[1;33m=\u001b[0m\u001b[0mself\u001b[0m\u001b[1;33m.\u001b[0m\u001b[0mdb\u001b[0m\u001b[1;33m)\u001b[0m\u001b[1;33m\u001b[0m\u001b[0m\n\u001b[0m\u001b[0;32m    339\u001b[0m \u001b[1;33m\u001b[0m\u001b[0m\n\u001b[0;32m    340\u001b[0m     \u001b[1;32mdef\u001b[0m \u001b[0mget\u001b[0m\u001b[1;33m(\u001b[0m\u001b[0mself\u001b[0m\u001b[1;33m,\u001b[0m \u001b[1;33m*\u001b[0m\u001b[0margs\u001b[0m\u001b[1;33m,\u001b[0m \u001b[1;33m**\u001b[0m\u001b[0mkwargs\u001b[0m\u001b[1;33m)\u001b[0m\u001b[1;33m:\u001b[0m\u001b[1;33m\u001b[0m\u001b[0m\n",
      "\u001b[1;32m/srv/local.universitas.no/pyvenv/local.universitas.no/lib/python3.4/site-packages/django/db/models/sql/query.py\u001b[0m in \u001b[0;36mget_count\u001b[1;34m(self, using)\u001b[0m\n\u001b[0;32m    414\u001b[0m             \u001b[0mobj\u001b[0m \u001b[1;33m=\u001b[0m \u001b[0mAggregateQuery\u001b[0m\u001b[1;33m(\u001b[0m\u001b[0mobj\u001b[0m\u001b[1;33m.\u001b[0m\u001b[0mmodel\u001b[0m\u001b[1;33m)\u001b[0m\u001b[1;33m\u001b[0m\u001b[0m\n\u001b[0;32m    415\u001b[0m             \u001b[1;32mtry\u001b[0m\u001b[1;33m:\u001b[0m\u001b[1;33m\u001b[0m\u001b[0m\n\u001b[1;32m--> 416\u001b[1;33m                 \u001b[0mobj\u001b[0m\u001b[1;33m.\u001b[0m\u001b[0madd_subquery\u001b[0m\u001b[1;33m(\u001b[0m\u001b[0msubquery\u001b[0m\u001b[1;33m,\u001b[0m \u001b[0musing\u001b[0m\u001b[1;33m=\u001b[0m\u001b[0musing\u001b[0m\u001b[1;33m)\u001b[0m\u001b[1;33m\u001b[0m\u001b[0m\n\u001b[0m\u001b[0;32m    417\u001b[0m             \u001b[1;32mexcept\u001b[0m \u001b[0mEmptyResultSet\u001b[0m\u001b[1;33m:\u001b[0m\u001b[1;33m\u001b[0m\u001b[0m\n\u001b[0;32m    418\u001b[0m                 \u001b[1;31m# add_subquery evaluates the query, if it's an EmptyResultSet\u001b[0m\u001b[1;33m\u001b[0m\u001b[1;33m\u001b[0m\u001b[0m\n",
      "\u001b[1;32m/srv/local.universitas.no/pyvenv/local.universitas.no/lib/python3.4/site-packages/django/db/models/sql/subqueries.py\u001b[0m in \u001b[0;36madd_subquery\u001b[1;34m(self, query, using)\u001b[0m\n\u001b[0;32m    283\u001b[0m \u001b[1;33m\u001b[0m\u001b[0m\n\u001b[0;32m    284\u001b[0m     \u001b[1;32mdef\u001b[0m \u001b[0madd_subquery\u001b[0m\u001b[1;33m(\u001b[0m\u001b[0mself\u001b[0m\u001b[1;33m,\u001b[0m \u001b[0mquery\u001b[0m\u001b[1;33m,\u001b[0m \u001b[0musing\u001b[0m\u001b[1;33m)\u001b[0m\u001b[1;33m:\u001b[0m\u001b[1;33m\u001b[0m\u001b[0m\n\u001b[1;32m--> 285\u001b[1;33m         \u001b[0mself\u001b[0m\u001b[1;33m.\u001b[0m\u001b[0msubquery\u001b[0m\u001b[1;33m,\u001b[0m \u001b[0mself\u001b[0m\u001b[1;33m.\u001b[0m\u001b[0msub_params\u001b[0m \u001b[1;33m=\u001b[0m \u001b[0mquery\u001b[0m\u001b[1;33m.\u001b[0m\u001b[0mget_compiler\u001b[0m\u001b[1;33m(\u001b[0m\u001b[0musing\u001b[0m\u001b[1;33m)\u001b[0m\u001b[1;33m.\u001b[0m\u001b[0mas_sql\u001b[0m\u001b[1;33m(\u001b[0m\u001b[0mwith_col_aliases\u001b[0m\u001b[1;33m=\u001b[0m\u001b[1;32mTrue\u001b[0m\u001b[1;33m)\u001b[0m\u001b[1;33m\u001b[0m\u001b[0m\n\u001b[0m",
      "\u001b[1;32m/srv/local.universitas.no/pyvenv/local.universitas.no/lib/python3.4/site-packages/django/db/models/sql/compiler.py\u001b[0m in \u001b[0;36mas_sql\u001b[1;34m(self, with_limits, with_col_aliases)\u001b[0m\n\u001b[0;32m    117\u001b[0m \u001b[1;33m\u001b[0m\u001b[0m\n\u001b[0;32m    118\u001b[0m         \u001b[1;32mif\u001b[0m \u001b[0mself\u001b[0m\u001b[1;33m.\u001b[0m\u001b[0mquery\u001b[0m\u001b[1;33m.\u001b[0m\u001b[0mdistinct\u001b[0m\u001b[1;33m:\u001b[0m\u001b[1;33m\u001b[0m\u001b[0m\n\u001b[1;32m--> 119\u001b[1;33m             \u001b[0mresult\u001b[0m\u001b[1;33m.\u001b[0m\u001b[0mappend\u001b[0m\u001b[1;33m(\u001b[0m\u001b[0mself\u001b[0m\u001b[1;33m.\u001b[0m\u001b[0mconnection\u001b[0m\u001b[1;33m.\u001b[0m\u001b[0mops\u001b[0m\u001b[1;33m.\u001b[0m\u001b[0mdistinct_sql\u001b[0m\u001b[1;33m(\u001b[0m\u001b[0mdistinct_fields\u001b[0m\u001b[1;33m)\u001b[0m\u001b[1;33m)\u001b[0m\u001b[1;33m\u001b[0m\u001b[0m\n\u001b[0m\u001b[0;32m    120\u001b[0m \u001b[1;33m\u001b[0m\u001b[0m\n\u001b[0;32m    121\u001b[0m         \u001b[0mresult\u001b[0m\u001b[1;33m.\u001b[0m\u001b[0mappend\u001b[0m\u001b[1;33m(\u001b[0m\u001b[1;34m', '\u001b[0m\u001b[1;33m.\u001b[0m\u001b[0mjoin\u001b[0m\u001b[1;33m(\u001b[0m\u001b[0mout_cols\u001b[0m \u001b[1;33m+\u001b[0m \u001b[0mself\u001b[0m\u001b[1;33m.\u001b[0m\u001b[0mordering_aliases\u001b[0m\u001b[1;33m)\u001b[0m\u001b[1;33m)\u001b[0m\u001b[1;33m\u001b[0m\u001b[0m\n",
      "\u001b[1;32m/srv/local.universitas.no/pyvenv/local.universitas.no/lib/python3.4/site-packages/django/db/backends/__init__.py\u001b[0m in \u001b[0;36mdistinct_sql\u001b[1;34m(self, fields)\u001b[0m\n\u001b[0;32m    906\u001b[0m         \"\"\"\n\u001b[0;32m    907\u001b[0m         \u001b[1;32mif\u001b[0m \u001b[0mfields\u001b[0m\u001b[1;33m:\u001b[0m\u001b[1;33m\u001b[0m\u001b[0m\n\u001b[1;32m--> 908\u001b[1;33m             \u001b[1;32mraise\u001b[0m \u001b[0mNotImplementedError\u001b[0m\u001b[1;33m(\u001b[0m\u001b[1;34m'DISTINCT ON fields is not supported by this database backend'\u001b[0m\u001b[1;33m)\u001b[0m\u001b[1;33m\u001b[0m\u001b[0m\n\u001b[0m\u001b[0;32m    909\u001b[0m         \u001b[1;32melse\u001b[0m\u001b[1;33m:\u001b[0m\u001b[1;33m\u001b[0m\u001b[0m\n\u001b[0;32m    910\u001b[0m             \u001b[1;32mreturn\u001b[0m \u001b[1;34m'DISTINCT'\u001b[0m\u001b[1;33m\u001b[0m\u001b[0m\n",
      "\u001b[1;31mNotImplementedError\u001b[0m: DISTINCT ON fields is not supported by this database backend"
     ]
    }
   ],
   "source": [
    "items.distinct('prodsak_id')"
   ]
  },
  {
   "cell_type": "code",
   "execution_count": 17,
   "metadata": {
    "collapsed": false
   },
   "outputs": [
    {
     "data": {
      "text/plain": [
       "[<Prodsak: Prodsak object>, <Prodsak: Prodsak object>, <Prodsak: Prodsak object>, <Prodsak: Prodsak object>, <Prodsak: Prodsak object>, <Prodsak: Prodsak object>, <Prodsak: Prodsak object>, <Prodsak: Prodsak object>, <Prodsak: Prodsak object>, <Prodsak: Prodsak object>, <Prodsak: Prodsak object>, <Prodsak: Prodsak object>, <Prodsak: Prodsak object>, <Prodsak: Prodsak object>, <Prodsak: Prodsak object>, <Prodsak: Prodsak object>, <Prodsak: Prodsak object>, <Prodsak: Prodsak object>, <Prodsak: Prodsak object>, <Prodsak: Prodsak object>, '...(remaining elements truncated)...']"
      ]
     },
     "execution_count": 17,
     "metadata": {},
     "output_type": "execute_result"
    }
   ],
   "source": [
    "items"
   ]
  }
 ],
 "metadata": {
  "kernelspec": {
   "display_name": "Django Shell-Plus",
   "language": "python",
   "name": "django_extensions"
  },
  "language_info": {
   "codemirror_mode": {
    "name": "ipython",
    "version": 3
   },
   "file_extension": ".py",
   "mimetype": "text/x-python",
   "name": "python",
   "nbconvert_exporter": "python",
   "pygments_lexer": "ipython3",
   "version": "3.4.2"
  }
 },
 "nbformat": 4,
 "nbformat_minor": 0
}
